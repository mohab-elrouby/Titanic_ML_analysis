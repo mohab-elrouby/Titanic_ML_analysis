{
 "cells": [
  {
   "cell_type": "code",
   "execution_count": 1,
   "metadata": {},
   "outputs": [],
   "source": [
    "import pandas as pd\n",
    "import numpy as np\n",
    "import matplotlib.pyplot as plt\n",
    "import seaborn as sns\n",
    "from sklearn.model_selection import train_test_split\n",
    "\n",
    "%matplotlib inline\n",
    "pd.set_option('display.max_columns', 40)\n",
    "\n"
   ]
  },
  {
   "cell_type": "code",
   "execution_count": 2,
   "metadata": {},
   "outputs": [
    {
     "name": "stdout",
     "output_type": "stream",
     "text": [
      "The shape of the training dataset is: (891, 12)\n"
     ]
    },
    {
     "data": {
      "text/plain": [
       "survived      int64\n",
       "pclass        int64\n",
       "name         object\n",
       "sex          object\n",
       "age         float64\n",
       "sibsp         int64\n",
       "parch         int64\n",
       "ticket       object\n",
       "fare        float64\n",
       "cabin        object\n",
       "embarked     object\n",
       "dtype: object"
      ]
     },
     "execution_count": 2,
     "metadata": {},
     "output_type": "execute_result"
    }
   ],
   "source": [
    "df = pd.read_csv('train.csv', header = 0)\n",
    "print('The shape of the training dataset is:', df.shape)\n",
    "df.rename(columns= lambda x: x.lower(), inplace = True)\n",
    "df.set_index('passengerid', inplace=True)\n",
    "df.dtypes"
   ]
  },
  {
   "cell_type": "code",
   "execution_count": 3,
   "metadata": {},
   "outputs": [
    {
     "name": "stdout",
     "output_type": "stream",
     "text": [
      "<class 'pandas.core.frame.DataFrame'>\n",
      "Int64Index: 891 entries, 1 to 891\n",
      "Data columns (total 11 columns):\n",
      " #   Column    Non-Null Count  Dtype  \n",
      "---  ------    --------------  -----  \n",
      " 0   survived  891 non-null    int64  \n",
      " 1   pclass    891 non-null    int64  \n",
      " 2   name      891 non-null    object \n",
      " 3   sex       891 non-null    object \n",
      " 4   age       714 non-null    float64\n",
      " 5   sibsp     891 non-null    int64  \n",
      " 6   parch     891 non-null    int64  \n",
      " 7   ticket    891 non-null    object \n",
      " 8   fare      891 non-null    float64\n",
      " 9   cabin     204 non-null    object \n",
      " 10  embarked  889 non-null    object \n",
      "dtypes: float64(2), int64(4), object(5)\n",
      "memory usage: 83.5+ KB\n"
     ]
    }
   ],
   "source": [
    "df.info()"
   ]
  },
  {
   "cell_type": "code",
   "execution_count": 4,
   "metadata": {},
   "outputs": [
    {
     "data": {
      "text/plain": [
       "survived     0.00\n",
       "pclass       0.00\n",
       "name         0.00\n",
       "sex          0.00\n",
       "age         19.87\n",
       "sibsp        0.00\n",
       "parch        0.00\n",
       "ticket       0.00\n",
       "fare         0.00\n",
       "cabin       77.10\n",
       "embarked     0.22\n",
       "dtype: float64"
      ]
     },
     "execution_count": 4,
     "metadata": {},
     "output_type": "execute_result"
    }
   ],
   "source": [
    "round(df.isnull().sum(axis=0)*100/df.shape[0],2)"
   ]
  },
  {
   "cell_type": "code",
   "execution_count": 5,
   "metadata": {},
   "outputs": [
    {
     "data": {
      "text/html": [
       "<div>\n",
       "<style scoped>\n",
       "    .dataframe tbody tr th:only-of-type {\n",
       "        vertical-align: middle;\n",
       "    }\n",
       "\n",
       "    .dataframe tbody tr th {\n",
       "        vertical-align: top;\n",
       "    }\n",
       "\n",
       "    .dataframe thead th {\n",
       "        text-align: right;\n",
       "    }\n",
       "</style>\n",
       "<table border=\"1\" class=\"dataframe\">\n",
       "  <thead>\n",
       "    <tr style=\"text-align: right;\">\n",
       "      <th></th>\n",
       "      <th>survived</th>\n",
       "      <th>pclass</th>\n",
       "      <th>age</th>\n",
       "      <th>sibsp</th>\n",
       "      <th>parch</th>\n",
       "      <th>fare</th>\n",
       "    </tr>\n",
       "  </thead>\n",
       "  <tbody>\n",
       "    <tr>\n",
       "      <th>count</th>\n",
       "      <td>891.000000</td>\n",
       "      <td>891.000000</td>\n",
       "      <td>714.000000</td>\n",
       "      <td>891.000000</td>\n",
       "      <td>891.000000</td>\n",
       "      <td>891.000000</td>\n",
       "    </tr>\n",
       "    <tr>\n",
       "      <th>mean</th>\n",
       "      <td>0.383838</td>\n",
       "      <td>2.308642</td>\n",
       "      <td>29.699118</td>\n",
       "      <td>0.523008</td>\n",
       "      <td>0.381594</td>\n",
       "      <td>32.204208</td>\n",
       "    </tr>\n",
       "    <tr>\n",
       "      <th>std</th>\n",
       "      <td>0.486592</td>\n",
       "      <td>0.836071</td>\n",
       "      <td>14.526497</td>\n",
       "      <td>1.102743</td>\n",
       "      <td>0.806057</td>\n",
       "      <td>49.693429</td>\n",
       "    </tr>\n",
       "    <tr>\n",
       "      <th>min</th>\n",
       "      <td>0.000000</td>\n",
       "      <td>1.000000</td>\n",
       "      <td>0.420000</td>\n",
       "      <td>0.000000</td>\n",
       "      <td>0.000000</td>\n",
       "      <td>0.000000</td>\n",
       "    </tr>\n",
       "    <tr>\n",
       "      <th>25%</th>\n",
       "      <td>0.000000</td>\n",
       "      <td>2.000000</td>\n",
       "      <td>20.125000</td>\n",
       "      <td>0.000000</td>\n",
       "      <td>0.000000</td>\n",
       "      <td>7.910400</td>\n",
       "    </tr>\n",
       "    <tr>\n",
       "      <th>50%</th>\n",
       "      <td>0.000000</td>\n",
       "      <td>3.000000</td>\n",
       "      <td>28.000000</td>\n",
       "      <td>0.000000</td>\n",
       "      <td>0.000000</td>\n",
       "      <td>14.454200</td>\n",
       "    </tr>\n",
       "    <tr>\n",
       "      <th>75%</th>\n",
       "      <td>1.000000</td>\n",
       "      <td>3.000000</td>\n",
       "      <td>38.000000</td>\n",
       "      <td>1.000000</td>\n",
       "      <td>0.000000</td>\n",
       "      <td>31.000000</td>\n",
       "    </tr>\n",
       "    <tr>\n",
       "      <th>max</th>\n",
       "      <td>1.000000</td>\n",
       "      <td>3.000000</td>\n",
       "      <td>80.000000</td>\n",
       "      <td>8.000000</td>\n",
       "      <td>6.000000</td>\n",
       "      <td>512.329200</td>\n",
       "    </tr>\n",
       "  </tbody>\n",
       "</table>\n",
       "</div>"
      ],
      "text/plain": [
       "         survived      pclass         age       sibsp       parch        fare\n",
       "count  891.000000  891.000000  714.000000  891.000000  891.000000  891.000000\n",
       "mean     0.383838    2.308642   29.699118    0.523008    0.381594   32.204208\n",
       "std      0.486592    0.836071   14.526497    1.102743    0.806057   49.693429\n",
       "min      0.000000    1.000000    0.420000    0.000000    0.000000    0.000000\n",
       "25%      0.000000    2.000000   20.125000    0.000000    0.000000    7.910400\n",
       "50%      0.000000    3.000000   28.000000    0.000000    0.000000   14.454200\n",
       "75%      1.000000    3.000000   38.000000    1.000000    0.000000   31.000000\n",
       "max      1.000000    3.000000   80.000000    8.000000    6.000000  512.329200"
      ]
     },
     "execution_count": 5,
     "metadata": {},
     "output_type": "execute_result"
    }
   ],
   "source": [
    " df.describe()"
   ]
  },
  {
   "cell_type": "code",
   "execution_count": 6,
   "metadata": {},
   "outputs": [
    {
     "data": {
      "text/html": [
       "<div>\n",
       "<style scoped>\n",
       "    .dataframe tbody tr th:only-of-type {\n",
       "        vertical-align: middle;\n",
       "    }\n",
       "\n",
       "    .dataframe tbody tr th {\n",
       "        vertical-align: top;\n",
       "    }\n",
       "\n",
       "    .dataframe thead th {\n",
       "        text-align: right;\n",
       "    }\n",
       "</style>\n",
       "<table border=\"1\" class=\"dataframe\">\n",
       "  <thead>\n",
       "    <tr style=\"text-align: right;\">\n",
       "      <th></th>\n",
       "      <th>survived</th>\n",
       "      <th>pclass</th>\n",
       "      <th>name</th>\n",
       "      <th>sex</th>\n",
       "      <th>age</th>\n",
       "      <th>sibsp</th>\n",
       "      <th>parch</th>\n",
       "      <th>ticket</th>\n",
       "      <th>fare</th>\n",
       "      <th>cabin</th>\n",
       "      <th>embarked</th>\n",
       "    </tr>\n",
       "    <tr>\n",
       "      <th>passengerid</th>\n",
       "      <th></th>\n",
       "      <th></th>\n",
       "      <th></th>\n",
       "      <th></th>\n",
       "      <th></th>\n",
       "      <th></th>\n",
       "      <th></th>\n",
       "      <th></th>\n",
       "      <th></th>\n",
       "      <th></th>\n",
       "      <th></th>\n",
       "    </tr>\n",
       "  </thead>\n",
       "  <tbody>\n",
       "  </tbody>\n",
       "</table>\n",
       "</div>"
      ],
      "text/plain": [
       "Empty DataFrame\n",
       "Columns: [survived, pclass, name, sex, age, sibsp, parch, ticket, fare, cabin, embarked]\n",
       "Index: []"
      ]
     },
     "execution_count": 6,
     "metadata": {},
     "output_type": "execute_result"
    }
   ],
   "source": [
    "#checking for any duplicate passengers\n",
    "df[df.duplicated(keep=False, subset = ['name'])]\n",
    "#none were found"
   ]
  },
  {
   "cell_type": "code",
   "execution_count": 7,
   "metadata": {},
   "outputs": [
    {
     "data": {
      "text/plain": [
       "male      577\n",
       "female    314\n",
       "Name: sex, dtype: int64"
      ]
     },
     "execution_count": 7,
     "metadata": {},
     "output_type": "execute_result"
    }
   ],
   "source": [
    "df.sex.value_counts()"
   ]
  },
  {
   "cell_type": "code",
   "execution_count": 8,
   "metadata": {},
   "outputs": [
    {
     "data": {
      "text/plain": [
       "0    549\n",
       "1    342\n",
       "Name: survived, dtype: int64"
      ]
     },
     "execution_count": 8,
     "metadata": {},
     "output_type": "execute_result"
    }
   ],
   "source": [
    "df['survived'].value_counts()"
   ]
  },
  {
   "cell_type": "code",
   "execution_count": 9,
   "metadata": {},
   "outputs": [
    {
     "data": {
      "text/plain": [
       "array(['S', 'C', 'Q', nan], dtype=object)"
      ]
     },
     "execution_count": 9,
     "metadata": {},
     "output_type": "execute_result"
    }
   ],
   "source": [
    "df['embarked'].unique()"
   ]
  },
  {
   "cell_type": "code",
   "execution_count": 10,
   "metadata": {},
   "outputs": [
    {
     "data": {
      "text/plain": [
       "(array([ 44.,  20.,  19.,  96., 122., 108.,  88.,  67.,  47.,  39.,  24.,\n",
       "         18.,  14.,   3.,   4.,   1.]),\n",
       " array([ 0.42,  5.42, 10.42, 15.42, 20.42, 25.42, 30.42, 35.42, 40.42,\n",
       "        45.42, 50.42, 55.42, 60.42, 65.42, 70.42, 75.42, 80.42]),\n",
       " <a list of 16 Patch objects>)"
      ]
     },
     "execution_count": 10,
     "metadata": {},
     "output_type": "execute_result"
    },
    {
     "data": {
      "image/png": "[encoded data removed]",
      "text/plain": [
       "<Figure size 432x288 with 1 Axes>"
      ]
     },
     "metadata": {
      "needs_background": "light"
     },
     "output_type": "display_data"
    }
   ],
   "source": [
    "bins=np.arange(df.age.min(),df.age.max()+5,5)\n",
    "plt.hist(data=df,x='age',bins=bins, rwidth=.9)"
   ]
  },
  {
   "cell_type": "code",
   "execution_count": 11,
   "metadata": {},
   "outputs": [
    {
     "data": {
      "image/png": "[encoded data removed]",
      "text/plain": [
       "<Figure size 720x720 with 4 Axes>"
      ]
     },
     "metadata": {
      "needs_background": "light"
     },
     "output_type": "display_data"
    }
   ],
   "source": [
    "cols = [\"sex\", \"pclass\", \"sibsp\", \"parch\"]\n",
    "n_rows = 2\n",
    "n_cols = 2\n",
    "fig, axs = plt.subplots(n_rows, n_cols, figsize = (n_cols * 5, n_rows*5)) \n",
    "\n",
    "for r in range(0, n_rows):\n",
    "    for c in range(0, n_cols):\n",
    "        i = r*n_cols +c\n",
    "        ax = axs[r][c]\n",
    "        sns.countplot(df[cols[i]], hue=df['survived'], ax=ax)\n",
    "        ax.legend(title = 'survived', loc = 'upper center')\n",
    "\n",
    "plt.show()"
   ]
  },
  {
   "cell_type": "code",
   "execution_count": 12,
   "metadata": {},
   "outputs": [
    {
     "data": {
      "image/png": "[encoded data removed]",
      "text/plain": [
       "<Figure size 2160x720 with 3 Axes>"
      ]
     },
     "metadata": {
      "needs_background": "light"
     },
     "output_type": "display_data"
    },
    {
     "name": "stdout",
     "output_type": "stream",
     "text": [
      "(-0.512, 64.041]      773\n",
      "(64.041, 128.082]      80\n",
      "(128.082, 192.123]     18\n",
      "(192.123, 256.165]     11\n",
      "(256.165, 320.206]      6\n",
      "(448.288, 512.329]      3\n",
      "(384.247, 448.288]      0\n",
      "(320.206, 384.247]      0\n",
      "Name: fare, dtype: int64\n",
      "\n",
      "(20.315, 30.263]    230\n",
      "(30.263, 40.21]     155\n",
      "(10.368, 20.315]    115\n",
      "(40.21, 50.158]      86\n",
      "(0.34, 10.368]       64\n",
      "(50.158, 60.105]     42\n",
      "(60.105, 70.052]     17\n",
      "(70.052, 80.0]        5\n",
      "Name: age, dtype: int64\n"
     ]
    }
   ],
   "source": [
    "cols = [\"embarked\", \"fare\", \"age\"]\n",
    "discrete = df.copy()\n",
    "discrete ['fare'] = pd.cut(discrete['fare'], bins=8) # discretised\n",
    "discrete['age'] = pd.cut(discrete['age'], bins=8) # discretised\n",
    "\n",
    "n_rows = 1\n",
    "n_cols = 3\n",
    "\n",
    "fig, axs = plt.subplots(n_rows, n_cols, figsize = (n_cols * 10, n_rows*10)) \n",
    "\n",
    "for c in range(0, n_cols):\n",
    "    i = c\n",
    "    ax = axs[c]\n",
    "    sns.countplot(discrete[cols[i]], hue=discrete['survived'], ax=ax)\n",
    "    ax.legend(title = 'survived', loc = 'upper center')\n",
    "\n",
    "plt.show()\n",
    "print(discrete.fare.value_counts())\n",
    "print(\"\")\n",
    "print(discrete.age.value_counts())"
   ]
  },
  {
   "cell_type": "markdown",
   "metadata": {},
   "source": [
    "# finished exploring the data.\n",
    "## problems to be handeled:\n",
    "- drop the \"cabin\" column, since over 77% of it is null values.\n",
    "- drop the rows that have null in the \"embarked\" column\n",
    "- fill the null values of age with the mean.\n",
    "- drop all the trivial features i.e (name, ticket) \n",
    "- move survived column to the very right (just for readability)"
   ]
  },
  {
   "cell_type": "code",
   "execution_count": 13,
   "metadata": {},
   "outputs": [],
   "source": [
    "df_copy=df.copy()"
   ]
  },
  {
   "cell_type": "code",
   "execution_count": 14,
   "metadata": {},
   "outputs": [],
   "source": [
    "#dropped the cabin column & the trivial features\n",
    "df.drop(['cabin', 'name', 'ticket'], axis = 1, inplace=True)"
   ]
  },
  {
   "cell_type": "code",
   "execution_count": 15,
   "metadata": {},
   "outputs": [
    {
     "name": "stdout",
     "output_type": "stream",
     "text": [
      "889\n"
     ]
    },
    {
     "data": {
      "text/plain": [
       "<bound method IndexOpsMixin.value_counts of passengerid\n",
       "1      22.000000\n",
       "2      38.000000\n",
       "3      26.000000\n",
       "4      35.000000\n",
       "5      35.000000\n",
       "         ...    \n",
       "887    27.000000\n",
       "888    19.000000\n",
       "889    29.642093\n",
       "890    26.000000\n",
       "891    32.000000\n",
       "Name: age, Length: 889, dtype: float64>"
      ]
     },
     "execution_count": 15,
     "metadata": {},
     "output_type": "execute_result"
    }
   ],
   "source": [
    "df = df.dropna(subset=['embarked'])\n",
    "print(len(df))\n",
    "df['age'] = df['age'].fillna(df['age'].mean())\n",
    "df['age'].value_counts"
   ]
  },
  {
   "cell_type": "code",
   "execution_count": 16,
   "metadata": {},
   "outputs": [
    {
     "data": {
      "text/plain": [
       "survived    0.0\n",
       "pclass      0.0\n",
       "sex         0.0\n",
       "age         0.0\n",
       "sibsp       0.0\n",
       "parch       0.0\n",
       "fare        0.0\n",
       "embarked    0.0\n",
       "dtype: float64"
      ]
     },
     "execution_count": 16,
     "metadata": {},
     "output_type": "execute_result"
    }
   ],
   "source": [
    "round(df.isnull().sum(axis=0)*100/df.shape[0],2)"
   ]
  },
  {
   "cell_type": "code",
   "execution_count": 17,
   "metadata": {},
   "outputs": [
    {
     "data": {
      "text/html": [
       "<div>\n",
       "<style scoped>\n",
       "    .dataframe tbody tr th:only-of-type {\n",
       "        vertical-align: middle;\n",
       "    }\n",
       "\n",
       "    .dataframe tbody tr th {\n",
       "        vertical-align: top;\n",
       "    }\n",
       "\n",
       "    .dataframe thead th {\n",
       "        text-align: right;\n",
       "    }\n",
       "</style>\n",
       "<table border=\"1\" class=\"dataframe\">\n",
       "  <thead>\n",
       "    <tr style=\"text-align: right;\">\n",
       "      <th></th>\n",
       "      <th>survived</th>\n",
       "      <th>pclass</th>\n",
       "      <th>sex</th>\n",
       "      <th>age</th>\n",
       "      <th>sibsp</th>\n",
       "      <th>parch</th>\n",
       "      <th>fare</th>\n",
       "      <th>embarked</th>\n",
       "    </tr>\n",
       "    <tr>\n",
       "      <th>passengerid</th>\n",
       "      <th></th>\n",
       "      <th></th>\n",
       "      <th></th>\n",
       "      <th></th>\n",
       "      <th></th>\n",
       "      <th></th>\n",
       "      <th></th>\n",
       "      <th></th>\n",
       "    </tr>\n",
       "  </thead>\n",
       "  <tbody>\n",
       "    <tr>\n",
       "      <th>1</th>\n",
       "      <td>0</td>\n",
       "      <td>3</td>\n",
       "      <td>male</td>\n",
       "      <td>22.000000</td>\n",
       "      <td>1</td>\n",
       "      <td>0</td>\n",
       "      <td>7.2500</td>\n",
       "      <td>S</td>\n",
       "    </tr>\n",
       "    <tr>\n",
       "      <th>2</th>\n",
       "      <td>1</td>\n",
       "      <td>1</td>\n",
       "      <td>female</td>\n",
       "      <td>38.000000</td>\n",
       "      <td>1</td>\n",
       "      <td>0</td>\n",
       "      <td>71.2833</td>\n",
       "      <td>C</td>\n",
       "    </tr>\n",
       "    <tr>\n",
       "      <th>3</th>\n",
       "      <td>1</td>\n",
       "      <td>3</td>\n",
       "      <td>female</td>\n",
       "      <td>26.000000</td>\n",
       "      <td>0</td>\n",
       "      <td>0</td>\n",
       "      <td>7.9250</td>\n",
       "      <td>S</td>\n",
       "    </tr>\n",
       "    <tr>\n",
       "      <th>4</th>\n",
       "      <td>1</td>\n",
       "      <td>1</td>\n",
       "      <td>female</td>\n",
       "      <td>35.000000</td>\n",
       "      <td>1</td>\n",
       "      <td>0</td>\n",
       "      <td>53.1000</td>\n",
       "      <td>S</td>\n",
       "    </tr>\n",
       "    <tr>\n",
       "      <th>5</th>\n",
       "      <td>0</td>\n",
       "      <td>3</td>\n",
       "      <td>male</td>\n",
       "      <td>35.000000</td>\n",
       "      <td>0</td>\n",
       "      <td>0</td>\n",
       "      <td>8.0500</td>\n",
       "      <td>S</td>\n",
       "    </tr>\n",
       "    <tr>\n",
       "      <th>...</th>\n",
       "      <td>...</td>\n",
       "      <td>...</td>\n",
       "      <td>...</td>\n",
       "      <td>...</td>\n",
       "      <td>...</td>\n",
       "      <td>...</td>\n",
       "      <td>...</td>\n",
       "      <td>...</td>\n",
       "    </tr>\n",
       "    <tr>\n",
       "      <th>887</th>\n",
       "      <td>0</td>\n",
       "      <td>2</td>\n",
       "      <td>male</td>\n",
       "      <td>27.000000</td>\n",
       "      <td>0</td>\n",
       "      <td>0</td>\n",
       "      <td>13.0000</td>\n",
       "      <td>S</td>\n",
       "    </tr>\n",
       "    <tr>\n",
       "      <th>888</th>\n",
       "      <td>1</td>\n",
       "      <td>1</td>\n",
       "      <td>female</td>\n",
       "      <td>19.000000</td>\n",
       "      <td>0</td>\n",
       "      <td>0</td>\n",
       "      <td>30.0000</td>\n",
       "      <td>S</td>\n",
       "    </tr>\n",
       "    <tr>\n",
       "      <th>889</th>\n",
       "      <td>0</td>\n",
       "      <td>3</td>\n",
       "      <td>female</td>\n",
       "      <td>29.642093</td>\n",
       "      <td>1</td>\n",
       "      <td>2</td>\n",
       "      <td>23.4500</td>\n",
       "      <td>S</td>\n",
       "    </tr>\n",
       "    <tr>\n",
       "      <th>890</th>\n",
       "      <td>1</td>\n",
       "      <td>1</td>\n",
       "      <td>male</td>\n",
       "      <td>26.000000</td>\n",
       "      <td>0</td>\n",
       "      <td>0</td>\n",
       "      <td>30.0000</td>\n",
       "      <td>C</td>\n",
       "    </tr>\n",
       "    <tr>\n",
       "      <th>891</th>\n",
       "      <td>0</td>\n",
       "      <td>3</td>\n",
       "      <td>male</td>\n",
       "      <td>32.000000</td>\n",
       "      <td>0</td>\n",
       "      <td>0</td>\n",
       "      <td>7.7500</td>\n",
       "      <td>Q</td>\n",
       "    </tr>\n",
       "  </tbody>\n",
       "</table>\n",
       "<p>889 rows × 8 columns</p>\n",
       "</div>"
      ],
      "text/plain": [
       "             survived  pclass     sex        age  sibsp  parch     fare  \\\n",
       "passengerid                                                               \n",
       "1                   0       3    male  22.000000      1      0   7.2500   \n",
       "2                   1       1  female  38.000000      1      0  71.2833   \n",
       "3                   1       3  female  26.000000      0      0   7.9250   \n",
       "4                   1       1  female  35.000000      1      0  53.1000   \n",
       "5                   0       3    male  35.000000      0      0   8.0500   \n",
       "...               ...     ...     ...        ...    ...    ...      ...   \n",
       "887                 0       2    male  27.000000      0      0  13.0000   \n",
       "888                 1       1  female  19.000000      0      0  30.0000   \n",
       "889                 0       3  female  29.642093      1      2  23.4500   \n",
       "890                 1       1    male  26.000000      0      0  30.0000   \n",
       "891                 0       3    male  32.000000      0      0   7.7500   \n",
       "\n",
       "            embarked  \n",
       "passengerid           \n",
       "1                  S  \n",
       "2                  C  \n",
       "3                  S  \n",
       "4                  S  \n",
       "5                  S  \n",
       "...              ...  \n",
       "887                S  \n",
       "888                S  \n",
       "889                S  \n",
       "890                C  \n",
       "891                Q  \n",
       "\n",
       "[889 rows x 8 columns]"
      ]
     },
     "execution_count": 17,
     "metadata": {},
     "output_type": "execute_result"
    }
   ],
   "source": [
    "df"
   ]
  },
  {
   "cell_type": "code",
   "execution_count": 18,
   "metadata": {},
   "outputs": [],
   "source": [
    "#removing survived column then adding it at the end\n",
    "df = df.drop(columns=['survived']).assign(survived = df['survived'])"
   ]
  },
  {
   "cell_type": "code",
   "execution_count": 19,
   "metadata": {},
   "outputs": [
    {
     "data": {
      "text/plain": [
       "pclass        int64\n",
       "sex          object\n",
       "age         float64\n",
       "sibsp         int64\n",
       "parch         int64\n",
       "fare        float64\n",
       "embarked     object\n",
       "survived      int64\n",
       "dtype: object"
      ]
     },
     "execution_count": 19,
     "metadata": {},
     "output_type": "execute_result"
    }
   ],
   "source": [
    "df.dtypes"
   ]
  },
  {
   "cell_type": "code",
   "execution_count": 20,
   "metadata": {},
   "outputs": [
    {
     "data": {
      "text/html": [
       "<div>\n",
       "<style scoped>\n",
       "    .dataframe tbody tr th:only-of-type {\n",
       "        vertical-align: middle;\n",
       "    }\n",
       "\n",
       "    .dataframe tbody tr th {\n",
       "        vertical-align: top;\n",
       "    }\n",
       "\n",
       "    .dataframe thead th {\n",
       "        text-align: right;\n",
       "    }\n",
       "</style>\n",
       "<table border=\"1\" class=\"dataframe\">\n",
       "  <thead>\n",
       "    <tr style=\"text-align: right;\">\n",
       "      <th></th>\n",
       "      <th>age</th>\n",
       "      <th>sibsp</th>\n",
       "      <th>parch</th>\n",
       "      <th>fare</th>\n",
       "      <th>pclass_2</th>\n",
       "      <th>pclass_3</th>\n",
       "      <th>sex_male</th>\n",
       "      <th>embarked_Q</th>\n",
       "      <th>embarked_S</th>\n",
       "      <th>survived</th>\n",
       "    </tr>\n",
       "    <tr>\n",
       "      <th>passengerid</th>\n",
       "      <th></th>\n",
       "      <th></th>\n",
       "      <th></th>\n",
       "      <th></th>\n",
       "      <th></th>\n",
       "      <th></th>\n",
       "      <th></th>\n",
       "      <th></th>\n",
       "      <th></th>\n",
       "      <th></th>\n",
       "    </tr>\n",
       "  </thead>\n",
       "  <tbody>\n",
       "    <tr>\n",
       "      <th>1</th>\n",
       "      <td>22.0</td>\n",
       "      <td>1</td>\n",
       "      <td>0</td>\n",
       "      <td>7.2500</td>\n",
       "      <td>0</td>\n",
       "      <td>1</td>\n",
       "      <td>1</td>\n",
       "      <td>0</td>\n",
       "      <td>1</td>\n",
       "      <td>0</td>\n",
       "    </tr>\n",
       "    <tr>\n",
       "      <th>2</th>\n",
       "      <td>38.0</td>\n",
       "      <td>1</td>\n",
       "      <td>0</td>\n",
       "      <td>71.2833</td>\n",
       "      <td>0</td>\n",
       "      <td>0</td>\n",
       "      <td>0</td>\n",
       "      <td>0</td>\n",
       "      <td>0</td>\n",
       "      <td>1</td>\n",
       "    </tr>\n",
       "    <tr>\n",
       "      <th>3</th>\n",
       "      <td>26.0</td>\n",
       "      <td>0</td>\n",
       "      <td>0</td>\n",
       "      <td>7.9250</td>\n",
       "      <td>0</td>\n",
       "      <td>1</td>\n",
       "      <td>0</td>\n",
       "      <td>0</td>\n",
       "      <td>1</td>\n",
       "      <td>1</td>\n",
       "    </tr>\n",
       "    <tr>\n",
       "      <th>4</th>\n",
       "      <td>35.0</td>\n",
       "      <td>1</td>\n",
       "      <td>0</td>\n",
       "      <td>53.1000</td>\n",
       "      <td>0</td>\n",
       "      <td>0</td>\n",
       "      <td>0</td>\n",
       "      <td>0</td>\n",
       "      <td>1</td>\n",
       "      <td>1</td>\n",
       "    </tr>\n",
       "    <tr>\n",
       "      <th>5</th>\n",
       "      <td>35.0</td>\n",
       "      <td>0</td>\n",
       "      <td>0</td>\n",
       "      <td>8.0500</td>\n",
       "      <td>0</td>\n",
       "      <td>1</td>\n",
       "      <td>1</td>\n",
       "      <td>0</td>\n",
       "      <td>1</td>\n",
       "      <td>0</td>\n",
       "    </tr>\n",
       "  </tbody>\n",
       "</table>\n",
       "</div>"
      ],
      "text/plain": [
       "              age  sibsp  parch     fare  pclass_2  pclass_3  sex_male  \\\n",
       "passengerid                                                              \n",
       "1            22.0      1      0   7.2500         0         1         1   \n",
       "2            38.0      1      0  71.2833         0         0         0   \n",
       "3            26.0      0      0   7.9250         0         1         0   \n",
       "4            35.0      1      0  53.1000         0         0         0   \n",
       "5            35.0      0      0   8.0500         0         1         1   \n",
       "\n",
       "             embarked_Q  embarked_S  survived  \n",
       "passengerid                                    \n",
       "1                     0           1         0  \n",
       "2                     0           0         1  \n",
       "3                     0           1         1  \n",
       "4                     0           1         1  \n",
       "5                     0           1         0  "
      ]
     },
     "execution_count": 20,
     "metadata": {},
     "output_type": "execute_result"
    }
   ],
   "source": [
    "#hot_one encoding for the categorical data\n",
    "df_enc = pd.get_dummies(df, columns=['pclass', 'sex', 'embarked'], drop_first=True)\n",
    "df_enc = df_enc.drop(columns=['survived']).assign(survived = df['survived'])\n",
    "df_enc.head()"
   ]
  },
  {
   "cell_type": "code",
   "execution_count": 21,
   "metadata": {},
   "outputs": [],
   "source": [
    "from sklearn.model_selection import train_test_split\n",
    "\n",
    "X_full, y_full= df_enc.iloc[:,:-1] ,df_enc.iloc[:,-1]\n",
    "\n",
    "X_train, X_test, y_train, y_test = train_test_split(df_enc.iloc[:,:-1],df_enc.iloc[:,-1] ,test_size=0.3, shuffle=True, \n",
    "                                         random_state=13,stratify=df_enc.iloc[:,-1])\n",
    "\n",
    "X_val, X_test, y_val, y_test = train_test_split(X_test,y_test ,test_size=0.5, shuffle=True, \n",
    "                                          random_state=13,stratify=y_test)"
   ]
  },
  {
   "cell_type": "code",
   "execution_count": 22,
   "metadata": {},
   "outputs": [
    {
     "data": {
      "text/html": [
       "<div>\n",
       "<style scoped>\n",
       "    .dataframe tbody tr th:only-of-type {\n",
       "        vertical-align: middle;\n",
       "    }\n",
       "\n",
       "    .dataframe tbody tr th {\n",
       "        vertical-align: top;\n",
       "    }\n",
       "\n",
       "    .dataframe thead th {\n",
       "        text-align: right;\n",
       "    }\n",
       "</style>\n",
       "<table border=\"1\" class=\"dataframe\">\n",
       "  <thead>\n",
       "    <tr style=\"text-align: right;\">\n",
       "      <th></th>\n",
       "      <th>age</th>\n",
       "      <th>sibsp</th>\n",
       "      <th>parch</th>\n",
       "      <th>fare</th>\n",
       "      <th>pclass_2</th>\n",
       "      <th>pclass_3</th>\n",
       "      <th>sex_male</th>\n",
       "      <th>embarked_Q</th>\n",
       "      <th>embarked_S</th>\n",
       "    </tr>\n",
       "    <tr>\n",
       "      <th>passengerid</th>\n",
       "      <th></th>\n",
       "      <th></th>\n",
       "      <th></th>\n",
       "      <th></th>\n",
       "      <th></th>\n",
       "      <th></th>\n",
       "      <th></th>\n",
       "      <th></th>\n",
       "      <th></th>\n",
       "    </tr>\n",
       "  </thead>\n",
       "  <tbody>\n",
       "    <tr>\n",
       "      <th>147</th>\n",
       "      <td>27.000000</td>\n",
       "      <td>0</td>\n",
       "      <td>0</td>\n",
       "      <td>7.7958</td>\n",
       "      <td>0</td>\n",
       "      <td>1</td>\n",
       "      <td>1</td>\n",
       "      <td>0</td>\n",
       "      <td>1</td>\n",
       "    </tr>\n",
       "    <tr>\n",
       "      <th>679</th>\n",
       "      <td>43.000000</td>\n",
       "      <td>1</td>\n",
       "      <td>6</td>\n",
       "      <td>46.9000</td>\n",
       "      <td>0</td>\n",
       "      <td>1</td>\n",
       "      <td>0</td>\n",
       "      <td>0</td>\n",
       "      <td>1</td>\n",
       "    </tr>\n",
       "    <tr>\n",
       "      <th>435</th>\n",
       "      <td>50.000000</td>\n",
       "      <td>1</td>\n",
       "      <td>0</td>\n",
       "      <td>55.9000</td>\n",
       "      <td>0</td>\n",
       "      <td>0</td>\n",
       "      <td>1</td>\n",
       "      <td>0</td>\n",
       "      <td>1</td>\n",
       "    </tr>\n",
       "    <tr>\n",
       "      <th>407</th>\n",
       "      <td>51.000000</td>\n",
       "      <td>0</td>\n",
       "      <td>0</td>\n",
       "      <td>7.7500</td>\n",
       "      <td>0</td>\n",
       "      <td>1</td>\n",
       "      <td>1</td>\n",
       "      <td>0</td>\n",
       "      <td>1</td>\n",
       "    </tr>\n",
       "    <tr>\n",
       "      <th>512</th>\n",
       "      <td>29.642093</td>\n",
       "      <td>0</td>\n",
       "      <td>0</td>\n",
       "      <td>8.0500</td>\n",
       "      <td>0</td>\n",
       "      <td>1</td>\n",
       "      <td>1</td>\n",
       "      <td>0</td>\n",
       "      <td>1</td>\n",
       "    </tr>\n",
       "    <tr>\n",
       "      <th>...</th>\n",
       "      <td>...</td>\n",
       "      <td>...</td>\n",
       "      <td>...</td>\n",
       "      <td>...</td>\n",
       "      <td>...</td>\n",
       "      <td>...</td>\n",
       "      <td>...</td>\n",
       "      <td>...</td>\n",
       "      <td>...</td>\n",
       "    </tr>\n",
       "    <tr>\n",
       "      <th>231</th>\n",
       "      <td>35.000000</td>\n",
       "      <td>1</td>\n",
       "      <td>0</td>\n",
       "      <td>83.4750</td>\n",
       "      <td>0</td>\n",
       "      <td>0</td>\n",
       "      <td>0</td>\n",
       "      <td>0</td>\n",
       "      <td>1</td>\n",
       "    </tr>\n",
       "    <tr>\n",
       "      <th>723</th>\n",
       "      <td>34.000000</td>\n",
       "      <td>0</td>\n",
       "      <td>0</td>\n",
       "      <td>13.0000</td>\n",
       "      <td>1</td>\n",
       "      <td>0</td>\n",
       "      <td>1</td>\n",
       "      <td>0</td>\n",
       "      <td>1</td>\n",
       "    </tr>\n",
       "    <tr>\n",
       "      <th>668</th>\n",
       "      <td>29.642093</td>\n",
       "      <td>0</td>\n",
       "      <td>0</td>\n",
       "      <td>7.7750</td>\n",
       "      <td>0</td>\n",
       "      <td>1</td>\n",
       "      <td>1</td>\n",
       "      <td>0</td>\n",
       "      <td>1</td>\n",
       "    </tr>\n",
       "    <tr>\n",
       "      <th>722</th>\n",
       "      <td>17.000000</td>\n",
       "      <td>1</td>\n",
       "      <td>0</td>\n",
       "      <td>7.0542</td>\n",
       "      <td>0</td>\n",
       "      <td>1</td>\n",
       "      <td>1</td>\n",
       "      <td>0</td>\n",
       "      <td>1</td>\n",
       "    </tr>\n",
       "    <tr>\n",
       "      <th>390</th>\n",
       "      <td>17.000000</td>\n",
       "      <td>0</td>\n",
       "      <td>0</td>\n",
       "      <td>12.0000</td>\n",
       "      <td>1</td>\n",
       "      <td>0</td>\n",
       "      <td>0</td>\n",
       "      <td>0</td>\n",
       "      <td>0</td>\n",
       "    </tr>\n",
       "  </tbody>\n",
       "</table>\n",
       "<p>622 rows × 9 columns</p>\n",
       "</div>"
      ],
      "text/plain": [
       "                   age  sibsp  parch     fare  pclass_2  pclass_3  sex_male  \\\n",
       "passengerid                                                                   \n",
       "147          27.000000      0      0   7.7958         0         1         1   \n",
       "679          43.000000      1      6  46.9000         0         1         0   \n",
       "435          50.000000      1      0  55.9000         0         0         1   \n",
       "407          51.000000      0      0   7.7500         0         1         1   \n",
       "512          29.642093      0      0   8.0500         0         1         1   \n",
       "...                ...    ...    ...      ...       ...       ...       ...   \n",
       "231          35.000000      1      0  83.4750         0         0         0   \n",
       "723          34.000000      0      0  13.0000         1         0         1   \n",
       "668          29.642093      0      0   7.7750         0         1         1   \n",
       "722          17.000000      1      0   7.0542         0         1         1   \n",
       "390          17.000000      0      0  12.0000         1         0         0   \n",
       "\n",
       "             embarked_Q  embarked_S  \n",
       "passengerid                          \n",
       "147                   0           1  \n",
       "679                   0           1  \n",
       "435                   0           1  \n",
       "407                   0           1  \n",
       "512                   0           1  \n",
       "...                 ...         ...  \n",
       "231                   0           1  \n",
       "723                   0           1  \n",
       "668                   0           1  \n",
       "722                   0           1  \n",
       "390                   0           0  \n",
       "\n",
       "[622 rows x 9 columns]"
      ]
     },
     "execution_count": 22,
     "metadata": {},
     "output_type": "execute_result"
    }
   ],
   "source": [
    "X_train"
   ]
  },
  {
   "cell_type": "code",
   "execution_count": 23,
   "metadata": {},
   "outputs": [
    {
     "data": {
      "text/plain": [
       "passengerid\n",
       "147    1\n",
       "679    0\n",
       "435    0\n",
       "407    0\n",
       "512    0\n",
       "      ..\n",
       "231    1\n",
       "723    0\n",
       "668    0\n",
       "722    0\n",
       "390    1\n",
       "Name: survived, Length: 622, dtype: int64"
      ]
     },
     "execution_count": 23,
     "metadata": {},
     "output_type": "execute_result"
    }
   ],
   "source": [
    "y_train"
   ]
  },
  {
   "cell_type": "code",
   "execution_count": 24,
   "metadata": {},
   "outputs": [
    {
     "data": {
      "text/plain": [
       "0.38263665594855306"
      ]
     },
     "execution_count": 24,
     "metadata": {},
     "output_type": "execute_result"
    }
   ],
   "source": [
    "y_train.sum()/y_train.shape[0]"
   ]
  },
  {
   "cell_type": "code",
   "execution_count": 25,
   "metadata": {},
   "outputs": [
    {
     "data": {
      "text/plain": [
       "(622,)"
      ]
     },
     "execution_count": 25,
     "metadata": {},
     "output_type": "execute_result"
    }
   ],
   "source": [
    "y_train.shape"
   ]
  },
  {
   "cell_type": "code",
   "execution_count": 26,
   "metadata": {},
   "outputs": [
    {
     "data": {
      "text/plain": [
       "(134,)"
      ]
     },
     "execution_count": 26,
     "metadata": {},
     "output_type": "execute_result"
    }
   ],
   "source": [
    "y_test.shape"
   ]
  },
  {
   "cell_type": "code",
   "execution_count": 27,
   "metadata": {},
   "outputs": [
    {
     "data": {
      "text/plain": [
       "0.3805970149253731"
      ]
     },
     "execution_count": 27,
     "metadata": {},
     "output_type": "execute_result"
    }
   ],
   "source": [
    "y_test.sum()/y_test.shape[0]"
   ]
  },
  {
   "cell_type": "markdown",
   "metadata": {},
   "source": [
    "# importing the learning models \n",
    "- Logistic regression\n",
    "- Decision tree\n",
    "- Random forest"
   ]
  },
  {
   "cell_type": "markdown",
   "metadata": {},
   "source": [
    "### 1) Logistic Regression model\n",
    "###### using train-test split"
   ]
  },
  {
   "cell_type": "code",
   "execution_count": 28,
   "metadata": {},
   "outputs": [],
   "source": [
    "from sklearn.linear_model import LogisticRegression\n",
    "#random initial hyper-parameters\n",
    "\n",
    "clf = LogisticRegression(random_state=13,max_iter=1000,C=10,penalty='l2',solver='liblinear')"
   ]
  },
  {
   "cell_type": "code",
   "execution_count": 29,
   "metadata": {},
   "outputs": [
    {
     "data": {
      "text/plain": [
       "LogisticRegression(C=10, max_iter=1000, random_state=13, solver='liblinear')"
      ]
     },
     "execution_count": 29,
     "metadata": {},
     "output_type": "execute_result"
    }
   ],
   "source": [
    "clf.fit(X_train,y_train)"
   ]
  },
  {
   "cell_type": "code",
   "execution_count": 30,
   "metadata": {},
   "outputs": [
    {
     "data": {
      "text/plain": [
       "array([[-0.05366397, -0.35786326, -0.14465223,  0.00469385, -0.9124304 ,\n",
       "        -2.21933999, -2.7094252 ,  0.16709454, -0.34986751]])"
      ]
     },
     "execution_count": 30,
     "metadata": {},
     "output_type": "execute_result"
    }
   ],
   "source": [
    "clf.coef_"
   ]
  },
  {
   "cell_type": "code",
   "execution_count": 31,
   "metadata": {},
   "outputs": [
    {
     "data": {
      "text/plain": [
       "array([4.42327241])"
      ]
     },
     "execution_count": 31,
     "metadata": {},
     "output_type": "execute_result"
    }
   ],
   "source": [
    "clf.intercept_"
   ]
  },
  {
   "cell_type": "code",
   "execution_count": 32,
   "metadata": {},
   "outputs": [
    {
     "name": "stdout",
     "output_type": "stream",
     "text": [
      "chance of survival= 97.11 %\n"
     ]
    }
   ],
   "source": [
    "#age, sibsp, parch, fare, pclass_2, pclass_3, sex_male, embarked_Q, embarked_S\n",
    "x1,x2,x3,x4,x5,x6,x7,x8,x9 = 22, 1, 0, 100, 0, 0, 0, 1, 0\n",
    "z= 4.41956736 -0.04872341*x1 -0.33727231*x2 -0.1888914*x3  +0.0039606*x4 -0.96516094*x5  -2.22333878*x6 -2.77293087*x7 +0.10868992*x8 -0.39663222*x9\n",
    "y= (1/(1+np.exp(-z)))*100\n",
    "print(\"chance of survival= \"+str(round(y, 2))+\" %\") "
   ]
  },
  {
   "cell_type": "code",
   "execution_count": 33,
   "metadata": {},
   "outputs": [
    {
     "name": "stdout",
     "output_type": "stream",
     "text": [
      "0.8208955223880597\n"
     ]
    }
   ],
   "source": [
    "from sklearn.metrics import accuracy_score\n",
    "logisticRegression_acc=accuracy_score(y_test, clf.predict(X_test))\n",
    "print(logisticRegression_acc)"
   ]
  },
  {
   "cell_type": "code",
   "execution_count": 34,
   "metadata": {},
   "outputs": [
    {
     "name": "stdout",
     "output_type": "stream",
     "text": [
      "0.7058823529411765\n"
     ]
    }
   ],
   "source": [
    "from sklearn.metrics import recall_score\n",
    "logisticRegression_recall = recall_score(y_test, clf.predict(X_test))\n",
    "print(logisticRegression_recall)"
   ]
  },
  {
   "cell_type": "code",
   "execution_count": 35,
   "metadata": {},
   "outputs": [
    {
     "name": "stdout",
     "output_type": "stream",
     "text": [
      "0.8\n"
     ]
    }
   ],
   "source": [
    "from sklearn.metrics import precision_score\n",
    "logisticRegression_precision = precision_score(y_test, clf.predict(X_test))\n",
    "print(logisticRegression_precision)"
   ]
  },
  {
   "cell_type": "code",
   "execution_count": 36,
   "metadata": {},
   "outputs": [
    {
     "name": "stdout",
     "output_type": "stream",
     "text": [
      "[0.6992481203007519, 0.6992481203007519, 0.6992481203007519, 0.6992481203007519, 0.7518796992481203, 0.7518796992481203, 0.7518796992481203, 0.7518796992481203, 0.7368421052631579, 0.7368421052631579, 0.7368421052631579, 0.7368421052631579, 0.706766917293233, 0.706766917293233, 0.706766917293233, 0.706766917293233, 0.706766917293233, 0.706766917293233, 0.706766917293233, 0.706766917293233, 0.706766917293233, 0.706766917293233, 0.706766917293233, 0.706766917293233, 0.706766917293233, 0.706766917293233, 0.706766917293233, 0.706766917293233]\n"
     ]
    }
   ],
   "source": [
    "#tuning the hyper-parameters using grid search\n",
    "C_values = [0.01, 0.1, 1, 5, 10, 20, 100]\n",
    "max_iter_values = [200, 400, 800, 1600]\n",
    "\n",
    "best_scores = []\n",
    "different_parameters = []\n",
    "for i in C_values:\n",
    "    for j in max_iter_values:\n",
    "        clf = LogisticRegression(random_state=13, max_iter=j, C=i, penalty='l2', solver='liblinear')\n",
    "        clf.fit(X_train,y_train)\n",
    "        log_scores = accuracy_score(y_val, clf.predict(X_val))\n",
    "        best_scores.append(log_scores)\n",
    "        different_parameters.append(str(i) + \", \" + str(j))\n",
    "print(best_scores)        "
   ]
  },
  {
   "cell_type": "code",
   "execution_count": 37,
   "metadata": {},
   "outputs": [
    {
     "data": {
      "text/plain": [
       "Text(0, 0.5, 'test-train split Accuracy')"
      ]
     },
     "execution_count": 37,
     "metadata": {},
     "output_type": "execute_result"
    },
    {
     "data": {
      "image/png": "[encoded data removed]",
      "text/plain": [
       "<Figure size 1800x360 with 1 Axes>"
      ]
     },
     "metadata": {
      "needs_background": "light"
     },
     "output_type": "display_data"
    }
   ],
   "source": [
    "plt.figure(figsize=(25,5))\n",
    "plt.plot(different_parameters, best_scores)\n",
    "plt.xlabel(\"Different parameters values (C, max_itr)\")\n",
    "plt.ylabel(\"test-train split Accuracy\")"
   ]
  },
  {
   "cell_type": "code",
   "execution_count": 38,
   "metadata": {},
   "outputs": [
    {
     "name": "stdout",
     "output_type": "stream",
     "text": [
      "0.7910447761194029\n",
      "0.5686274509803921\n",
      "0.8285714285714286\n"
     ]
    }
   ],
   "source": [
    "#using the best hyper parameters from the figure above (C = 0.1 & any number of iterations):\n",
    "clf = LogisticRegression(random_state=13,max_iter=400,C=0.1,penalty='l2',solver='liblinear')\n",
    "clf.fit(X_train,y_train)\n",
    "\n",
    "logisticRegression_acc = accuracy_score(y_test, clf.predict(X_test))\n",
    "logisticRegression_recall = recall_score(y_test, clf.predict(X_test))\n",
    "logisticRegression_precision = precision_score(y_test, clf.predict(X_test))\n",
    "\n",
    "print(logisticRegression_acc)\n",
    "print(logisticRegression_recall)\n",
    "print(logisticRegression_precision)\n"
   ]
  },
  {
   "cell_type": "markdown",
   "metadata": {},
   "source": [
    "\n",
    "###### using cross-validation "
   ]
  },
  {
   "cell_type": "code",
   "execution_count": 39,
   "metadata": {},
   "outputs": [
    {
     "name": "stdout",
     "output_type": "stream",
     "text": [
      "[0.76190476 0.82539683 0.83870968 0.75806452 0.82258065 0.82258065\n",
      " 0.87096774 0.83870968 0.83870968 0.80645161]\n"
     ]
    },
    {
     "data": {
      "text/plain": [
       "LogisticRegression(C=10, max_iter=1000, random_state=13, solver='liblinear')"
      ]
     },
     "execution_count": 39,
     "metadata": {},
     "output_type": "execute_result"
    }
   ],
   "source": [
    "#random initial hyper-parameters\n",
    "from sklearn.model_selection import cross_val_score, cross_val_predict\n",
    "from sklearn.metrics import confusion_matrix, classification_report, accuracy_score\n",
    "\n",
    "\n",
    "logistic = LogisticRegression(random_state=13,max_iter=1000,C=10,penalty='l2',solver='liblinear')\n",
    "log_scores = cross_val_score(logistic, X_train, y_train, cv=10, scoring='accuracy')\n",
    "print (log_scores)\n",
    "logistic.fit(X_train, y_train)"
   ]
  },
  {
   "cell_type": "code",
   "execution_count": 40,
   "metadata": {},
   "outputs": [
    {
     "name": "stdout",
     "output_type": "stream",
     "text": [
      "0.8184075780849973\n",
      "0.8208955223880597\n"
     ]
    }
   ],
   "source": [
    "print (log_scores.mean())\n",
    "print (accuracy_score(y_test, logistic.predict(X_test)))"
   ]
  },
  {
   "cell_type": "code",
   "execution_count": 41,
   "metadata": {},
   "outputs": [
    {
     "name": "stdout",
     "output_type": "stream",
     "text": [
      "[0.7255617977528089, 0.7255617977528089, 0.7255617977528089, 0.7255617977528089, 0.8087589376915219, 0.8087589376915219, 0.8087589376915219, 0.8087589376915219, 0.7997701736465782, 0.7997701736465782, 0.7997701736465782, 0.7997701736465782, 0.7998340143003064, 0.7998340143003064, 0.7998340143003064, 0.7998340143003064, 0.8009576098059243, 0.8009576098059243, 0.8009576098059243, 0.8009576098059243, 0.7987104187946884, 0.7987104187946884, 0.7987104187946884, 0.7987104187946884, 0.8009576098059243, 0.8009576098059243, 0.8009576098059243, 0.8009576098059243]\n"
     ]
    }
   ],
   "source": [
    "#tuning the hyper-parameters using grid search & cv\n",
    "\n",
    "C_values = [0.01, 0.1, 1, 5, 10, 20, 100]\n",
    "max_iter_values = [200, 400, 800, 1600]\n",
    "\n",
    "best_scores = []\n",
    "different_parameters = []\n",
    "for i in C_values:\n",
    "    for j in max_iter_values:\n",
    "        logistic = LogisticRegression(random_state=13, max_iter=j, C=i, penalty='l2', solver='liblinear')\n",
    "        log_scores = cross_val_score(logistic, X_full, y_full, cv=10, scoring='accuracy')\n",
    "        best_scores.append(log_scores.mean())\n",
    "        different_parameters.append(str(i) + \", \" + str(j))\n",
    "print(best_scores)        "
   ]
  },
  {
   "cell_type": "code",
   "execution_count": 43,
   "metadata": {},
   "outputs": [
    {
     "data": {
      "text/plain": [
       "Text(0, 0.5, 'Cross-Validated Accuracy')"
      ]
     },
     "execution_count": 43,
     "metadata": {},
     "output_type": "execute_result"
    },
    {
     "data": {
      "image/png": "[encoded data removed]",
      "text/plain": [
       "<Figure size 1800x360 with 1 Axes>"
      ]
     },
     "metadata": {
      "needs_background": "light"
     },
     "output_type": "display_data"
    }
   ],
   "source": [
    "plt.figure(figsize=(25,5))\n",
    "plt.plot(different_parameters, best_scores)\n",
    "plt.xlabel(\"Different parameters values (C, max_itr)\")\n",
    "plt.ylabel(\"Cross-Validated Accuracy\")"
   ]
  },
  {
   "cell_type": "markdown",
   "metadata": {},
   "source": [
    "from the plot above we pick the values (c = 0.1 & max_itr = 400)"
   ]
  },
  {
   "cell_type": "code",
   "execution_count": 44,
   "metadata": {},
   "outputs": [
    {
     "name": "stdout",
     "output_type": "stream",
     "text": [
      "[[497  52]\n",
      " [118 222]]\n",
      "              precision    recall  f1-score   support\n",
      "\n",
      "           0       0.81      0.91      0.85       549\n",
      "           1       0.81      0.65      0.72       340\n",
      "\n",
      "    accuracy                           0.81       889\n",
      "   macro avg       0.81      0.78      0.79       889\n",
      "weighted avg       0.81      0.81      0.80       889\n",
      "\n",
      "Cross-Validated Accuracy: 0.8087739032620922\n"
     ]
    }
   ],
   "source": [
    "logistic = LogisticRegression(random_state=13, max_iter=400, C=0.1, penalty='l2', solver='liblinear')\n",
    "\n",
    "y_pred = cross_val_predict(logistic,X_full, y_full, cv=10)\n",
    "conf_mat = confusion_matrix(y_full, y_pred)\n",
    "print(conf_mat)\n",
    "print(classification_report(y_full, y_pred))\n",
    "print(\"Cross-Validated Accuracy:\", accuracy_score(y_full, y_pred))\n",
    "\n",
    "cv_logisticRegression_acc = accuracy_score(y_full, y_pred)\n",
    "cv_logisticRegression_recall = recall_score(y_full, y_pred)\n",
    "cv_logisticRegression_precision = precision_score(y_full, y_pred)\n"
   ]
  },
  {
   "cell_type": "markdown",
   "metadata": {},
   "source": [
    "### 2) Decision Tree Model"
   ]
  },
  {
   "cell_type": "code",
   "execution_count": 45,
   "metadata": {},
   "outputs": [
    {
     "data": {
      "text/plain": [
       "[Text(160.16224315068493, 207.55636363636364, 'X[6] <= 0.5\\ngini = 0.472\\nsamples = 622\\nvalue = [384, 238]'),\n",
       " Text(79.11369863013698, 187.7890909090909, 'X[5] <= 0.5\\ngini = 0.372\\nsamples = 219\\nvalue = [54, 165]'),\n",
       " Text(25.224657534246575, 168.0218181818182, 'X[0] <= 2.5\\ngini = 0.094\\nsamples = 122\\nvalue = [6, 116]'),\n",
       " Text(13.758904109589041, 148.25454545454545, 'X[4] <= 0.5\\ngini = 0.5\\nsamples = 2\\nvalue = [1, 1]'),\n",
       " Text(9.172602739726027, 128.48727272727274, 'gini = 0.0\\nsamples = 1\\nvalue = [1, 0]'),\n",
       " Text(18.345205479452055, 128.48727272727274, 'gini = 0.0\\nsamples = 1\\nvalue = [0, 1]'),\n",
       " Text(36.69041095890411, 148.25454545454545, 'X[0] <= 56.5\\ngini = 0.08\\nsamples = 120\\nvalue = [5, 115]'),\n",
       " Text(27.517808219178082, 128.48727272727274, 'X[3] <= 29.356\\ngini = 0.065\\nsamples = 118\\nvalue = [4, 114]'),\n",
       " Text(22.93150684931507, 108.72, 'X[3] <= 28.231\\ngini = 0.15\\nsamples = 49\\nvalue = [4, 45]'),\n",
       " Text(18.345205479452055, 88.95272727272729, 'X[0] <= 37.0\\ngini = 0.117\\nsamples = 48\\nvalue = [3, 45]'),\n",
       " Text(9.172602739726027, 69.18545454545455, 'X[1] <= 0.5\\ngini = 0.056\\nsamples = 35\\nvalue = [1, 34]'),\n",
       " Text(4.586301369863014, 49.418181818181836, 'gini = 0.0\\nsamples = 21\\nvalue = [0, 21]'),\n",
       " Text(13.758904109589041, 49.418181818181836, 'X[3] <= 22.5\\ngini = 0.133\\nsamples = 14\\nvalue = [1, 13]'),\n",
       " Text(9.172602739726027, 29.650909090909096, 'X[3] <= 19.875\\ngini = 0.375\\nsamples = 4\\nvalue = [1, 3]'),\n",
       " Text(4.586301369863014, 9.883636363636384, 'gini = 0.0\\nsamples = 2\\nvalue = [0, 2]'),\n",
       " Text(13.758904109589041, 9.883636363636384, 'gini = 0.5\\nsamples = 2\\nvalue = [1, 1]'),\n",
       " Text(18.345205479452055, 29.650909090909096, 'gini = 0.0\\nsamples = 10\\nvalue = [0, 10]'),\n",
       " Text(27.517808219178082, 69.18545454545455, 'X[0] <= 39.0\\ngini = 0.26\\nsamples = 13\\nvalue = [2, 11]'),\n",
       " Text(22.93150684931507, 49.418181818181836, 'gini = 0.0\\nsamples = 1\\nvalue = [1, 0]'),\n",
       " Text(32.104109589041094, 49.418181818181836, 'X[1] <= 0.5\\ngini = 0.153\\nsamples = 12\\nvalue = [1, 11]'),\n",
       " Text(27.517808219178082, 29.650909090909096, 'gini = 0.0\\nsamples = 8\\nvalue = [0, 8]'),\n",
       " Text(36.69041095890411, 29.650909090909096, 'X[0] <= 44.5\\ngini = 0.375\\nsamples = 4\\nvalue = [1, 3]'),\n",
       " Text(32.104109589041094, 9.883636363636384, 'gini = 0.5\\nsamples = 2\\nvalue = [1, 1]'),\n",
       " Text(41.276712328767125, 9.883636363636384, 'gini = 0.0\\nsamples = 2\\nvalue = [0, 2]'),\n",
       " Text(27.517808219178082, 88.95272727272729, 'gini = 0.0\\nsamples = 1\\nvalue = [1, 0]'),\n",
       " Text(32.104109589041094, 108.72, 'gini = 0.0\\nsamples = 69\\nvalue = [0, 69]'),\n",
       " Text(45.86301369863014, 128.48727272727274, 'X[0] <= 57.5\\ngini = 0.5\\nsamples = 2\\nvalue = [1, 1]'),\n",
       " Text(41.276712328767125, 108.72, 'gini = 0.0\\nsamples = 1\\nvalue = [1, 0]'),\n",
       " Text(50.44931506849315, 108.72, 'gini = 0.0\\nsamples = 1\\nvalue = [0, 1]'),\n",
       " Text(133.0027397260274, 168.0218181818182, 'X[3] <= 24.808\\ngini = 0.5\\nsamples = 97\\nvalue = [48, 49]'),\n",
       " Text(96.31232876712329, 148.25454545454545, 'X[0] <= 16.5\\ngini = 0.485\\nsamples = 82\\nvalue = [34, 48]'),\n",
       " Text(64.20821917808219, 128.48727272727274, 'X[0] <= 14.75\\ngini = 0.332\\nsamples = 19\\nvalue = [4, 15]'),\n",
       " Text(59.62191780821918, 108.72, 'X[0] <= 7.0\\ngini = 0.408\\nsamples = 14\\nvalue = [4, 10]'),\n",
       " Text(50.44931506849315, 88.95272727272729, 'X[3] <= 10.798\\ngini = 0.198\\nsamples = 9\\nvalue = [1, 8]'),\n",
       " Text(45.86301369863014, 69.18545454545455, 'gini = 0.0\\nsamples = 1\\nvalue = [1, 0]'),\n",
       " Text(55.035616438356165, 69.18545454545455, 'gini = 0.0\\nsamples = 8\\nvalue = [0, 8]'),\n",
       " Text(68.79452054794521, 88.95272727272729, 'X[3] <= 12.848\\ngini = 0.48\\nsamples = 5\\nvalue = [3, 2]'),\n",
       " Text(64.20821917808219, 69.18545454545455, 'X[8] <= 0.5\\ngini = 0.444\\nsamples = 3\\nvalue = [1, 2]'),\n",
       " Text(59.62191780821918, 49.418181818181836, 'gini = 0.0\\nsamples = 2\\nvalue = [0, 2]'),\n",
       " Text(68.79452054794521, 49.418181818181836, 'gini = 0.0\\nsamples = 1\\nvalue = [1, 0]'),\n",
       " Text(73.38082191780822, 69.18545454545455, 'gini = 0.0\\nsamples = 2\\nvalue = [2, 0]'),\n",
       " Text(68.79452054794521, 108.72, 'gini = 0.0\\nsamples = 5\\nvalue = [0, 5]'),\n",
       " Text(128.41643835616438, 128.48727272727274, 'X[3] <= 7.965\\ngini = 0.499\\nsamples = 63\\nvalue = [30, 33]'),\n",
       " Text(105.48493150684932, 108.72, 'X[0] <= 30.321\\ngini = 0.426\\nsamples = 26\\nvalue = [8, 18]'),\n",
       " Text(100.8986301369863, 88.95272727272729, 'X[0] <= 21.5\\ngini = 0.375\\nsamples = 24\\nvalue = [6, 18]'),\n",
       " Text(82.55342465753425, 69.18545454545455, 'X[8] <= 0.5\\ngini = 0.48\\nsamples = 5\\nvalue = [3, 2]'),\n",
       " Text(77.96712328767123, 49.418181818181836, 'gini = 0.0\\nsamples = 2\\nvalue = [2, 0]'),\n",
       " Text(87.13972602739726, 49.418181818181836, 'X[3] <= 7.635\\ngini = 0.444\\nsamples = 3\\nvalue = [1, 2]'),\n",
       " Text(82.55342465753425, 29.650909090909096, 'gini = 0.0\\nsamples = 1\\nvalue = [0, 1]'),\n",
       " Text(91.72602739726028, 29.650909090909096, 'X[0] <= 18.5\\ngini = 0.5\\nsamples = 2\\nvalue = [1, 1]'),\n",
       " Text(87.13972602739726, 9.883636363636384, 'gini = 0.0\\nsamples = 1\\nvalue = [1, 0]'),\n",
       " Text(96.31232876712329, 9.883636363636384, 'gini = 0.0\\nsamples = 1\\nvalue = [0, 1]'),\n",
       " Text(119.24383561643836, 69.18545454545455, 'X[2] <= 1.0\\ngini = 0.266\\nsamples = 19\\nvalue = [3, 16]'),\n",
       " Text(114.65753424657534, 49.418181818181836, 'X[3] <= 7.781\\ngini = 0.198\\nsamples = 18\\nvalue = [2, 16]'),\n",
       " Text(110.07123287671233, 29.650909090909096, 'X[3] <= 7.763\\ngini = 0.26\\nsamples = 13\\nvalue = [2, 11]'),\n",
       " Text(105.48493150684932, 9.883636363636384, 'gini = 0.165\\nsamples = 11\\nvalue = [1, 10]'),\n",
       " Text(114.65753424657534, 9.883636363636384, 'gini = 0.5\\nsamples = 2\\nvalue = [1, 1]'),\n",
       " Text(119.24383561643836, 29.650909090909096, 'gini = 0.0\\nsamples = 5\\nvalue = [0, 5]'),\n",
       " Text(123.83013698630137, 49.418181818181836, 'gini = 0.0\\nsamples = 1\\nvalue = [1, 0]'),\n",
       " Text(110.07123287671233, 88.95272727272729, 'gini = 0.0\\nsamples = 2\\nvalue = [2, 0]'),\n",
       " Text(151.34794520547945, 108.72, 'X[0] <= 23.0\\ngini = 0.482\\nsamples = 37\\nvalue = [22, 15]'),\n",
       " Text(142.17534246575343, 88.95272727272729, 'X[3] <= 10.179\\ngini = 0.219\\nsamples = 8\\nvalue = [7, 1]'),\n",
       " Text(137.58904109589042, 69.18545454545455, 'X[3] <= 9.84\\ngini = 0.375\\nsamples = 4\\nvalue = [3, 1]'),\n",
       " Text(133.0027397260274, 49.418181818181836, 'gini = 0.0\\nsamples = 3\\nvalue = [3, 0]'),\n",
       " Text(142.17534246575343, 49.418181818181836, 'gini = 0.0\\nsamples = 1\\nvalue = [0, 1]'),\n",
       " Text(146.76164383561644, 69.18545454545455, 'gini = 0.0\\nsamples = 4\\nvalue = [4, 0]'),\n",
       " Text(160.5205479452055, 88.95272727272729, 'X[3] <= 8.41\\ngini = 0.499\\nsamples = 29\\nvalue = [15, 14]'),\n",
       " Text(155.93424657534246, 69.18545454545455, 'gini = 0.0\\nsamples = 2\\nvalue = [2, 0]'),\n",
       " Text(165.1068493150685, 69.18545454545455, 'X[0] <= 36.5\\ngini = 0.499\\nsamples = 27\\nvalue = [13, 14]'),\n",
       " Text(155.93424657534246, 49.418181818181836, 'X[0] <= 33.5\\ngini = 0.491\\nsamples = 23\\nvalue = [10, 13]'),\n",
       " Text(151.34794520547945, 29.650909090909096, 'X[2] <= 3.0\\ngini = 0.499\\nsamples = 21\\nvalue = [10, 11]'),\n",
       " Text(146.76164383561644, 9.883636363636384, 'gini = 0.495\\nsamples = 20\\nvalue = [9, 11]'),\n",
       " Text(155.93424657534246, 9.883636363636384, 'gini = 0.0\\nsamples = 1\\nvalue = [1, 0]'),\n",
       " Text(160.5205479452055, 29.650909090909096, 'gini = 0.0\\nsamples = 2\\nvalue = [0, 2]'),\n",
       " Text(174.27945205479452, 49.418181818181836, 'X[0] <= 55.0\\ngini = 0.375\\nsamples = 4\\nvalue = [3, 1]'),\n",
       " Text(169.6931506849315, 29.650909090909096, 'gini = 0.0\\nsamples = 3\\nvalue = [3, 0]'),\n",
       " Text(178.86575342465753, 29.650909090909096, 'gini = 0.0\\nsamples = 1\\nvalue = [0, 1]'),\n",
       " Text(169.6931506849315, 148.25454545454545, 'X[0] <= 5.5\\ngini = 0.124\\nsamples = 15\\nvalue = [14, 1]'),\n",
       " Text(165.1068493150685, 128.48727272727274, 'X[1] <= 3.5\\ngini = 0.5\\nsamples = 2\\nvalue = [1, 1]'),\n",
       " Text(160.5205479452055, 108.72, 'gini = 0.0\\nsamples = 1\\nvalue = [1, 0]'),\n",
       " Text(169.6931506849315, 108.72, 'gini = 0.0\\nsamples = 1\\nvalue = [0, 1]'),\n",
       " Text(174.27945205479452, 128.48727272727274, 'gini = 0.0\\nsamples = 13\\nvalue = [13, 0]'),\n",
       " Text(241.21078767123288, 187.7890909090909, 'X[0] <= 3.5\\ngini = 0.297\\nsamples = 403\\nvalue = [330, 73]'),\n",
       " Text(206.9568493150685, 168.0218181818182, 'X[1] <= 2.5\\ngini = 0.408\\nsamples = 14\\nvalue = [4, 10]'),\n",
       " Text(202.3705479452055, 148.25454545454545, 'gini = 0.0\\nsamples = 9\\nvalue = [0, 9]'),\n",
       " Text(211.5431506849315, 148.25454545454545, 'X[0] <= 2.5\\ngini = 0.32\\nsamples = 5\\nvalue = [4, 1]'),\n",
       " Text(206.9568493150685, 128.48727272727274, 'gini = 0.0\\nsamples = 4\\nvalue = [4, 0]'),\n",
       " Text(216.1294520547945, 128.48727272727274, 'gini = 0.0\\nsamples = 1\\nvalue = [0, 1]'),\n",
       " Text(275.46472602739726, 168.0218181818182, 'X[3] <= 26.269\\ngini = 0.271\\nsamples = 389\\nvalue = [326, 63]'),\n",
       " Text(234.47465753424657, 148.25454545454545, 'X[0] <= 13.5\\ngini = 0.189\\nsamples = 293\\nvalue = [262, 31]'),\n",
       " Text(225.30205479452056, 128.48727272727274, 'X[3] <= 17.344\\ngini = 0.375\\nsamples = 4\\nvalue = [1, 3]'),\n",
       " Text(220.71575342465755, 108.72, 'gini = 0.0\\nsamples = 3\\nvalue = [0, 3]'),\n",
       " Text(229.88835616438357, 108.72, 'gini = 0.0\\nsamples = 1\\nvalue = [1, 0]'),\n",
       " Text(243.6472602739726, 128.48727272727274, 'X[0] <= 44.75\\ngini = 0.175\\nsamples = 289\\nvalue = [261, 28]'),\n",
       " Text(239.06095890410958, 108.72, 'X[8] <= 0.5\\ngini = 0.188\\nsamples = 267\\nvalue = [239, 28]'),\n",
       " Text(213.26301369863015, 88.95272727272729, 'X[1] <= 1.5\\ngini = 0.27\\nsamples = 56\\nvalue = [47, 9]'),\n",
       " Text(208.67671232876714, 69.18545454545455, 'X[2] <= 0.5\\ngini = 0.249\\nsamples = 55\\nvalue = [47, 8]'),\n",
       " Text(197.2109589041096, 49.418181818181836, 'X[0] <= 29.321\\ngini = 0.211\\nsamples = 50\\nvalue = [44, 6]'),\n",
       " Text(188.03835616438357, 29.650909090909096, 'X[0] <= 28.0\\ngini = 0.444\\nsamples = 9\\nvalue = [6, 3]'),\n",
       " Text(183.45205479452056, 9.883636363636384, 'gini = 0.245\\nsamples = 7\\nvalue = [6, 1]'),\n",
       " Text(192.62465753424658, 9.883636363636384, 'gini = 0.0\\nsamples = 2\\nvalue = [0, 2]'),\n",
       " Text(206.3835616438356, 29.650909090909096, 'X[5] <= 0.5\\ngini = 0.136\\nsamples = 41\\nvalue = [38, 3]'),\n",
       " Text(201.7972602739726, 9.883636363636384, 'gini = 0.5\\nsamples = 2\\nvalue = [1, 1]'),\n",
       " Text(210.96986301369864, 9.883636363636384, 'gini = 0.097\\nsamples = 39\\nvalue = [37, 2]'),\n",
       " Text(220.14246575342466, 49.418181818181836, 'X[3] <= 11.237\\ngini = 0.48\\nsamples = 5\\nvalue = [3, 2]'),\n",
       " Text(215.55616438356165, 29.650909090909096, 'gini = 0.0\\nsamples = 2\\nvalue = [2, 0]'),\n",
       " Text(224.72876712328767, 29.650909090909096, 'X[3] <= 15.373\\ngini = 0.444\\nsamples = 3\\nvalue = [1, 2]'),\n",
       " Text(220.14246575342466, 9.883636363636384, 'gini = 0.0\\nsamples = 2\\nvalue = [0, 2]'),\n",
       " Text(229.31506849315068, 9.883636363636384, 'gini = 0.0\\nsamples = 1\\nvalue = [1, 0]'),\n",
       " Text(217.84931506849315, 69.18545454545455, 'gini = 0.0\\nsamples = 1\\nvalue = [0, 1]'),\n",
       " Text(264.85890410958905, 88.95272727272729, 'X[3] <= 13.25\\ngini = 0.164\\nsamples = 211\\nvalue = [192, 19]'),\n",
       " Text(249.95342465753424, 69.18545454545455, 'X[0] <= 16.5\\ngini = 0.186\\nsamples = 173\\nvalue = [155, 18]'),\n",
       " Text(238.48767123287672, 49.418181818181836, 'X[3] <= 7.913\\ngini = 0.444\\nsamples = 3\\nvalue = [2, 1]'),\n",
       " Text(233.9013698630137, 29.650909090909096, 'gini = 0.0\\nsamples = 1\\nvalue = [1, 0]'),\n",
       " Text(243.07397260273973, 29.650909090909096, 'gini = 0.5\\nsamples = 2\\nvalue = [1, 1]'),\n",
       " Text(261.41917808219176, 49.418181818181836, 'X[0] <= 43.5\\ngini = 0.18\\nsamples = 170\\nvalue = [153, 17]'),\n",
       " Text(252.24657534246575, 29.650909090909096, 'X[0] <= 18.5\\ngini = 0.173\\nsamples = 167\\nvalue = [151, 16]'),\n",
       " Text(247.66027397260274, 9.883636363636384, 'gini = 0.0\\nsamples = 12\\nvalue = [12, 0]'),\n",
       " Text(256.83287671232875, 9.883636363636384, 'gini = 0.185\\nsamples = 155\\nvalue = [139, 16]'),\n",
       " Text(270.59178082191784, 29.650909090909096, 'X[3] <= 7.988\\ngini = 0.444\\nsamples = 3\\nvalue = [2, 1]'),\n",
       " Text(266.0054794520548, 9.883636363636384, 'gini = 0.0\\nsamples = 1\\nvalue = [0, 1]'),\n",
       " Text(275.17808219178085, 9.883636363636384, 'gini = 0.0\\nsamples = 2\\nvalue = [2, 0]'),\n",
       " Text(279.76438356164385, 69.18545454545455, 'X[3] <= 25.962\\ngini = 0.051\\nsamples = 38\\nvalue = [37, 1]'),\n",
       " Text(275.17808219178085, 49.418181818181836, 'gini = 0.0\\nsamples = 27\\nvalue = [27, 0]'),\n",
       " Text(284.35068493150686, 49.418181818181836, 'X[0] <= 31.5\\ngini = 0.165\\nsamples = 11\\nvalue = [10, 1]'),\n",
       " Text(279.76438356164385, 29.650909090909096, 'gini = 0.0\\nsamples = 5\\nvalue = [5, 0]'),\n",
       " Text(288.93698630136987, 29.650909090909096, 'X[0] <= 33.0\\ngini = 0.278\\nsamples = 6\\nvalue = [5, 1]'),\n",
       " Text(284.35068493150686, 9.883636363636384, 'gini = 0.0\\nsamples = 1\\nvalue = [0, 1]'),\n",
       " Text(293.5232876712329, 9.883636363636384, 'gini = 0.0\\nsamples = 5\\nvalue = [5, 0]'),\n",
       " Text(248.23356164383563, 108.72, 'gini = 0.0\\nsamples = 22\\nvalue = [22, 0]'),\n",
       " Text(316.4547945205479, 148.25454545454545, 'X[1] <= 1.5\\ngini = 0.444\\nsamples = 96\\nvalue = [64, 32]'),\n",
       " Text(311.8684931506849, 128.48727272727274, 'X[0] <= 49.5\\ngini = 0.482\\nsamples = 79\\nvalue = [47, 32]'),\n",
       " Text(298.1095890410959, 108.72, 'X[3] <= 27.135\\ngini = 0.5\\nsamples = 63\\nvalue = [32, 31]'),\n",
       " Text(293.5232876712329, 88.95272727272729, 'gini = 0.0\\nsamples = 7\\nvalue = [0, 7]'),\n",
       " Text(302.6958904109589, 88.95272727272729, 'X[3] <= 29.1\\ngini = 0.49\\nsamples = 56\\nvalue = [32, 24]'),\n",
       " Text(298.1095890410959, 69.18545454545455, 'gini = 0.0\\nsamples = 7\\nvalue = [7, 0]'),\n",
       " Text(307.2821917808219, 69.18545454545455, 'X[0] <= 17.5\\ngini = 0.5\\nsamples = 49\\nvalue = [25, 24]'),\n",
       " Text(302.6958904109589, 49.418181818181836, 'gini = 0.0\\nsamples = 4\\nvalue = [0, 4]'),\n",
       " Text(311.8684931506849, 49.418181818181836, 'X[4] <= 0.5\\ngini = 0.494\\nsamples = 45\\nvalue = [25, 20]'),\n",
       " Text(307.2821917808219, 29.650909090909096, 'X[0] <= 22.5\\ngini = 0.5\\nsamples = 39\\nvalue = [19, 20]'),\n",
       " Text(302.6958904109589, 9.883636363636384, 'gini = 0.0\\nsamples = 3\\nvalue = [3, 0]'),\n",
       " Text(311.8684931506849, 9.883636363636384, 'gini = 0.494\\nsamples = 36\\nvalue = [16, 20]'),\n",
       " Text(316.4547945205479, 29.650909090909096, 'gini = 0.0\\nsamples = 6\\nvalue = [6, 0]'),\n",
       " Text(325.627397260274, 108.72, 'X[3] <= 30.598\\ngini = 0.117\\nsamples = 16\\nvalue = [15, 1]'),\n",
       " Text(321.041095890411, 88.95272727272729, 'X[3] <= 28.525\\ngini = 0.375\\nsamples = 4\\nvalue = [3, 1]'),\n",
       " Text(316.4547945205479, 69.18545454545455, 'gini = 0.0\\nsamples = 3\\nvalue = [3, 0]'),\n",
       " Text(325.627397260274, 69.18545454545455, 'gini = 0.0\\nsamples = 1\\nvalue = [0, 1]'),\n",
       " Text(330.213698630137, 88.95272727272729, 'gini = 0.0\\nsamples = 12\\nvalue = [12, 0]'),\n",
       " Text(321.041095890411, 128.48727272727274, 'gini = 0.0\\nsamples = 17\\nvalue = [17, 0]')]"
      ]
     },
     "execution_count": 45,
     "metadata": {},
     "output_type": "execute_result"
    },
    {
     "data": {
      "image/png": "[encoded data removed]",
      "text/plain": [
       "<Figure size 432x288 with 1 Axes>"
      ]
     },
     "metadata": {
      "needs_background": "light"
     },
     "output_type": "display_data"
    }
   ],
   "source": [
    "#random initial hyper-parameters\n",
    "\n",
    "from sklearn.tree import DecisionTreeClassifier\n",
    "from sklearn import tree\n",
    "clf_2=DecisionTreeClassifier(max_depth=10, random_state=13)\n",
    "clf_2.fit(X_train,y_train)\n",
    "tree.plot_tree(clf_2)  "
   ]
  },
  {
   "cell_type": "code",
   "execution_count": 46,
   "metadata": {},
   "outputs": [
    {
     "name": "stdout",
     "output_type": "stream",
     "text": [
      "0.7761194029850746\n"
     ]
    }
   ],
   "source": [
    "decisionTree_acc=accuracy_score(y_test, clf_2.predict(X_test))\n",
    "print(decisionTree_acc)"
   ]
  },
  {
   "cell_type": "code",
   "execution_count": 47,
   "metadata": {},
   "outputs": [
    {
     "name": "stdout",
     "output_type": "stream",
     "text": [
      "0.803921568627451\n"
     ]
    }
   ],
   "source": [
    "decisionTree_recall = recall_score(y_test, clf_2.predict(X_test))\n",
    "print(decisionTree_recall)"
   ]
  },
  {
   "cell_type": "code",
   "execution_count": 48,
   "metadata": {},
   "outputs": [
    {
     "name": "stdout",
     "output_type": "stream",
     "text": [
      "0.6721311475409836\n"
     ]
    }
   ],
   "source": [
    "decisionTree_precision = precision_score(y_test, clf_2.predict(X_test))\n",
    "print(decisionTree_precision)"
   ]
  },
  {
   "cell_type": "code",
   "execution_count": 53,
   "metadata": {},
   "outputs": [
    {
     "name": "stdout",
     "output_type": "stream",
     "text": [
      "[0.7368421052631579, 0.7518796992481203, 0.7969924812030075, 0.7819548872180451, 0.7894736842105263, 0.7969924812030075, 0.7969924812030075, 0.8120300751879699, 0.7443609022556391, 0.7518796992481203, 0.7669172932330827, 0.7293233082706767, 0.7593984962406015, 0.7368421052631579, 0.7293233082706767, 0.7518796992481203, 0.7142857142857143, 0.706766917293233, 0.706766917293233, 0.7218045112781954, 0.7218045112781954, 0.7218045112781954, 0.7218045112781954, 0.7218045112781954]\n"
     ]
    }
   ],
   "source": [
    "#tuning the hyper-parameters using grid search\n",
    "depth_values = range(1, 25)\n",
    "best_scores = []\n",
    "different_parameters = []\n",
    "for j in depth_values:\n",
    "    clf_2 = DecisionTreeClassifier(max_depth=j,  random_state=13)\n",
    "    clf_2.fit(X_train,y_train)\n",
    "    scores = accuracy_score(y_val, clf_2.predict(X_val))\n",
    "    best_scores.append(scores)\n",
    "    different_parameters.append(str(j))\n",
    "print(best_scores)  \n"
   ]
  },
  {
   "cell_type": "code",
   "execution_count": 54,
   "metadata": {},
   "outputs": [
    {
     "data": {
      "text/plain": [
       "Text(0, 0.5, 'test-train split Accuracy')"
      ]
     },
     "execution_count": 54,
     "metadata": {},
     "output_type": "execute_result"
    },
    {
     "data": {
      "image/png": "[encoded data removed]",
      "text/plain": [
       "<Figure size 720x360 with 1 Axes>"
      ]
     },
     "metadata": {
      "needs_background": "light"
     },
     "output_type": "display_data"
    }
   ],
   "source": [
    "plt.figure(figsize=(10,5))\n",
    "plt.plot(different_parameters, best_scores)\n",
    "plt.xlabel(\"Different parameters values (Max_Depth)\")\n",
    "plt.ylabel(\"test-train split Accuracy\")"
   ]
  },
  {
   "cell_type": "code",
   "execution_count": 55,
   "metadata": {},
   "outputs": [
    {
     "name": "stdout",
     "output_type": "stream",
     "text": [
      "0.7910447761194029\n",
      "0.6470588235294118\n",
      "0.7674418604651163\n"
     ]
    }
   ],
   "source": [
    "clf_2 = DecisionTreeClassifier(max_depth=8,  random_state=13)\n",
    "clf_2.fit(X_train,y_train)\n",
    "decisionTree_acc = accuracy_score(y_test, clf_2.predict(X_test))\n",
    "decisionTree_recall = recall_score(y_test, clf_2.predict(X_test))\n",
    "decisionTree_precision = precision_score(y_test, clf_2.predict(X_test))\n",
    "\n",
    "print(decisionTree_acc)\n",
    "print(decisionTree_recall)\n",
    "print(decisionTree_precision)"
   ]
  },
  {
   "cell_type": "markdown",
   "metadata": {},
   "source": [
    "\n",
    "###### using cross-validation "
   ]
  },
  {
   "cell_type": "code",
   "execution_count": 56,
   "metadata": {},
   "outputs": [
    {
     "name": "stdout",
     "output_type": "stream",
     "text": [
      "0.8087589376915219\n"
     ]
    }
   ],
   "source": [
    "#random initial hyper-parameters\n",
    "decisionTree = DecisionTreeClassifier(max_depth=11,  random_state=13)\n",
    "dec_scores = cross_val_score(logistic, X_full, y_full, cv=10, scoring='accuracy')\n",
    "print (dec_scores.mean())"
   ]
  },
  {
   "cell_type": "code",
   "execution_count": 57,
   "metadata": {},
   "outputs": [],
   "source": [
    "#tuning the hyper-parameters using grid search & cv\n",
    "depth_values = range(1, 25)\n",
    "best_scores = []\n",
    "different_parameters = []\n",
    "for j in depth_values:\n",
    "    decisionTree = DecisionTreeClassifier(max_depth=j,  random_state=13)\n",
    "    dec_scores = cross_val_score(decisionTree, X_full, y_full, cv=10, scoring='accuracy')\n",
    "    best_scores.append(dec_scores.mean())\n",
    "    different_parameters.append(str(j))\n",
    "# print(best_scores)"
   ]
  },
  {
   "cell_type": "code",
   "execution_count": 58,
   "metadata": {},
   "outputs": [
    {
     "data": {
      "text/plain": [
       "Text(0, 0.5, 'Cross-Validated Accuracy')"
      ]
     },
     "execution_count": 58,
     "metadata": {},
     "output_type": "execute_result"
    },
    {
     "data": {
      "image/png": "[encoded data removed]",
      "text/plain": [
       "<Figure size 720x360 with 1 Axes>"
      ]
     },
     "metadata": {
      "needs_background": "light"
     },
     "output_type": "display_data"
    }
   ],
   "source": [
    "plt.figure(figsize=(10,5))\n",
    "plt.plot(different_parameters, best_scores)\n",
    "plt.xlabel(\"Different parameters values (Max_Depth)\")\n",
    "plt.ylabel(\"Cross-Validated Accuracy\")"
   ]
  },
  {
   "cell_type": "markdown",
   "metadata": {},
   "source": [
    "### from the plot above we pick the values (Max_Depth = 8)"
   ]
  },
  {
   "cell_type": "code",
   "execution_count": 59,
   "metadata": {},
   "outputs": [
    {
     "name": "stdout",
     "output_type": "stream",
     "text": [
      "[[501  48]\n",
      " [112 228]]\n",
      "              precision    recall  f1-score   support\n",
      "\n",
      "           0       0.82      0.91      0.86       549\n",
      "           1       0.83      0.67      0.74       340\n",
      "\n",
      "    accuracy                           0.82       889\n",
      "   macro avg       0.82      0.79      0.80       889\n",
      "weighted avg       0.82      0.82      0.82       889\n",
      "\n",
      "Cross-Validated Accuracy: 0.8200224971878515\n"
     ]
    }
   ],
   "source": [
    "decisionTree = DecisionTreeClassifier(max_depth=8, random_state=13)\n",
    "\n",
    "y_pred = cross_val_predict(decisionTree, X_full, y_full, cv=10)\n",
    "conf_mat = confusion_matrix(y_full, y_pred)\n",
    "print(conf_mat)\n",
    "print(classification_report(y_full, y_pred))\n",
    "print(\"Cross-Validated Accuracy:\", accuracy_score(y_full, y_pred))\n",
    "\n",
    "cv_decisionTree_acc = accuracy_score(y_full, y_pred)\n",
    "cv_decisionTree_recall = recall_score(y_full, y_pred)\n",
    "cv_decisionTree_precision = precision_score(y_full, y_pred)"
   ]
  },
  {
   "cell_type": "markdown",
   "metadata": {},
   "source": [
    "### 3) Random Forest model"
   ]
  },
  {
   "cell_type": "code",
   "execution_count": 60,
   "metadata": {},
   "outputs": [
    {
     "data": {
      "text/plain": [
       "RandomForestClassifier(n_jobs=-1, oob_score=True, random_state=13)"
      ]
     },
     "execution_count": 60,
     "metadata": {},
     "output_type": "execute_result"
    }
   ],
   "source": [
    "#random initial hyper-parameters\n",
    "\n",
    "from sklearn.ensemble import RandomForestClassifier \n",
    "clf_3 = RandomForestClassifier(n_estimators = 100, oob_score=True, n_jobs = -1, random_state=13)\n",
    "clf_3.fit(X_train, y_train)"
   ]
  },
  {
   "cell_type": "code",
   "execution_count": 61,
   "metadata": {},
   "outputs": [
    {
     "name": "stdout",
     "output_type": "stream",
     "text": [
      "0.8059701492537313\n"
     ]
    }
   ],
   "source": [
    "randomForest_acc=accuracy_score(y_test, clf_3.predict(X_test))\n",
    "print(randomForest_acc)"
   ]
  },
  {
   "cell_type": "code",
   "execution_count": 62,
   "metadata": {},
   "outputs": [
    {
     "name": "stdout",
     "output_type": "stream",
     "text": [
      "0.7254901960784313\n"
     ]
    }
   ],
   "source": [
    "randomForest_recall = recall_score(y_test, clf_3.predict(X_test))\n",
    "print(randomForest_recall)"
   ]
  },
  {
   "cell_type": "code",
   "execution_count": 63,
   "metadata": {},
   "outputs": [
    {
     "name": "stdout",
     "output_type": "stream",
     "text": [
      "0.7551020408163265\n"
     ]
    }
   ],
   "source": [
    "randomForest_precision = precision_score(y_test, clf_3.predict(X_test))\n",
    "print(randomForest_precision)"
   ]
  },
  {
   "cell_type": "code",
   "execution_count": 64,
   "metadata": {},
   "outputs": [
    {
     "name": "stdout",
     "output_type": "stream",
     "text": [
      "[0.7669172932330827, 0.7669172932330827, 0.7669172932330827, 0.7518796992481203, 0.7518796992481203, 0.7518796992481203, 0.7669172932330827, 0.7593984962406015, 0.7669172932330827, 0.7669172932330827, 0.7669172932330827, 0.7593984962406015, 0.7593984962406015, 0.7593984962406015, 0.7593984962406015, 0.7518796992481203, 0.7593984962406015, 0.7518796992481203, 0.7518796992481203, 0.7518796992481203, 0.7518796992481203, 0.7518796992481203, 0.7593984962406015, 0.7518796992481203, 0.7593984962406015, 0.7518796992481203, 0.7593984962406015, 0.7518796992481203, 0.7593984962406015, 0.7593984962406015, 0.7593984962406015, 0.7593984962406015, 0.7593984962406015, 0.7593984962406015, 0.7593984962406015, 0.7518796992481203, 0.7593984962406015, 0.7518796992481203, 0.7518796992481203, 0.7518796992481203, 0.7593984962406015, 0.7518796992481203, 0.7518796992481203, 0.7518796992481203, 0.7518796992481203, 0.7518796992481203, 0.7518796992481203, 0.7518796992481203, 0.7518796992481203, 0.7518796992481203, 0.7593984962406015, 0.7443609022556391, 0.7443609022556391, 0.7443609022556391, 0.7443609022556391, 0.7443609022556391, 0.7443609022556391, 0.7443609022556391, 0.7443609022556391, 0.7443609022556391, 0.7443609022556391, 0.7443609022556391, 0.7443609022556391, 0.7443609022556391, 0.7593984962406015, 0.7593984962406015, 0.7593984962406015, 0.7518796992481203, 0.7593984962406015, 0.7593984962406015, 0.7593984962406015, 0.7593984962406015, 0.7593984962406015, 0.7593984962406015, 0.7593984962406015, 0.7593984962406015, 0.7593984962406015, 0.7593984962406015, 0.7593984962406015, 0.7593984962406015, 0.7593984962406015, 0.7593984962406015, 0.7593984962406015, 0.7593984962406015, 0.7593984962406015, 0.7593984962406015, 0.7593984962406015, 0.7593984962406015, 0.7593984962406015, 0.7518796992481203, 0.7518796992481203, 0.7518796992481203, 0.7518796992481203, 0.7518796992481203, 0.7593984962406015, 0.7518796992481203, 0.7593984962406015, 0.7593984962406015, 0.7593984962406015, 0.7518796992481203]\n"
     ]
    }
   ],
   "source": [
    "#tuning the hyper-parameters using grid search\n",
    "n_estimators_values = range(50, 150)\n",
    "best_scores = []\n",
    "different_parameters = []\n",
    "for j in n_estimators_values:\n",
    "    clf_3 = RandomForestClassifier(n_estimators = j, oob_score=True, n_jobs = -1, random_state=13)\n",
    "    clf_3.fit(X_train,y_train)\n",
    "    scores = accuracy_score(y_val, clf_3.predict(X_val))\n",
    "    best_scores.append(scores)\n",
    "    different_parameters.append(str(j))\n",
    "print(best_scores)  "
   ]
  },
  {
   "cell_type": "code",
   "execution_count": 65,
   "metadata": {},
   "outputs": [
    {
     "data": {
      "text/plain": [
       "Text(0, 0.5, 'test-train split Accuracy')"
      ]
     },
     "execution_count": 65,
     "metadata": {},
     "output_type": "execute_result"
    },
    {
     "data": {
      "image/png": "[encoded data removed]",
      "text/plain": [
       "<Figure size 2880x360 with 1 Axes>"
      ]
     },
     "metadata": {
      "needs_background": "light"
     },
     "output_type": "display_data"
    }
   ],
   "source": [
    "plt.figure(figsize=(40,5))\n",
    "plt.plot(different_parameters, best_scores)\n",
    "plt.xlabel(\"Different parameters values (number of trees)\")\n",
    "plt.ylabel(\"test-train split Accuracy\")"
   ]
  },
  {
   "cell_type": "code",
   "execution_count": 66,
   "metadata": {},
   "outputs": [
    {
     "name": "stdout",
     "output_type": "stream",
     "text": [
      "0.8059701492537313\n",
      "0.7254901960784313\n",
      "0.7551020408163265\n"
     ]
    }
   ],
   "source": [
    "clf_3 =RandomForestClassifier(n_estimators = 59, oob_score=True, n_jobs = -1, random_state= 13)\n",
    "clf_3.fit(X_train,y_train)\n",
    "randomForest_acc = accuracy_score(y_test, clf_3.predict(X_test))\n",
    "randomForest_recall = recall_score(y_test, clf_3.predict(X_test))\n",
    "randomForest_precision = precision_score(y_test, clf_3.predict(X_test))\n",
    "\n",
    "print(randomForest_acc)\n",
    "print(randomForest_recall)\n",
    "print(randomForest_precision)"
   ]
  },
  {
   "cell_type": "markdown",
   "metadata": {},
   "source": [
    "\n",
    "###### using cross-validation "
   ]
  },
  {
   "cell_type": "code",
   "execution_count": 68,
   "metadata": {},
   "outputs": [
    {
     "name": "stdout",
     "output_type": "stream",
     "text": [
      "0.8088100102145047\n"
     ]
    }
   ],
   "source": [
    "#random initial hyper-parameters\n",
    "randomForest = RandomForestClassifier(n_estimators = 100, oob_score=True, n_jobs = -1, random_state= 13)\n",
    "rf_scores = cross_val_score(randomForest, X_full, y_full, cv=10, scoring='accuracy')\n",
    "print (rf_scores.mean())"
   ]
  },
  {
   "cell_type": "code",
   "execution_count": 74,
   "metadata": {},
   "outputs": [],
   "source": [
    "#tuning the hyper-parameters using grid search & cv\n",
    "n_estimators_values = range(40, 140)\n",
    "best_scores = []\n",
    "different_parameters = []\n",
    "for j in n_estimators_values:\n",
    "    randomForest = RandomForestClassifier(n_estimators = j, oob_score=True, n_jobs = -1, random_state=13)\n",
    "    scores = cross_val_score(randomForest, X_full, y_full, cv=10, scoring='accuracy')\n",
    "    best_scores.append(scores.mean())\n",
    "    different_parameters.append(str(j))"
   ]
  },
  {
   "cell_type": "code",
   "execution_count": 75,
   "metadata": {},
   "outputs": [
    {
     "data": {
      "text/plain": [
       "Text(0, 0.5, 'Cross-Validated Accuracy')"
      ]
     },
     "execution_count": 75,
     "metadata": {},
     "output_type": "execute_result"
    },
    {
     "data": {
      "image/png": "[encoded data removed]",
      "text/plain": [
       "<Figure size 2880x360 with 1 Axes>"
      ]
     },
     "metadata": {
      "needs_background": "light"
     },
     "output_type": "display_data"
    }
   ],
   "source": [
    "plt.figure(figsize=(40,5))\n",
    "plt.plot(different_parameters, best_scores)\n",
    "plt.xlabel(\"Different parameters values (number of trees)\")\n",
    "plt.ylabel(\"Cross-Validated Accuracy\")"
   ]
  },
  {
   "cell_type": "markdown",
   "metadata": {},
   "source": [
    "from the plot above we pick the values (n_estimators = 50)\n"
   ]
  },
  {
   "cell_type": "code",
   "execution_count": 76,
   "metadata": {},
   "outputs": [
    {
     "name": "stdout",
     "output_type": "stream",
     "text": [
      "[[478  71]\n",
      " [ 91 249]]\n",
      "              precision    recall  f1-score   support\n",
      "\n",
      "           0       0.84      0.87      0.86       549\n",
      "           1       0.78      0.73      0.75       340\n",
      "\n",
      "    accuracy                           0.82       889\n",
      "   macro avg       0.81      0.80      0.80       889\n",
      "weighted avg       0.82      0.82      0.82       889\n",
      "\n",
      "Cross-Validated Accuracy: 0.8177727784026997\n"
     ]
    }
   ],
   "source": [
    "randomForest = RandomForestClassifier(n_estimators = 50, oob_score=True, n_jobs = -1, random_state = 13)\n",
    "\n",
    "y_pred = cross_val_predict(randomForest, X_full, y_full, cv=10)\n",
    "conf_mat = confusion_matrix(y_full, y_pred)\n",
    "print(conf_mat)\n",
    "print(classification_report(y_full, y_pred))\n",
    "print(\"Cross-Validated Accuracy:\", accuracy_score(y_full, y_pred))\n",
    "\n",
    "cv_randomForest_acc = accuracy_score(y_full, y_pred)\n",
    "cv_randomForest_recall = recall_score(y_full, y_pred)\n",
    "cv_randomForest_precision = precision_score(y_full, y_pred)"
   ]
  },
  {
   "cell_type": "code",
   "execution_count": 77,
   "metadata": {},
   "outputs": [
    {
     "name": "stdout",
     "output_type": "stream",
     "text": [
      "Accuracy scores using test-train split (without cross validation):-\n"
     ]
    },
    {
     "data": {
      "text/html": [
       "<div>\n",
       "<style scoped>\n",
       "    .dataframe tbody tr th:only-of-type {\n",
       "        vertical-align: middle;\n",
       "    }\n",
       "\n",
       "    .dataframe tbody tr th {\n",
       "        vertical-align: top;\n",
       "    }\n",
       "\n",
       "    .dataframe thead th {\n",
       "        text-align: right;\n",
       "    }\n",
       "</style>\n",
       "<table border=\"1\" class=\"dataframe\">\n",
       "  <thead>\n",
       "    <tr style=\"text-align: right;\">\n",
       "      <th></th>\n",
       "      <th>Model</th>\n",
       "      <th>Accuracy</th>\n",
       "      <th>Recall</th>\n",
       "      <th>Precision</th>\n",
       "    </tr>\n",
       "  </thead>\n",
       "  <tbody>\n",
       "    <tr>\n",
       "      <th>0</th>\n",
       "      <td>Logistic Regression</td>\n",
       "      <td>0.791045</td>\n",
       "      <td>0.568627</td>\n",
       "      <td>0.828571</td>\n",
       "    </tr>\n",
       "    <tr>\n",
       "      <th>1</th>\n",
       "      <td>Decision Tree</td>\n",
       "      <td>0.791045</td>\n",
       "      <td>0.647059</td>\n",
       "      <td>0.767442</td>\n",
       "    </tr>\n",
       "    <tr>\n",
       "      <th>2</th>\n",
       "      <td>Random Forest</td>\n",
       "      <td>0.805970</td>\n",
       "      <td>0.725490</td>\n",
       "      <td>0.755102</td>\n",
       "    </tr>\n",
       "  </tbody>\n",
       "</table>\n",
       "</div>"
      ],
      "text/plain": [
       "                 Model  Accuracy    Recall  Precision\n",
       "0  Logistic Regression  0.791045  0.568627   0.828571\n",
       "1        Decision Tree  0.791045  0.647059   0.767442\n",
       "2        Random Forest  0.805970  0.725490   0.755102"
      ]
     },
     "execution_count": 77,
     "metadata": {},
     "output_type": "execute_result"
    }
   ],
   "source": [
    "models = pd.DataFrame({\n",
    "    'Model': ['Logistic Regression',\n",
    "              'Decision Tree',\n",
    "             'Random Forest'],\n",
    "    'Accuracy': [\n",
    "        logisticRegression_acc, \n",
    "        decisionTree_acc,\n",
    "        randomForest_acc],\n",
    "    'Recall': [\n",
    "        logisticRegression_recall, \n",
    "        decisionTree_recall,\n",
    "        randomForest_recall],\n",
    "    'Precision': [\n",
    "        logisticRegression_precision, \n",
    "        decisionTree_precision,\n",
    "        randomForest_precision]\n",
    "    })\n",
    "print(\"Accuracy scores using test-train split (without cross validation):-\")\n",
    "models"
   ]
  },
  {
   "cell_type": "code",
   "execution_count": 78,
   "metadata": {},
   "outputs": [
    {
     "name": "stdout",
     "output_type": "stream",
     "text": [
      "Accuracy scores (using cross validation):-\n"
     ]
    },
    {
     "data": {
      "text/html": [
       "<div>\n",
       "<style scoped>\n",
       "    .dataframe tbody tr th:only-of-type {\n",
       "        vertical-align: middle;\n",
       "    }\n",
       "\n",
       "    .dataframe tbody tr th {\n",
       "        vertical-align: top;\n",
       "    }\n",
       "\n",
       "    .dataframe thead th {\n",
       "        text-align: right;\n",
       "    }\n",
       "</style>\n",
       "<table border=\"1\" class=\"dataframe\">\n",
       "  <thead>\n",
       "    <tr style=\"text-align: right;\">\n",
       "      <th></th>\n",
       "      <th>Model</th>\n",
       "      <th>Accuracy</th>\n",
       "      <th>Recall</th>\n",
       "      <th>Precision</th>\n",
       "    </tr>\n",
       "  </thead>\n",
       "  <tbody>\n",
       "    <tr>\n",
       "      <th>0</th>\n",
       "      <td>Logistic Regression</td>\n",
       "      <td>0.808774</td>\n",
       "      <td>0.652941</td>\n",
       "      <td>0.810219</td>\n",
       "    </tr>\n",
       "    <tr>\n",
       "      <th>1</th>\n",
       "      <td>Decision Tree</td>\n",
       "      <td>0.820022</td>\n",
       "      <td>0.670588</td>\n",
       "      <td>0.826087</td>\n",
       "    </tr>\n",
       "    <tr>\n",
       "      <th>2</th>\n",
       "      <td>Random Forest</td>\n",
       "      <td>0.817773</td>\n",
       "      <td>0.732353</td>\n",
       "      <td>0.778125</td>\n",
       "    </tr>\n",
       "  </tbody>\n",
       "</table>\n",
       "</div>"
      ],
      "text/plain": [
       "                 Model  Accuracy    Recall  Precision\n",
       "0  Logistic Regression  0.808774  0.652941   0.810219\n",
       "1        Decision Tree  0.820022  0.670588   0.826087\n",
       "2        Random Forest  0.817773  0.732353   0.778125"
      ]
     },
     "execution_count": 78,
     "metadata": {},
     "output_type": "execute_result"
    }
   ],
   "source": [
    "models = pd.DataFrame({\n",
    "    'Model': ['Logistic Regression',\n",
    "              'Decision Tree',\n",
    "             'Random Forest'],\n",
    "    'Accuracy': [\n",
    "        cv_logisticRegression_acc, \n",
    "        cv_decisionTree_acc,\n",
    "        cv_randomForest_acc],\n",
    "    'Recall': [\n",
    "        cv_logisticRegression_recall, \n",
    "        cv_decisionTree_recall,\n",
    "        cv_randomForest_recall],\n",
    "    'Precision': [\n",
    "        cv_logisticRegression_precision, \n",
    "        cv_decisionTree_precision,\n",
    "        cv_randomForest_precision]\n",
    "    })\n",
    "print(\"Accuracy scores (using cross validation):-\")\n",
    "models"
   ]
  },
  {
   "cell_type": "code",
   "execution_count": 79,
   "metadata": {},
   "outputs": [
    {
     "data": {
      "text/plain": [
       "<matplotlib.axes._subplots.AxesSubplot at 0x2db4e6e3970>"
      ]
     },
     "execution_count": 79,
     "metadata": {},
     "output_type": "execute_result"
    },
    {
     "data": {
      "image/png": "[encoded data removed]",
      "text/plain": [
       "<Figure size 720x432 with 1 Axes>"
      ]
     },
     "metadata": {
      "needs_background": "light"
     },
     "output_type": "display_data"
    }
   ],
   "source": [
    "#feature importance for decision tree algo\n",
    "feature_importance = pd.Series(clf_2.feature_importances_, index=X_train.columns)\n",
    "feature_importance.plot(kind = 'barh', figsize=(10,6))"
   ]
  },
  {
   "cell_type": "code",
   "execution_count": 80,
   "metadata": {},
   "outputs": [
    {
     "data": {
      "text/plain": [
       "<matplotlib.axes._subplots.AxesSubplot at 0x2db4d027070>"
      ]
     },
     "execution_count": 80,
     "metadata": {},
     "output_type": "execute_result"
    },
    {
     "data": {
      "image/png": "[encoded data removed]",
      "text/plain": [
       "<Figure size 720x432 with 1 Axes>"
      ]
     },
     "metadata": {
      "needs_background": "light"
     },
     "output_type": "display_data"
    }
   ],
   "source": [
    "#feature importance for random forest algo\n",
    "feature_importance = pd.Series(clf_3.feature_importances_, index=X_train.columns)\n",
    "feature_importance.plot(kind = 'barh', figsize=(10,6))"
   ]
  },
  {
   "cell_type": "code",
   "execution_count": null,
   "metadata": {},
   "outputs": [],
   "source": []
  }
 ],
 "metadata": {
  "kernelspec": {
   "display_name": "Python 3",
   "language": "python",
   "name": "python3"
  },
  "language_info": {
   "codemirror_mode": {
    "name": "ipython",
    "version": 3
   },
   "file_extension": ".py",
   "mimetype": "text/x-python",
   "name": "python",
   "nbconvert_exporter": "python",
   "pygments_lexer": "ipython3",
   "version": "3.8.3"
  }
 },
 "nbformat": 4,
 "nbformat_minor": 4
}
