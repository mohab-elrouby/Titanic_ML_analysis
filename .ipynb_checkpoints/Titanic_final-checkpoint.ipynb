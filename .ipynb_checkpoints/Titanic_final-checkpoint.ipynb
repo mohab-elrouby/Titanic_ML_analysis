{
 "cells": [
  {
   "cell_type": "code",
   "execution_count": 2,
   "metadata": {},
   "outputs": [],
   "source": [
    "import pandas as pd\n",
    "import numpy as np\n",
    "import matplotlib.pyplot as plt\n",
    "import seaborn as sns\n",
    "from sklearn.model_selection import train_test_split\n",
    "\n",
    "%matplotlib inline\n",
    "pd.set_option('display.max_columns', 40)\n",
    "\n"
   ]
  },
  {
   "cell_type": "code",
   "execution_count": 3,
   "metadata": {},
   "outputs": [
    {
     "name": "stdout",
     "output_type": "stream",
     "text": [
      "The shape of the training dataset is: (891, 12)\n"
     ]
    },
    {
     "data": {
      "text/plain": [
       "survived      int64\n",
       "pclass        int64\n",
       "name         object\n",
       "sex          object\n",
       "age         float64\n",
       "sibsp         int64\n",
       "parch         int64\n",
       "ticket       object\n",
       "fare        float64\n",
       "cabin        object\n",
       "embarked     object\n",
       "dtype: object"
      ]
     },
     "execution_count": 3,
     "metadata": {},
     "output_type": "execute_result"
    }
   ],
   "source": [
    "df = pd.read_csv('train.csv', header = 0)\n",
    "print('The shape of the training dataset is:', df.shape)\n",
    "df.rename(columns= lambda x: x.lower(), inplace = True)\n",
    "df.set_index('passengerid', inplace=True)\n",
    "df.dtypes"
   ]
  },
  {
   "cell_type": "code",
   "execution_count": 4,
   "metadata": {},
   "outputs": [
    {
     "name": "stdout",
     "output_type": "stream",
     "text": [
      "<class 'pandas.core.frame.DataFrame'>\n",
      "Int64Index: 891 entries, 1 to 891\n",
      "Data columns (total 11 columns):\n",
      " #   Column    Non-Null Count  Dtype  \n",
      "---  ------    --------------  -----  \n",
      " 0   survived  891 non-null    int64  \n",
      " 1   pclass    891 non-null    int64  \n",
      " 2   name      891 non-null    object \n",
      " 3   sex       891 non-null    object \n",
      " 4   age       714 non-null    float64\n",
      " 5   sibsp     891 non-null    int64  \n",
      " 6   parch     891 non-null    int64  \n",
      " 7   ticket    891 non-null    object \n",
      " 8   fare      891 non-null    float64\n",
      " 9   cabin     204 non-null    object \n",
      " 10  embarked  889 non-null    object \n",
      "dtypes: float64(2), int64(4), object(5)\n",
      "memory usage: 83.5+ KB\n"
     ]
    }
   ],
   "source": [
    "df.info()"
   ]
  },
  {
   "cell_type": "code",
   "execution_count": 5,
   "metadata": {},
   "outputs": [
    {
     "data": {
      "text/plain": [
       "survived     0.00\n",
       "pclass       0.00\n",
       "name         0.00\n",
       "sex          0.00\n",
       "age         19.87\n",
       "sibsp        0.00\n",
       "parch        0.00\n",
       "ticket       0.00\n",
       "fare         0.00\n",
       "cabin       77.10\n",
       "embarked     0.22\n",
       "dtype: float64"
      ]
     },
     "execution_count": 5,
     "metadata": {},
     "output_type": "execute_result"
    }
   ],
   "source": [
    "round(df.isnull().sum(axis=0)*100/df.shape[0],2)"
   ]
  },
  {
   "cell_type": "code",
   "execution_count": 6,
   "metadata": {},
   "outputs": [
    {
     "data": {
      "text/html": [
       "<div>\n",
       "<style scoped>\n",
       "    .dataframe tbody tr th:only-of-type {\n",
       "        vertical-align: middle;\n",
       "    }\n",
       "\n",
       "    .dataframe tbody tr th {\n",
       "        vertical-align: top;\n",
       "    }\n",
       "\n",
       "    .dataframe thead th {\n",
       "        text-align: right;\n",
       "    }\n",
       "</style>\n",
       "<table border=\"1\" class=\"dataframe\">\n",
       "  <thead>\n",
       "    <tr style=\"text-align: right;\">\n",
       "      <th></th>\n",
       "      <th>survived</th>\n",
       "      <th>pclass</th>\n",
       "      <th>age</th>\n",
       "      <th>sibsp</th>\n",
       "      <th>parch</th>\n",
       "      <th>fare</th>\n",
       "    </tr>\n",
       "  </thead>\n",
       "  <tbody>\n",
       "    <tr>\n",
       "      <th>count</th>\n",
       "      <td>891.000000</td>\n",
       "      <td>891.000000</td>\n",
       "      <td>714.000000</td>\n",
       "      <td>891.000000</td>\n",
       "      <td>891.000000</td>\n",
       "      <td>891.000000</td>\n",
       "    </tr>\n",
       "    <tr>\n",
       "      <th>mean</th>\n",
       "      <td>0.383838</td>\n",
       "      <td>2.308642</td>\n",
       "      <td>29.699118</td>\n",
       "      <td>0.523008</td>\n",
       "      <td>0.381594</td>\n",
       "      <td>32.204208</td>\n",
       "    </tr>\n",
       "    <tr>\n",
       "      <th>std</th>\n",
       "      <td>0.486592</td>\n",
       "      <td>0.836071</td>\n",
       "      <td>14.526497</td>\n",
       "      <td>1.102743</td>\n",
       "      <td>0.806057</td>\n",
       "      <td>49.693429</td>\n",
       "    </tr>\n",
       "    <tr>\n",
       "      <th>min</th>\n",
       "      <td>0.000000</td>\n",
       "      <td>1.000000</td>\n",
       "      <td>0.420000</td>\n",
       "      <td>0.000000</td>\n",
       "      <td>0.000000</td>\n",
       "      <td>0.000000</td>\n",
       "    </tr>\n",
       "    <tr>\n",
       "      <th>25%</th>\n",
       "      <td>0.000000</td>\n",
       "      <td>2.000000</td>\n",
       "      <td>20.125000</td>\n",
       "      <td>0.000000</td>\n",
       "      <td>0.000000</td>\n",
       "      <td>7.910400</td>\n",
       "    </tr>\n",
       "    <tr>\n",
       "      <th>50%</th>\n",
       "      <td>0.000000</td>\n",
       "      <td>3.000000</td>\n",
       "      <td>28.000000</td>\n",
       "      <td>0.000000</td>\n",
       "      <td>0.000000</td>\n",
       "      <td>14.454200</td>\n",
       "    </tr>\n",
       "    <tr>\n",
       "      <th>75%</th>\n",
       "      <td>1.000000</td>\n",
       "      <td>3.000000</td>\n",
       "      <td>38.000000</td>\n",
       "      <td>1.000000</td>\n",
       "      <td>0.000000</td>\n",
       "      <td>31.000000</td>\n",
       "    </tr>\n",
       "    <tr>\n",
       "      <th>max</th>\n",
       "      <td>1.000000</td>\n",
       "      <td>3.000000</td>\n",
       "      <td>80.000000</td>\n",
       "      <td>8.000000</td>\n",
       "      <td>6.000000</td>\n",
       "      <td>512.329200</td>\n",
       "    </tr>\n",
       "  </tbody>\n",
       "</table>\n",
       "</div>"
      ],
      "text/plain": [
       "         survived      pclass         age       sibsp       parch        fare\n",
       "count  891.000000  891.000000  714.000000  891.000000  891.000000  891.000000\n",
       "mean     0.383838    2.308642   29.699118    0.523008    0.381594   32.204208\n",
       "std      0.486592    0.836071   14.526497    1.102743    0.806057   49.693429\n",
       "min      0.000000    1.000000    0.420000    0.000000    0.000000    0.000000\n",
       "25%      0.000000    2.000000   20.125000    0.000000    0.000000    7.910400\n",
       "50%      0.000000    3.000000   28.000000    0.000000    0.000000   14.454200\n",
       "75%      1.000000    3.000000   38.000000    1.000000    0.000000   31.000000\n",
       "max      1.000000    3.000000   80.000000    8.000000    6.000000  512.329200"
      ]
     },
     "execution_count": 6,
     "metadata": {},
     "output_type": "execute_result"
    }
   ],
   "source": [
    " df.describe()"
   ]
  },
  {
   "cell_type": "code",
   "execution_count": 7,
   "metadata": {},
   "outputs": [
    {
     "data": {
      "text/html": [
       "<div>\n",
       "<style scoped>\n",
       "    .dataframe tbody tr th:only-of-type {\n",
       "        vertical-align: middle;\n",
       "    }\n",
       "\n",
       "    .dataframe tbody tr th {\n",
       "        vertical-align: top;\n",
       "    }\n",
       "\n",
       "    .dataframe thead th {\n",
       "        text-align: right;\n",
       "    }\n",
       "</style>\n",
       "<table border=\"1\" class=\"dataframe\">\n",
       "  <thead>\n",
       "    <tr style=\"text-align: right;\">\n",
       "      <th></th>\n",
       "      <th>survived</th>\n",
       "      <th>pclass</th>\n",
       "      <th>name</th>\n",
       "      <th>sex</th>\n",
       "      <th>age</th>\n",
       "      <th>sibsp</th>\n",
       "      <th>parch</th>\n",
       "      <th>ticket</th>\n",
       "      <th>fare</th>\n",
       "      <th>cabin</th>\n",
       "      <th>embarked</th>\n",
       "    </tr>\n",
       "    <tr>\n",
       "      <th>passengerid</th>\n",
       "      <th></th>\n",
       "      <th></th>\n",
       "      <th></th>\n",
       "      <th></th>\n",
       "      <th></th>\n",
       "      <th></th>\n",
       "      <th></th>\n",
       "      <th></th>\n",
       "      <th></th>\n",
       "      <th></th>\n",
       "      <th></th>\n",
       "    </tr>\n",
       "  </thead>\n",
       "  <tbody>\n",
       "  </tbody>\n",
       "</table>\n",
       "</div>"
      ],
      "text/plain": [
       "Empty DataFrame\n",
       "Columns: [survived, pclass, name, sex, age, sibsp, parch, ticket, fare, cabin, embarked]\n",
       "Index: []"
      ]
     },
     "execution_count": 7,
     "metadata": {},
     "output_type": "execute_result"
    }
   ],
   "source": [
    "#checking for any duplicate passengers\n",
    "df[df.duplicated(keep=False, subset = ['name'])]\n",
    "#none were found"
   ]
  },
  {
   "cell_type": "code",
   "execution_count": 8,
   "metadata": {},
   "outputs": [
    {
     "data": {
      "text/plain": [
       "male      577\n",
       "female    314\n",
       "Name: sex, dtype: int64"
      ]
     },
     "execution_count": 8,
     "metadata": {},
     "output_type": "execute_result"
    }
   ],
   "source": [
    "df.sex.value_counts()"
   ]
  },
  {
   "cell_type": "code",
   "execution_count": 9,
   "metadata": {},
   "outputs": [
    {
     "data": {
      "text/plain": [
       "0    549\n",
       "1    342\n",
       "Name: survived, dtype: int64"
      ]
     },
     "execution_count": 9,
     "metadata": {},
     "output_type": "execute_result"
    }
   ],
   "source": [
    "df['survived'].value_counts()"
   ]
  },
  {
   "cell_type": "code",
   "execution_count": 10,
   "metadata": {},
   "outputs": [
    {
     "data": {
      "text/plain": [
       "array(['S', 'C', 'Q', nan], dtype=object)"
      ]
     },
     "execution_count": 10,
     "metadata": {},
     "output_type": "execute_result"
    }
   ],
   "source": [
    "df['embarked'].unique()"
   ]
  },
  {
   "cell_type": "code",
   "execution_count": 11,
   "metadata": {},
   "outputs": [
    {
     "data": {
      "text/plain": [
       "(array([ 44.,  20.,  19.,  96., 122., 108.,  88.,  67.,  47.,  39.,  24.,\n",
       "         18.,  14.,   3.,   4.,   1.]),\n",
       " array([ 0.42,  5.42, 10.42, 15.42, 20.42, 25.42, 30.42, 35.42, 40.42,\n",
       "        45.42, 50.42, 55.42, 60.42, 65.42, 70.42, 75.42, 80.42]),\n",
       " <a list of 16 Patch objects>)"
      ]
     },
     "execution_count": 11,
     "metadata": {},
     "output_type": "execute_result"
    },
    {
     "data": {
      "image/png": "[encoded data removed]",
      "text/plain": [
       "<Figure size 432x288 with 1 Axes>"
      ]
     },
     "metadata": {
      "needs_background": "light"
     },
     "output_type": "display_data"
    }
   ],
   "source": [
    "bins=np.arange(df.age.min(),df.age.max()+5,5)\n",
    "plt.hist(data=df,x='age',bins=bins, rwidth=.9)"
   ]
  },
  {
   "cell_type": "code",
   "execution_count": 12,
   "metadata": {},
   "outputs": [
    {
     "data": {
      "image/png": "[encoded data removed]",
      "text/plain": [
       "<Figure size 720x720 with 4 Axes>"
      ]
     },
     "metadata": {
      "needs_background": "light"
     },
     "output_type": "display_data"
    }
   ],
   "source": [
    "cols = [\"sex\", \"pclass\", \"sibsp\", \"parch\"]\n",
    "n_rows = 2\n",
    "n_cols = 2\n",
    "fig, axs = plt.subplots(n_rows, n_cols, figsize = (n_cols * 5, n_rows*5)) \n",
    "\n",
    "for r in range(0, n_rows):\n",
    "    for c in range(0, n_cols):\n",
    "        i = r*n_cols +c\n",
    "        ax = axs[r][c]\n",
    "        sns.countplot(df[cols[i]], hue=df['survived'], ax=ax)\n",
    "        ax.legend(title = 'survived', loc = 'upper center')\n",
    "\n",
    "plt.show()"
   ]
  },
  {
   "cell_type": "code",
   "execution_count": 13,
   "metadata": {},
   "outputs": [
    {
     "data": {
      "image/png": "[encoded data removed]",
      "text/plain": [
       "<Figure size 2160x720 with 3 Axes>"
      ]
     },
     "metadata": {
      "needs_background": "light"
     },
     "output_type": "display_data"
    },
    {
     "name": "stdout",
     "output_type": "stream",
     "text": [
      "(-0.512, 64.041]      773\n",
      "(64.041, 128.082]      80\n",
      "(128.082, 192.123]     18\n",
      "(192.123, 256.165]     11\n",
      "(256.165, 320.206]      6\n",
      "(448.288, 512.329]      3\n",
      "(384.247, 448.288]      0\n",
      "(320.206, 384.247]      0\n",
      "Name: fare, dtype: int64\n",
      "\n",
      "(20.315, 30.263]    230\n",
      "(30.263, 40.21]     155\n",
      "(10.368, 20.315]    115\n",
      "(40.21, 50.158]      86\n",
      "(0.34, 10.368]       64\n",
      "(50.158, 60.105]     42\n",
      "(60.105, 70.052]     17\n",
      "(70.052, 80.0]        5\n",
      "Name: age, dtype: int64\n"
     ]
    }
   ],
   "source": [
    "cols = [\"embarked\", \"fare\", \"age\"]\n",
    "discrete = df.copy()\n",
    "discrete ['fare'] = pd.cut(discrete['fare'], bins=8) # discretised\n",
    "discrete['age'] = pd.cut(discrete['age'], bins=8) # discretised\n",
    "\n",
    "n_rows = 1\n",
    "n_cols = 3\n",
    "\n",
    "fig, axs = plt.subplots(n_rows, n_cols, figsize = (n_cols * 10, n_rows*10)) \n",
    "\n",
    "for c in range(0, n_cols):\n",
    "    i = c\n",
    "    ax = axs[c]\n",
    "    sns.countplot(discrete[cols[i]], hue=discrete['survived'], ax=ax)\n",
    "    ax.legend(title = 'survived', loc = 'upper center')\n",
    "\n",
    "plt.show()\n",
    "print(discrete.fare.value_counts())\n",
    "print(\"\")\n",
    "print(discrete.age.value_counts())"
   ]
  },
  {
   "cell_type": "markdown",
   "metadata": {},
   "source": [
    "# finished exploring the data.\n",
    "## problems to be handeled:\n",
    "- drop the \"cabin\" column, since over 77% of it is null values.\n",
    "- drop the rows that have null in the \"embarked\" column\n",
    "- fill the null values of age with the mean.\n",
    "- drop all the trivial features i.e (name, ticket) \n",
    "- move survived column to the very right (just for readability)"
   ]
  },
  {
   "cell_type": "code",
   "execution_count": 13,
   "metadata": {},
   "outputs": [],
   "source": [
    "df_copy=df.copy()"
   ]
  },
  {
   "cell_type": "code",
   "execution_count": 14,
   "metadata": {},
   "outputs": [],
   "source": [
    "#dropped the cabin column & the trivial features\n",
    "df.drop(['cabin', 'name', 'ticket'], axis = 1, inplace=True)"
   ]
  },
  {
   "cell_type": "code",
   "execution_count": 15,
   "metadata": {},
   "outputs": [
    {
     "name": "stdout",
     "output_type": "stream",
     "text": [
      "889\n"
     ]
    },
    {
     "data": {
      "text/plain": [
       "<bound method IndexOpsMixin.value_counts of passengerid\n",
       "1      22.000000\n",
       "2      38.000000\n",
       "3      26.000000\n",
       "4      35.000000\n",
       "5      35.000000\n",
       "         ...    \n",
       "887    27.000000\n",
       "888    19.000000\n",
       "889    29.642093\n",
       "890    26.000000\n",
       "891    32.000000\n",
       "Name: age, Length: 889, dtype: float64>"
      ]
     },
     "execution_count": 15,
     "metadata": {},
     "output_type": "execute_result"
    }
   ],
   "source": [
    "df = df.dropna(subset=['embarked'])\n",
    "print(len(df))\n",
    "df['age'] = df['age'].fillna(df['age'].mean())\n",
    "df['age'].value_counts"
   ]
  },
  {
   "cell_type": "code",
   "execution_count": 16,
   "metadata": {},
   "outputs": [
    {
     "data": {
      "text/plain": [
       "survived    0.0\n",
       "pclass      0.0\n",
       "sex         0.0\n",
       "age         0.0\n",
       "sibsp       0.0\n",
       "parch       0.0\n",
       "fare        0.0\n",
       "embarked    0.0\n",
       "dtype: float64"
      ]
     },
     "execution_count": 16,
     "metadata": {},
     "output_type": "execute_result"
    }
   ],
   "source": [
    "round(df.isnull().sum(axis=0)*100/df.shape[0],2)"
   ]
  },
  {
   "cell_type": "code",
   "execution_count": 17,
   "metadata": {},
   "outputs": [
    {
     "data": {
      "text/html": [
       "<div>\n",
       "<style scoped>\n",
       "    .dataframe tbody tr th:only-of-type {\n",
       "        vertical-align: middle;\n",
       "    }\n",
       "\n",
       "    .dataframe tbody tr th {\n",
       "        vertical-align: top;\n",
       "    }\n",
       "\n",
       "    .dataframe thead th {\n",
       "        text-align: right;\n",
       "    }\n",
       "</style>\n",
       "<table border=\"1\" class=\"dataframe\">\n",
       "  <thead>\n",
       "    <tr style=\"text-align: right;\">\n",
       "      <th></th>\n",
       "      <th>survived</th>\n",
       "      <th>pclass</th>\n",
       "      <th>sex</th>\n",
       "      <th>age</th>\n",
       "      <th>sibsp</th>\n",
       "      <th>parch</th>\n",
       "      <th>fare</th>\n",
       "      <th>embarked</th>\n",
       "    </tr>\n",
       "    <tr>\n",
       "      <th>passengerid</th>\n",
       "      <th></th>\n",
       "      <th></th>\n",
       "      <th></th>\n",
       "      <th></th>\n",
       "      <th></th>\n",
       "      <th></th>\n",
       "      <th></th>\n",
       "      <th></th>\n",
       "    </tr>\n",
       "  </thead>\n",
       "  <tbody>\n",
       "    <tr>\n",
       "      <th>1</th>\n",
       "      <td>0</td>\n",
       "      <td>3</td>\n",
       "      <td>male</td>\n",
       "      <td>22.000000</td>\n",
       "      <td>1</td>\n",
       "      <td>0</td>\n",
       "      <td>7.2500</td>\n",
       "      <td>S</td>\n",
       "    </tr>\n",
       "    <tr>\n",
       "      <th>2</th>\n",
       "      <td>1</td>\n",
       "      <td>1</td>\n",
       "      <td>female</td>\n",
       "      <td>38.000000</td>\n",
       "      <td>1</td>\n",
       "      <td>0</td>\n",
       "      <td>71.2833</td>\n",
       "      <td>C</td>\n",
       "    </tr>\n",
       "    <tr>\n",
       "      <th>3</th>\n",
       "      <td>1</td>\n",
       "      <td>3</td>\n",
       "      <td>female</td>\n",
       "      <td>26.000000</td>\n",
       "      <td>0</td>\n",
       "      <td>0</td>\n",
       "      <td>7.9250</td>\n",
       "      <td>S</td>\n",
       "    </tr>\n",
       "    <tr>\n",
       "      <th>4</th>\n",
       "      <td>1</td>\n",
       "      <td>1</td>\n",
       "      <td>female</td>\n",
       "      <td>35.000000</td>\n",
       "      <td>1</td>\n",
       "      <td>0</td>\n",
       "      <td>53.1000</td>\n",
       "      <td>S</td>\n",
       "    </tr>\n",
       "    <tr>\n",
       "      <th>5</th>\n",
       "      <td>0</td>\n",
       "      <td>3</td>\n",
       "      <td>male</td>\n",
       "      <td>35.000000</td>\n",
       "      <td>0</td>\n",
       "      <td>0</td>\n",
       "      <td>8.0500</td>\n",
       "      <td>S</td>\n",
       "    </tr>\n",
       "    <tr>\n",
       "      <th>...</th>\n",
       "      <td>...</td>\n",
       "      <td>...</td>\n",
       "      <td>...</td>\n",
       "      <td>...</td>\n",
       "      <td>...</td>\n",
       "      <td>...</td>\n",
       "      <td>...</td>\n",
       "      <td>...</td>\n",
       "    </tr>\n",
       "    <tr>\n",
       "      <th>887</th>\n",
       "      <td>0</td>\n",
       "      <td>2</td>\n",
       "      <td>male</td>\n",
       "      <td>27.000000</td>\n",
       "      <td>0</td>\n",
       "      <td>0</td>\n",
       "      <td>13.0000</td>\n",
       "      <td>S</td>\n",
       "    </tr>\n",
       "    <tr>\n",
       "      <th>888</th>\n",
       "      <td>1</td>\n",
       "      <td>1</td>\n",
       "      <td>female</td>\n",
       "      <td>19.000000</td>\n",
       "      <td>0</td>\n",
       "      <td>0</td>\n",
       "      <td>30.0000</td>\n",
       "      <td>S</td>\n",
       "    </tr>\n",
       "    <tr>\n",
       "      <th>889</th>\n",
       "      <td>0</td>\n",
       "      <td>3</td>\n",
       "      <td>female</td>\n",
       "      <td>29.642093</td>\n",
       "      <td>1</td>\n",
       "      <td>2</td>\n",
       "      <td>23.4500</td>\n",
       "      <td>S</td>\n",
       "    </tr>\n",
       "    <tr>\n",
       "      <th>890</th>\n",
       "      <td>1</td>\n",
       "      <td>1</td>\n",
       "      <td>male</td>\n",
       "      <td>26.000000</td>\n",
       "      <td>0</td>\n",
       "      <td>0</td>\n",
       "      <td>30.0000</td>\n",
       "      <td>C</td>\n",
       "    </tr>\n",
       "    <tr>\n",
       "      <th>891</th>\n",
       "      <td>0</td>\n",
       "      <td>3</td>\n",
       "      <td>male</td>\n",
       "      <td>32.000000</td>\n",
       "      <td>0</td>\n",
       "      <td>0</td>\n",
       "      <td>7.7500</td>\n",
       "      <td>Q</td>\n",
       "    </tr>\n",
       "  </tbody>\n",
       "</table>\n",
       "<p>889 rows × 8 columns</p>\n",
       "</div>"
      ],
      "text/plain": [
       "             survived  pclass     sex        age  sibsp  parch     fare  \\\n",
       "passengerid                                                               \n",
       "1                   0       3    male  22.000000      1      0   7.2500   \n",
       "2                   1       1  female  38.000000      1      0  71.2833   \n",
       "3                   1       3  female  26.000000      0      0   7.9250   \n",
       "4                   1       1  female  35.000000      1      0  53.1000   \n",
       "5                   0       3    male  35.000000      0      0   8.0500   \n",
       "...               ...     ...     ...        ...    ...    ...      ...   \n",
       "887                 0       2    male  27.000000      0      0  13.0000   \n",
       "888                 1       1  female  19.000000      0      0  30.0000   \n",
       "889                 0       3  female  29.642093      1      2  23.4500   \n",
       "890                 1       1    male  26.000000      0      0  30.0000   \n",
       "891                 0       3    male  32.000000      0      0   7.7500   \n",
       "\n",
       "            embarked  \n",
       "passengerid           \n",
       "1                  S  \n",
       "2                  C  \n",
       "3                  S  \n",
       "4                  S  \n",
       "5                  S  \n",
       "...              ...  \n",
       "887                S  \n",
       "888                S  \n",
       "889                S  \n",
       "890                C  \n",
       "891                Q  \n",
       "\n",
       "[889 rows x 8 columns]"
      ]
     },
     "execution_count": 17,
     "metadata": {},
     "output_type": "execute_result"
    }
   ],
   "source": [
    "df"
   ]
  },
  {
   "cell_type": "code",
   "execution_count": 18,
   "metadata": {},
   "outputs": [],
   "source": [
    "#removing survived column then adding it at the end\n",
    "df = df.drop(columns=['survived']).assign(survived = df['survived'])"
   ]
  },
  {
   "cell_type": "code",
   "execution_count": 19,
   "metadata": {},
   "outputs": [
    {
     "data": {
      "text/plain": [
       "pclass        int64\n",
       "sex          object\n",
       "age         float64\n",
       "sibsp         int64\n",
       "parch         int64\n",
       "fare        float64\n",
       "embarked     object\n",
       "survived      int64\n",
       "dtype: object"
      ]
     },
     "execution_count": 19,
     "metadata": {},
     "output_type": "execute_result"
    }
   ],
   "source": [
    "df.dtypes"
   ]
  },
  {
   "cell_type": "code",
   "execution_count": 20,
   "metadata": {},
   "outputs": [
    {
     "data": {
      "text/html": [
       "<div>\n",
       "<style scoped>\n",
       "    .dataframe tbody tr th:only-of-type {\n",
       "        vertical-align: middle;\n",
       "    }\n",
       "\n",
       "    .dataframe tbody tr th {\n",
       "        vertical-align: top;\n",
       "    }\n",
       "\n",
       "    .dataframe thead th {\n",
       "        text-align: right;\n",
       "    }\n",
       "</style>\n",
       "<table border=\"1\" class=\"dataframe\">\n",
       "  <thead>\n",
       "    <tr style=\"text-align: right;\">\n",
       "      <th></th>\n",
       "      <th>age</th>\n",
       "      <th>sibsp</th>\n",
       "      <th>parch</th>\n",
       "      <th>fare</th>\n",
       "      <th>pclass_2</th>\n",
       "      <th>pclass_3</th>\n",
       "      <th>sex_male</th>\n",
       "      <th>embarked_Q</th>\n",
       "      <th>embarked_S</th>\n",
       "      <th>survived</th>\n",
       "    </tr>\n",
       "    <tr>\n",
       "      <th>passengerid</th>\n",
       "      <th></th>\n",
       "      <th></th>\n",
       "      <th></th>\n",
       "      <th></th>\n",
       "      <th></th>\n",
       "      <th></th>\n",
       "      <th></th>\n",
       "      <th></th>\n",
       "      <th></th>\n",
       "      <th></th>\n",
       "    </tr>\n",
       "  </thead>\n",
       "  <tbody>\n",
       "    <tr>\n",
       "      <th>1</th>\n",
       "      <td>22.0</td>\n",
       "      <td>1</td>\n",
       "      <td>0</td>\n",
       "      <td>7.2500</td>\n",
       "      <td>0</td>\n",
       "      <td>1</td>\n",
       "      <td>1</td>\n",
       "      <td>0</td>\n",
       "      <td>1</td>\n",
       "      <td>0</td>\n",
       "    </tr>\n",
       "    <tr>\n",
       "      <th>2</th>\n",
       "      <td>38.0</td>\n",
       "      <td>1</td>\n",
       "      <td>0</td>\n",
       "      <td>71.2833</td>\n",
       "      <td>0</td>\n",
       "      <td>0</td>\n",
       "      <td>0</td>\n",
       "      <td>0</td>\n",
       "      <td>0</td>\n",
       "      <td>1</td>\n",
       "    </tr>\n",
       "    <tr>\n",
       "      <th>3</th>\n",
       "      <td>26.0</td>\n",
       "      <td>0</td>\n",
       "      <td>0</td>\n",
       "      <td>7.9250</td>\n",
       "      <td>0</td>\n",
       "      <td>1</td>\n",
       "      <td>0</td>\n",
       "      <td>0</td>\n",
       "      <td>1</td>\n",
       "      <td>1</td>\n",
       "    </tr>\n",
       "    <tr>\n",
       "      <th>4</th>\n",
       "      <td>35.0</td>\n",
       "      <td>1</td>\n",
       "      <td>0</td>\n",
       "      <td>53.1000</td>\n",
       "      <td>0</td>\n",
       "      <td>0</td>\n",
       "      <td>0</td>\n",
       "      <td>0</td>\n",
       "      <td>1</td>\n",
       "      <td>1</td>\n",
       "    </tr>\n",
       "    <tr>\n",
       "      <th>5</th>\n",
       "      <td>35.0</td>\n",
       "      <td>0</td>\n",
       "      <td>0</td>\n",
       "      <td>8.0500</td>\n",
       "      <td>0</td>\n",
       "      <td>1</td>\n",
       "      <td>1</td>\n",
       "      <td>0</td>\n",
       "      <td>1</td>\n",
       "      <td>0</td>\n",
       "    </tr>\n",
       "  </tbody>\n",
       "</table>\n",
       "</div>"
      ],
      "text/plain": [
       "              age  sibsp  parch     fare  pclass_2  pclass_3  sex_male  \\\n",
       "passengerid                                                              \n",
       "1            22.0      1      0   7.2500         0         1         1   \n",
       "2            38.0      1      0  71.2833         0         0         0   \n",
       "3            26.0      0      0   7.9250         0         1         0   \n",
       "4            35.0      1      0  53.1000         0         0         0   \n",
       "5            35.0      0      0   8.0500         0         1         1   \n",
       "\n",
       "             embarked_Q  embarked_S  survived  \n",
       "passengerid                                    \n",
       "1                     0           1         0  \n",
       "2                     0           0         1  \n",
       "3                     0           1         1  \n",
       "4                     0           1         1  \n",
       "5                     0           1         0  "
      ]
     },
     "execution_count": 20,
     "metadata": {},
     "output_type": "execute_result"
    }
   ],
   "source": [
    "#hot_one encoding forthe categorical data\n",
    "df_enc = pd.get_dummies(df, columns=['pclass', 'sex', 'embarked'], drop_first=True)\n",
    "df_enc = df_enc.drop(columns=['survived']).assign(survived = df['survived'])\n",
    "df_enc.head()"
   ]
  },
  {
   "cell_type": "code",
   "execution_count": 21,
   "metadata": {},
   "outputs": [],
   "source": [
    "from sklearn.model_selection import train_test_split\n",
    "\n",
    "X_train_original, y_train_original= df_enc.iloc[:,:-1] ,df_enc.iloc[:,-1]\n",
    "\n",
    "X_train, X_test, y_train, y_test = train_test_split(df_enc.iloc[:,:-1],df_enc.iloc[:,-1] ,test_size=0.3, shuffle=True, \n",
    "                                         random_state=23,stratify=df_enc.iloc[:,-1])\n",
    "\n",
    "X_val, X_test, y_val, y_test = train_test_split(X_test,y_test ,test_size=0.5, shuffle=True, \n",
    "                                         random_state=23,stratify=y_test)"
   ]
  },
  {
   "cell_type": "code",
   "execution_count": 22,
   "metadata": {},
   "outputs": [
    {
     "data": {
      "text/html": [
       "<div>\n",
       "<style scoped>\n",
       "    .dataframe tbody tr th:only-of-type {\n",
       "        vertical-align: middle;\n",
       "    }\n",
       "\n",
       "    .dataframe tbody tr th {\n",
       "        vertical-align: top;\n",
       "    }\n",
       "\n",
       "    .dataframe thead th {\n",
       "        text-align: right;\n",
       "    }\n",
       "</style>\n",
       "<table border=\"1\" class=\"dataframe\">\n",
       "  <thead>\n",
       "    <tr style=\"text-align: right;\">\n",
       "      <th></th>\n",
       "      <th>age</th>\n",
       "      <th>sibsp</th>\n",
       "      <th>parch</th>\n",
       "      <th>fare</th>\n",
       "      <th>pclass_2</th>\n",
       "      <th>pclass_3</th>\n",
       "      <th>sex_male</th>\n",
       "      <th>embarked_Q</th>\n",
       "      <th>embarked_S</th>\n",
       "    </tr>\n",
       "    <tr>\n",
       "      <th>passengerid</th>\n",
       "      <th></th>\n",
       "      <th></th>\n",
       "      <th></th>\n",
       "      <th></th>\n",
       "      <th></th>\n",
       "      <th></th>\n",
       "      <th></th>\n",
       "      <th></th>\n",
       "      <th></th>\n",
       "    </tr>\n",
       "  </thead>\n",
       "  <tbody>\n",
       "    <tr>\n",
       "      <th>482</th>\n",
       "      <td>29.642093</td>\n",
       "      <td>0</td>\n",
       "      <td>0</td>\n",
       "      <td>0.0000</td>\n",
       "      <td>1</td>\n",
       "      <td>0</td>\n",
       "      <td>1</td>\n",
       "      <td>0</td>\n",
       "      <td>1</td>\n",
       "    </tr>\n",
       "    <tr>\n",
       "      <th>166</th>\n",
       "      <td>9.000000</td>\n",
       "      <td>0</td>\n",
       "      <td>2</td>\n",
       "      <td>20.5250</td>\n",
       "      <td>0</td>\n",
       "      <td>1</td>\n",
       "      <td>1</td>\n",
       "      <td>0</td>\n",
       "      <td>1</td>\n",
       "    </tr>\n",
       "    <tr>\n",
       "      <th>261</th>\n",
       "      <td>29.642093</td>\n",
       "      <td>0</td>\n",
       "      <td>0</td>\n",
       "      <td>7.7500</td>\n",
       "      <td>0</td>\n",
       "      <td>1</td>\n",
       "      <td>1</td>\n",
       "      <td>1</td>\n",
       "      <td>0</td>\n",
       "    </tr>\n",
       "    <tr>\n",
       "      <th>361</th>\n",
       "      <td>40.000000</td>\n",
       "      <td>1</td>\n",
       "      <td>4</td>\n",
       "      <td>27.9000</td>\n",
       "      <td>0</td>\n",
       "      <td>1</td>\n",
       "      <td>1</td>\n",
       "      <td>0</td>\n",
       "      <td>1</td>\n",
       "    </tr>\n",
       "    <tr>\n",
       "      <th>810</th>\n",
       "      <td>33.000000</td>\n",
       "      <td>1</td>\n",
       "      <td>0</td>\n",
       "      <td>53.1000</td>\n",
       "      <td>0</td>\n",
       "      <td>0</td>\n",
       "      <td>0</td>\n",
       "      <td>0</td>\n",
       "      <td>1</td>\n",
       "    </tr>\n",
       "    <tr>\n",
       "      <th>...</th>\n",
       "      <td>...</td>\n",
       "      <td>...</td>\n",
       "      <td>...</td>\n",
       "      <td>...</td>\n",
       "      <td>...</td>\n",
       "      <td>...</td>\n",
       "      <td>...</td>\n",
       "      <td>...</td>\n",
       "      <td>...</td>\n",
       "    </tr>\n",
       "    <tr>\n",
       "      <th>52</th>\n",
       "      <td>21.000000</td>\n",
       "      <td>0</td>\n",
       "      <td>0</td>\n",
       "      <td>7.8000</td>\n",
       "      <td>0</td>\n",
       "      <td>1</td>\n",
       "      <td>1</td>\n",
       "      <td>0</td>\n",
       "      <td>1</td>\n",
       "    </tr>\n",
       "    <tr>\n",
       "      <th>591</th>\n",
       "      <td>35.000000</td>\n",
       "      <td>0</td>\n",
       "      <td>0</td>\n",
       "      <td>7.1250</td>\n",
       "      <td>0</td>\n",
       "      <td>1</td>\n",
       "      <td>1</td>\n",
       "      <td>0</td>\n",
       "      <td>1</td>\n",
       "    </tr>\n",
       "    <tr>\n",
       "      <th>42</th>\n",
       "      <td>27.000000</td>\n",
       "      <td>1</td>\n",
       "      <td>0</td>\n",
       "      <td>21.0000</td>\n",
       "      <td>1</td>\n",
       "      <td>0</td>\n",
       "      <td>0</td>\n",
       "      <td>0</td>\n",
       "      <td>1</td>\n",
       "    </tr>\n",
       "    <tr>\n",
       "      <th>821</th>\n",
       "      <td>52.000000</td>\n",
       "      <td>1</td>\n",
       "      <td>1</td>\n",
       "      <td>93.5000</td>\n",
       "      <td>0</td>\n",
       "      <td>0</td>\n",
       "      <td>0</td>\n",
       "      <td>0</td>\n",
       "      <td>1</td>\n",
       "    </tr>\n",
       "    <tr>\n",
       "      <th>288</th>\n",
       "      <td>22.000000</td>\n",
       "      <td>0</td>\n",
       "      <td>0</td>\n",
       "      <td>7.8958</td>\n",
       "      <td>0</td>\n",
       "      <td>1</td>\n",
       "      <td>1</td>\n",
       "      <td>0</td>\n",
       "      <td>1</td>\n",
       "    </tr>\n",
       "  </tbody>\n",
       "</table>\n",
       "<p>622 rows × 9 columns</p>\n",
       "</div>"
      ],
      "text/plain": [
       "                   age  sibsp  parch     fare  pclass_2  pclass_3  sex_male  \\\n",
       "passengerid                                                                   \n",
       "482          29.642093      0      0   0.0000         1         0         1   \n",
       "166           9.000000      0      2  20.5250         0         1         1   \n",
       "261          29.642093      0      0   7.7500         0         1         1   \n",
       "361          40.000000      1      4  27.9000         0         1         1   \n",
       "810          33.000000      1      0  53.1000         0         0         0   \n",
       "...                ...    ...    ...      ...       ...       ...       ...   \n",
       "52           21.000000      0      0   7.8000         0         1         1   \n",
       "591          35.000000      0      0   7.1250         0         1         1   \n",
       "42           27.000000      1      0  21.0000         1         0         0   \n",
       "821          52.000000      1      1  93.5000         0         0         0   \n",
       "288          22.000000      0      0   7.8958         0         1         1   \n",
       "\n",
       "             embarked_Q  embarked_S  \n",
       "passengerid                          \n",
       "482                   0           1  \n",
       "166                   0           1  \n",
       "261                   1           0  \n",
       "361                   0           1  \n",
       "810                   0           1  \n",
       "...                 ...         ...  \n",
       "52                    0           1  \n",
       "591                   0           1  \n",
       "42                    0           1  \n",
       "821                   0           1  \n",
       "288                   0           1  \n",
       "\n",
       "[622 rows x 9 columns]"
      ]
     },
     "execution_count": 22,
     "metadata": {},
     "output_type": "execute_result"
    }
   ],
   "source": [
    "X_train"
   ]
  },
  {
   "cell_type": "code",
   "execution_count": 23,
   "metadata": {},
   "outputs": [
    {
     "data": {
      "text/plain": [
       "passengerid\n",
       "482    0\n",
       "166    1\n",
       "261    0\n",
       "361    0\n",
       "810    1\n",
       "      ..\n",
       "52     0\n",
       "591    0\n",
       "42     0\n",
       "821    1\n",
       "288    0\n",
       "Name: survived, Length: 622, dtype: int64"
      ]
     },
     "execution_count": 23,
     "metadata": {},
     "output_type": "execute_result"
    }
   ],
   "source": [
    "y_train"
   ]
  },
  {
   "cell_type": "code",
   "execution_count": 24,
   "metadata": {},
   "outputs": [
    {
     "data": {
      "text/plain": [
       "0.38263665594855306"
      ]
     },
     "execution_count": 24,
     "metadata": {},
     "output_type": "execute_result"
    }
   ],
   "source": [
    "y_train.sum()/y_train.shape[0]"
   ]
  },
  {
   "cell_type": "code",
   "execution_count": 25,
   "metadata": {},
   "outputs": [
    {
     "data": {
      "text/plain": [
       "(622,)"
      ]
     },
     "execution_count": 25,
     "metadata": {},
     "output_type": "execute_result"
    }
   ],
   "source": [
    "y_train.shape"
   ]
  },
  {
   "cell_type": "code",
   "execution_count": 26,
   "metadata": {},
   "outputs": [
    {
     "data": {
      "text/plain": [
       "(133,)"
      ]
     },
     "execution_count": 26,
     "metadata": {},
     "output_type": "execute_result"
    }
   ],
   "source": [
    "y_val.shape"
   ]
  },
  {
   "cell_type": "code",
   "execution_count": 27,
   "metadata": {},
   "outputs": [
    {
     "data": {
      "text/plain": [
       "0.38345864661654133"
      ]
     },
     "execution_count": 27,
     "metadata": {},
     "output_type": "execute_result"
    }
   ],
   "source": [
    "y_val.sum()/y_val.shape[0]"
   ]
  },
  {
   "cell_type": "markdown",
   "metadata": {},
   "source": [
    "# importing the learning models \n",
    "- Logistic regression\n",
    "- Decision tree\n",
    "- Random forest"
   ]
  },
  {
   "cell_type": "markdown",
   "metadata": {},
   "source": [
    "### 1) Logistic Regression model"
   ]
  },
  {
   "cell_type": "code",
   "execution_count": 28,
   "metadata": {},
   "outputs": [],
   "source": [
    "from sklearn.linear_model import LogisticRegression\n",
    "\n",
    "clf = LogisticRegression(random_state=0,max_iter=3000,C=10,penalty='l2',solver='liblinear')"
   ]
  },
  {
   "cell_type": "code",
   "execution_count": 29,
   "metadata": {},
   "outputs": [
    {
     "data": {
      "text/plain": [
       "LogisticRegression(C=10, max_iter=3000, random_state=0, solver='liblinear')"
      ]
     },
     "execution_count": 29,
     "metadata": {},
     "output_type": "execute_result"
    }
   ],
   "source": [
    "clf.fit(X_train,y_train)"
   ]
  },
  {
   "cell_type": "code",
   "execution_count": 30,
   "metadata": {},
   "outputs": [
    {
     "data": {
      "text/plain": [
       "array([[-0.04714034, -0.37054783, -0.24854916,  0.00441593, -0.91042762,\n",
       "        -2.24728303, -2.69031126, -0.06680754, -0.47731453]])"
      ]
     },
     "execution_count": 30,
     "metadata": {},
     "output_type": "execute_result"
    }
   ],
   "source": [
    "clf.coef_"
   ]
  },
  {
   "cell_type": "code",
   "execution_count": 31,
   "metadata": {},
   "outputs": [
    {
     "data": {
      "text/plain": [
       "array([4.36608061])"
      ]
     },
     "execution_count": 31,
     "metadata": {},
     "output_type": "execute_result"
    }
   ],
   "source": [
    "clf.intercept_"
   ]
  },
  {
   "cell_type": "code",
   "execution_count": 32,
   "metadata": {},
   "outputs": [
    {
     "name": "stdout",
     "output_type": "stream",
     "text": [
      "0.03051436237641183\n"
     ]
    }
   ],
   "source": [
    "x1,x2,x3,x4,x5,x6,x7,x8,x9 = 52, 1, 0, 0, 0, 1, 1, 1, 0\n",
    "z= 4.36710773 -0.04714563*x1 -0.37065683*x2 -0.24872126*x3  +0.00441433*x4 -0.91082773*x5 -2.24725442*x6 -2.69040892*x7 -0.06578299*x8 -0.47746397*x9\n",
    "y= 1/(1+np.exp(-z))\n",
    "print(y)"
   ]
  },
  {
   "cell_type": "code",
   "execution_count": 33,
   "metadata": {},
   "outputs": [
    {
     "name": "stdout",
     "output_type": "stream",
     "text": [
      "0.7985074626865671\n"
     ]
    }
   ],
   "source": [
    "from sklearn.metrics import accuracy_score\n",
    "logisticRegression_acc=accuracy_score(y_test, clf.predict(X_test))\n",
    "print(logisticRegression_acc)"
   ]
  },
  {
   "cell_type": "code",
   "execution_count": 34,
   "metadata": {},
   "outputs": [
    {
     "name": "stdout",
     "output_type": "stream",
     "text": [
      "0.6470588235294118\n"
     ]
    }
   ],
   "source": [
    "from sklearn.metrics import recall_score\n",
    "logisticRegression_recall = recall_score(y_test, clf.predict(X_test))\n",
    "print(logisticRegression_recall)"
   ]
  },
  {
   "cell_type": "code",
   "execution_count": 35,
   "metadata": {},
   "outputs": [
    {
     "name": "stdout",
     "output_type": "stream",
     "text": [
      "0.7857142857142857\n"
     ]
    }
   ],
   "source": [
    "from sklearn.metrics import precision_score\n",
    "logisticRegression_precision = precision_score(y_test, clf.predict(X_test))\n",
    "print(logisticRegression_precision)"
   ]
  },
  {
   "cell_type": "markdown",
   "metadata": {},
   "source": [
    "\n",
    "###### using cross-validation "
   ]
  },
  {
   "cell_type": "code",
   "execution_count": 36,
   "metadata": {},
   "outputs": [
    {
     "name": "stdout",
     "output_type": "stream",
     "text": [
      "[0.7752809  0.79775281 0.76404494 0.84269663 0.79775281 0.7752809\n",
      " 0.78651685 0.78651685 0.83146067 0.85227273]\n"
     ]
    }
   ],
   "source": [
    "#using initial params\n",
    "from sklearn.model_selection import cross_val_score, cross_val_predict\n",
    "from sklearn.metrics import confusion_matrix, classification_report, accuracy_score\n",
    "\n",
    "\n",
    "logistic = LogisticRegression(random_state=0,max_iter=3000,C=10,penalty='l2',solver='liblinear')\n",
    "log_scores = cross_val_score(logistic, X_train_original, y_train_original, cv=10, scoring='accuracy')\n",
    "print (log_scores)"
   ]
  },
  {
   "cell_type": "code",
   "execution_count": 37,
   "metadata": {},
   "outputs": [
    {
     "name": "stdout",
     "output_type": "stream",
     "text": [
      "0.8009576098059243\n"
     ]
    }
   ],
   "source": [
    "print (log_scores.mean())"
   ]
  },
  {
   "cell_type": "code",
   "execution_count": 38,
   "metadata": {},
   "outputs": [
    {
     "name": "stdout",
     "output_type": "stream",
     "text": [
      "[0.7255617977528089, 0.7255617977528089, 0.7255617977528089, 0.7255617977528089, 0.8087589376915219, 0.8087589376915219, 0.8087589376915219, 0.8087589376915219, 0.7997701736465782, 0.7997701736465782, 0.7997701736465782, 0.7997701736465782, 0.8009576098059243, 0.8009576098059243, 0.8009576098059243, 0.8009576098059243, 0.8009576098059243, 0.8009576098059243, 0.8009576098059243, 0.8009576098059243]\n"
     ]
    }
   ],
   "source": [
    "C_values = [0.01, 0.1, 1, 10, 100]\n",
    "max_iter_values = [100, 200, 400, 800]\n",
    "best_scores = []\n",
    "different_parameters = []\n",
    "for i in C_values:\n",
    "    for j in max_iter_values:\n",
    "        logistic = LogisticRegression(random_state=0, max_iter=j, C=i, penalty='l2', solver='liblinear')\n",
    "        log_scores = cross_val_score(logistic, X_train_original, y_train_original, cv=10, scoring='accuracy')\n",
    "        best_scores.append(log_scores.mean())\n",
    "        different_parameters.append(str(i) + \", \" + str(j))\n",
    "print(best_scores)        "
   ]
  },
  {
   "cell_type": "code",
   "execution_count": 39,
   "metadata": {},
   "outputs": [
    {
     "data": {
      "text/plain": [
       "Text(0, 0.5, 'Cross-Validated Accuracy')"
      ]
     },
     "execution_count": 39,
     "metadata": {},
     "output_type": "execute_result"
    },
    {
     "data": {
      "image/png": "[encoded data removed]",
      "text/plain": [
       "<Figure size 1440x360 with 1 Axes>"
      ]
     },
     "metadata": {
      "needs_background": "light"
     },
     "output_type": "display_data"
    }
   ],
   "source": [
    "plt.figure(figsize=(20,5))\n",
    "plt.plot(different_parameters, best_scores)\n",
    "plt.xlabel(\"Different parameters values (C, max_itr)\")\n",
    "plt.ylabel(\"Cross-Validated Accuracy\")"
   ]
  },
  {
   "cell_type": "markdown",
   "metadata": {},
   "source": [
    "from the plot above we pick the values (c = 0.1 & max_itr = 200)"
   ]
  },
  {
   "cell_type": "code",
   "execution_count": 40,
   "metadata": {},
   "outputs": [
    {
     "name": "stdout",
     "output_type": "stream",
     "text": [
      "[[497  52]\n",
      " [118 222]]\n",
      "              precision    recall  f1-score   support\n",
      "\n",
      "           0       0.81      0.91      0.85       549\n",
      "           1       0.81      0.65      0.72       340\n",
      "\n",
      "    accuracy                           0.81       889\n",
      "   macro avg       0.81      0.78      0.79       889\n",
      "weighted avg       0.81      0.81      0.80       889\n",
      "\n",
      "Accuracy (train): 0.8087739032620922\n",
      "[[76  7]\n",
      " [22 29]]\n",
      "              precision    recall  f1-score   support\n",
      "\n",
      "           0       0.78      0.92      0.84        83\n",
      "           1       0.81      0.57      0.67        51\n",
      "\n",
      "    accuracy                           0.78       134\n",
      "   macro avg       0.79      0.74      0.75       134\n",
      "weighted avg       0.79      0.78      0.77       134\n",
      "\n",
      "Accuracy (test): 0.7835820895522388\n"
     ]
    }
   ],
   "source": [
    "logistic = LogisticRegression(random_state=0, max_iter=200, C=0.1, penalty='l2', solver='liblinear')\n",
    "\n",
    "y_pred = cross_val_predict(logistic,X_train_original, y_train_original, cv=10)\n",
    "conf_mat = confusion_matrix(y_train_original, y_pred)\n",
    "print(conf_mat)\n",
    "print(classification_report(y_train_original, y_pred))\n",
    "print(\"Accuracy (train):\", accuracy_score(y_train_original, y_pred))\n",
    "\n",
    "y_pred = cross_val_predict(logistic,X_test, y_test, cv=10)\n",
    "conf_mat = confusion_matrix(y_test, y_pred)\n",
    "\n",
    "cv_logisticRegression_acc = accuracy_score(y_test, y_pred)\n",
    "cv_logisticRegression_recall = recall_score(y_test, y_pred)\n",
    "cv_logisticRegression_precision = precision_score(y_test, y_pred)\n",
    "print(conf_mat)\n",
    "print(classification_report(y_test, y_pred))\n",
    "print(\"Accuracy (test):\", cv_logisticRegression_acc)"
   ]
  },
  {
   "cell_type": "markdown",
   "metadata": {},
   "source": [
    "### 2) Decision Tree Model"
   ]
  },
  {
   "cell_type": "code",
   "execution_count": 41,
   "metadata": {},
   "outputs": [
    {
     "data": {
      "text/plain": [
       "[Text(174.71186079545456, 208.38, 'X[6] <= 0.5\\ngini = 0.472\\nsamples = 622\\nvalue = [384, 238]'),\n",
       " Text(76.56647727272727, 190.26, 'X[5] <= 0.5\\ngini = 0.396\\nsamples = 221\\nvalue = [60, 161]'),\n",
       " Text(30.436363636363637, 172.14, 'X[0] <= 43.5\\ngini = 0.095\\nsamples = 120\\nvalue = [6, 114]'),\n",
       " Text(11.413636363636364, 154.01999999999998, 'X[0] <= 27.5\\ngini = 0.059\\nsamples = 99\\nvalue = [3, 96]'),\n",
       " Text(7.609090909090909, 135.89999999999998, 'X[0] <= 24.5\\ngini = 0.133\\nsamples = 42\\nvalue = [3, 39]'),\n",
       " Text(3.8045454545454547, 117.77999999999999, 'gini = 0.0\\nsamples = 36\\nvalue = [0, 36]'),\n",
       " Text(11.413636363636364, 117.77999999999999, 'X[1] <= 0.5\\ngini = 0.5\\nsamples = 6\\nvalue = [3, 3]'),\n",
       " Text(7.609090909090909, 99.66, 'gini = 0.0\\nsamples = 2\\nvalue = [0, 2]'),\n",
       " Text(15.218181818181819, 99.66, 'X[3] <= 28.0\\ngini = 0.375\\nsamples = 4\\nvalue = [3, 1]'),\n",
       " Text(11.413636363636364, 81.53999999999999, 'gini = 0.0\\nsamples = 2\\nvalue = [2, 0]'),\n",
       " Text(19.022727272727273, 81.53999999999999, 'X[3] <= 90.775\\ngini = 0.5\\nsamples = 2\\nvalue = [1, 1]'),\n",
       " Text(15.218181818181819, 63.41999999999999, 'gini = 0.0\\nsamples = 1\\nvalue = [0, 1]'),\n",
       " Text(22.827272727272728, 63.41999999999999, 'gini = 0.0\\nsamples = 1\\nvalue = [1, 0]'),\n",
       " Text(15.218181818181819, 135.89999999999998, 'gini = 0.0\\nsamples = 57\\nvalue = [0, 57]'),\n",
       " Text(49.45909090909091, 154.01999999999998, 'X[3] <= 44.056\\ngini = 0.245\\nsamples = 21\\nvalue = [3, 18]'),\n",
       " Text(45.654545454545456, 135.89999999999998, 'X[0] <= 53.5\\ngini = 0.444\\nsamples = 9\\nvalue = [3, 6]'),\n",
       " Text(41.85, 117.77999999999999, 'X[3] <= 28.217\\ngini = 0.375\\nsamples = 8\\nvalue = [2, 6]'),\n",
       " Text(38.04545454545455, 99.66, 'X[0] <= 44.5\\ngini = 0.245\\nsamples = 7\\nvalue = [1, 6]'),\n",
       " Text(34.24090909090909, 81.53999999999999, 'X[1] <= 0.5\\ngini = 0.5\\nsamples = 2\\nvalue = [1, 1]'),\n",
       " Text(30.436363636363637, 63.41999999999999, 'gini = 0.0\\nsamples = 1\\nvalue = [0, 1]'),\n",
       " Text(38.04545454545455, 63.41999999999999, 'gini = 0.0\\nsamples = 1\\nvalue = [1, 0]'),\n",
       " Text(41.85, 81.53999999999999, 'gini = 0.0\\nsamples = 5\\nvalue = [0, 5]'),\n",
       " Text(45.654545454545456, 99.66, 'gini = 0.0\\nsamples = 1\\nvalue = [1, 0]'),\n",
       " Text(49.45909090909091, 117.77999999999999, 'gini = 0.0\\nsamples = 1\\nvalue = [1, 0]'),\n",
       " Text(53.263636363636365, 135.89999999999998, 'gini = 0.0\\nsamples = 12\\nvalue = [0, 12]'),\n",
       " Text(122.69659090909092, 172.14, 'X[3] <= 26.025\\ngini = 0.498\\nsamples = 101\\nvalue = [54, 47]'),\n",
       " Text(100.82045454545455, 154.01999999999998, 'X[0] <= 29.821\\ngini = 0.495\\nsamples = 84\\nvalue = [38, 46]'),\n",
       " Text(76.0909090909091, 135.89999999999998, 'X[3] <= 7.888\\ngini = 0.471\\nsamples = 71\\nvalue = [27, 44]'),\n",
       " Text(57.06818181818182, 117.77999999999999, 'X[2] <= 1.0\\ngini = 0.375\\nsamples = 28\\nvalue = [7, 21]'),\n",
       " Text(53.263636363636365, 99.66, 'X[3] <= 6.987\\ngini = 0.346\\nsamples = 27\\nvalue = [6, 21]'),\n",
       " Text(49.45909090909091, 81.53999999999999, 'gini = 0.0\\nsamples = 1\\nvalue = [1, 0]'),\n",
       " Text(57.06818181818182, 81.53999999999999, 'X[3] <= 7.802\\ngini = 0.311\\nsamples = 26\\nvalue = [5, 21]'),\n",
       " Text(53.263636363636365, 63.41999999999999, 'X[3] <= 7.763\\ngini = 0.375\\nsamples = 20\\nvalue = [5, 15]'),\n",
       " Text(49.45909090909091, 45.29999999999998, 'X[3] <= 7.4\\ngini = 0.332\\nsamples = 19\\nvalue = [4, 15]'),\n",
       " Text(45.654545454545456, 27.17999999999998, 'gini = 0.0\\nsamples = 4\\nvalue = [0, 4]'),\n",
       " Text(53.263636363636365, 27.17999999999998, 'X[3] <= 7.64\\ngini = 0.391\\nsamples = 15\\nvalue = [4, 11]'),\n",
       " Text(49.45909090909091, 9.059999999999974, 'gini = 0.444\\nsamples = 3\\nvalue = [2, 1]'),\n",
       " Text(57.06818181818182, 9.059999999999974, 'gini = 0.278\\nsamples = 12\\nvalue = [2, 10]'),\n",
       " Text(57.06818181818182, 45.29999999999998, 'gini = 0.0\\nsamples = 1\\nvalue = [1, 0]'),\n",
       " Text(60.872727272727275, 63.41999999999999, 'gini = 0.0\\nsamples = 6\\nvalue = [0, 6]'),\n",
       " Text(60.872727272727275, 99.66, 'gini = 0.0\\nsamples = 1\\nvalue = [1, 0]'),\n",
       " Text(95.11363636363637, 117.77999999999999, 'X[3] <= 10.825\\ngini = 0.498\\nsamples = 43\\nvalue = [20, 23]'),\n",
       " Text(79.89545454545456, 99.66, 'X[0] <= 19.0\\ngini = 0.391\\nsamples = 15\\nvalue = [11, 4]'),\n",
       " Text(72.28636363636363, 81.53999999999999, 'X[0] <= 9.5\\ngini = 0.444\\nsamples = 3\\nvalue = [1, 2]'),\n",
       " Text(68.48181818181818, 63.41999999999999, 'gini = 0.0\\nsamples = 1\\nvalue = [1, 0]'),\n",
       " Text(76.0909090909091, 63.41999999999999, 'gini = 0.0\\nsamples = 2\\nvalue = [0, 2]'),\n",
       " Text(87.50454545454545, 81.53999999999999, 'X[3] <= 7.988\\ngini = 0.278\\nsamples = 12\\nvalue = [10, 2]'),\n",
       " Text(83.7, 63.41999999999999, 'X[0] <= 25.5\\ngini = 0.48\\nsamples = 5\\nvalue = [3, 2]'),\n",
       " Text(79.89545454545456, 45.29999999999998, 'gini = 0.0\\nsamples = 2\\nvalue = [2, 0]'),\n",
       " Text(87.50454545454545, 45.29999999999998, 'X[0] <= 27.5\\ngini = 0.444\\nsamples = 3\\nvalue = [1, 2]'),\n",
       " Text(83.7, 27.17999999999998, 'gini = 0.0\\nsamples = 2\\nvalue = [0, 2]'),\n",
       " Text(91.30909090909091, 27.17999999999998, 'gini = 0.0\\nsamples = 1\\nvalue = [1, 0]'),\n",
       " Text(91.30909090909091, 63.41999999999999, 'gini = 0.0\\nsamples = 7\\nvalue = [7, 0]'),\n",
       " Text(110.33181818181819, 99.66, 'X[0] <= 7.0\\ngini = 0.436\\nsamples = 28\\nvalue = [9, 19]'),\n",
       " Text(106.52727272727273, 81.53999999999999, 'gini = 0.0\\nsamples = 6\\nvalue = [0, 6]'),\n",
       " Text(114.13636363636364, 81.53999999999999, 'X[7] <= 0.5\\ngini = 0.483\\nsamples = 22\\nvalue = [9, 13]'),\n",
       " Text(110.33181818181819, 63.41999999999999, 'X[3] <= 17.25\\ngini = 0.5\\nsamples = 18\\nvalue = [9, 9]'),\n",
       " Text(102.72272727272727, 45.29999999999998, 'X[8] <= 0.5\\ngini = 0.473\\nsamples = 13\\nvalue = [5, 8]'),\n",
       " Text(98.91818181818182, 27.17999999999998, 'X[0] <= 29.321\\ngini = 0.469\\nsamples = 8\\nvalue = [5, 3]'),\n",
       " Text(95.11363636363637, 9.059999999999974, 'gini = 0.48\\nsamples = 5\\nvalue = [2, 3]'),\n",
       " Text(102.72272727272727, 9.059999999999974, 'gini = 0.0\\nsamples = 3\\nvalue = [3, 0]'),\n",
       " Text(106.52727272727273, 27.17999999999998, 'gini = 0.0\\nsamples = 5\\nvalue = [0, 5]'),\n",
       " Text(117.94090909090909, 45.29999999999998, 'X[8] <= 0.5\\ngini = 0.32\\nsamples = 5\\nvalue = [4, 1]'),\n",
       " Text(114.13636363636364, 27.17999999999998, 'gini = 0.0\\nsamples = 1\\nvalue = [0, 1]'),\n",
       " Text(121.74545454545455, 27.17999999999998, 'gini = 0.0\\nsamples = 4\\nvalue = [4, 0]'),\n",
       " Text(117.94090909090909, 63.41999999999999, 'gini = 0.0\\nsamples = 4\\nvalue = [0, 4]'),\n",
       " Text(125.55000000000001, 135.89999999999998, 'X[3] <= 16.45\\ngini = 0.26\\nsamples = 13\\nvalue = [11, 2]'),\n",
       " Text(121.74545454545455, 117.77999999999999, 'gini = 0.0\\nsamples = 9\\nvalue = [9, 0]'),\n",
       " Text(129.35454545454547, 117.77999999999999, 'X[3] <= 18.806\\ngini = 0.5\\nsamples = 4\\nvalue = [2, 2]'),\n",
       " Text(125.55000000000001, 99.66, 'gini = 0.0\\nsamples = 1\\nvalue = [0, 1]'),\n",
       " Text(133.1590909090909, 99.66, 'X[2] <= 1.5\\ngini = 0.444\\nsamples = 3\\nvalue = [2, 1]'),\n",
       " Text(129.35454545454547, 81.53999999999999, 'X[0] <= 32.5\\ngini = 0.5\\nsamples = 2\\nvalue = [1, 1]'),\n",
       " Text(125.55000000000001, 63.41999999999999, 'gini = 0.0\\nsamples = 1\\nvalue = [1, 0]'),\n",
       " Text(133.1590909090909, 63.41999999999999, 'gini = 0.0\\nsamples = 1\\nvalue = [0, 1]'),\n",
       " Text(136.96363636363637, 81.53999999999999, 'gini = 0.0\\nsamples = 1\\nvalue = [1, 0]'),\n",
       " Text(144.57272727272726, 154.01999999999998, 'X[0] <= 5.5\\ngini = 0.111\\nsamples = 17\\nvalue = [16, 1]'),\n",
       " Text(140.76818181818183, 135.89999999999998, 'X[0] <= 3.5\\ngini = 0.444\\nsamples = 3\\nvalue = [2, 1]'),\n",
       " Text(136.96363636363637, 117.77999999999999, 'gini = 0.0\\nsamples = 2\\nvalue = [2, 0]'),\n",
       " Text(144.57272727272726, 117.77999999999999, 'gini = 0.0\\nsamples = 1\\nvalue = [0, 1]'),\n",
       " Text(148.37727272727273, 135.89999999999998, 'gini = 0.0\\nsamples = 14\\nvalue = [14, 0]'),\n",
       " Text(272.8572443181818, 190.26, 'X[3] <= 26.269\\ngini = 0.31\\nsamples = 401\\nvalue = [324, 77]'),\n",
       " Text(239.44857954545455, 172.14, 'X[0] <= 10.0\\ngini = 0.225\\nsamples = 287\\nvalue = [250, 37]'),\n",
       " Text(235.6440340909091, 154.01999999999998, 'gini = 0.0\\nsamples = 8\\nvalue = [0, 8]'),\n",
       " Text(243.253125, 154.01999999999998, 'X[0] <= 32.5\\ngini = 0.186\\nsamples = 279\\nvalue = [250, 29]'),\n",
       " Text(216.38352272727275, 135.89999999999998, 'X[0] <= 30.75\\ngini = 0.225\\nsamples = 209\\nvalue = [182, 27]'),\n",
       " Text(181.66704545454547, 117.77999999999999, 'X[8] <= 0.5\\ngini = 0.204\\nsamples = 199\\nvalue = [176, 23]'),\n",
       " Text(154.08409090909092, 99.66, 'X[3] <= 22.465\\ngini = 0.305\\nsamples = 48\\nvalue = [39, 9]'),\n",
       " Text(150.27954545454546, 81.53999999999999, 'X[0] <= 13.5\\ngini = 0.282\\nsamples = 47\\nvalue = [39, 8]'),\n",
       " Text(140.76818181818183, 63.41999999999999, 'X[0] <= 11.5\\ngini = 0.5\\nsamples = 2\\nvalue = [1, 1]'),\n",
       " Text(136.96363636363637, 45.29999999999998, 'gini = 0.0\\nsamples = 1\\nvalue = [1, 0]'),\n",
       " Text(144.57272727272726, 45.29999999999998, 'gini = 0.0\\nsamples = 1\\nvalue = [0, 1]'),\n",
       " Text(159.7909090909091, 63.41999999999999, 'X[3] <= 7.746\\ngini = 0.263\\nsamples = 45\\nvalue = [38, 7]'),\n",
       " Text(152.1818181818182, 45.29999999999998, 'X[7] <= 0.5\\ngini = 0.172\\nsamples = 21\\nvalue = [19, 2]'),\n",
       " Text(148.37727272727273, 27.17999999999998, 'X[0] <= 21.0\\ngini = 0.245\\nsamples = 14\\nvalue = [12, 2]'),\n",
       " Text(144.57272727272726, 9.059999999999974, 'gini = 0.0\\nsamples = 3\\nvalue = [3, 0]'),\n",
       " Text(152.1818181818182, 9.059999999999974, 'gini = 0.298\\nsamples = 11\\nvalue = [9, 2]'),\n",
       " Text(155.98636363636365, 27.17999999999998, 'gini = 0.0\\nsamples = 7\\nvalue = [7, 0]'),\n",
       " Text(167.4, 45.29999999999998, 'X[2] <= 0.5\\ngini = 0.33\\nsamples = 24\\nvalue = [19, 5]'),\n",
       " Text(163.59545454545454, 27.17999999999998, 'X[0] <= 29.321\\ngini = 0.287\\nsamples = 23\\nvalue = [19, 4]'),\n",
       " Text(159.7909090909091, 9.059999999999974, 'gini = 0.5\\nsamples = 4\\nvalue = [2, 2]'),\n",
       " Text(167.4, 9.059999999999974, 'gini = 0.188\\nsamples = 19\\nvalue = [17, 2]'),\n",
       " Text(171.20454545454547, 27.17999999999998, 'gini = 0.0\\nsamples = 1\\nvalue = [0, 1]'),\n",
       " Text(157.88863636363638, 81.53999999999999, 'gini = 0.0\\nsamples = 1\\nvalue = [0, 1]'),\n",
       " Text(209.25, 99.66, 'X[3] <= 13.75\\ngini = 0.168\\nsamples = 151\\nvalue = [137, 14]'),\n",
       " Text(205.44545454545454, 81.53999999999999, 'X[3] <= 7.91\\ngini = 0.191\\nsamples = 131\\nvalue = [117, 14]'),\n",
       " Text(190.22727272727275, 63.41999999999999, 'X[3] <= 7.798\\ngini = 0.14\\nsamples = 66\\nvalue = [61, 5]'),\n",
       " Text(186.4227272727273, 45.29999999999998, 'X[3] <= 7.763\\ngini = 0.234\\nsamples = 37\\nvalue = [32, 5]'),\n",
       " Text(178.81363636363636, 27.17999999999998, 'X[3] <= 7.196\\ngini = 0.142\\nsamples = 26\\nvalue = [24, 2]'),\n",
       " Text(175.0090909090909, 9.059999999999974, 'gini = 0.26\\nsamples = 13\\nvalue = [11, 2]'),\n",
       " Text(182.61818181818182, 9.059999999999974, 'gini = 0.0\\nsamples = 13\\nvalue = [13, 0]'),\n",
       " Text(194.03181818181818, 27.17999999999998, 'X[0] <= 20.0\\ngini = 0.397\\nsamples = 11\\nvalue = [8, 3]'),\n",
       " Text(190.22727272727275, 9.059999999999974, 'gini = 0.0\\nsamples = 4\\nvalue = [4, 0]'),\n",
       " Text(197.83636363636364, 9.059999999999974, 'gini = 0.49\\nsamples = 7\\nvalue = [4, 3]'),\n",
       " Text(194.03181818181818, 45.29999999999998, 'gini = 0.0\\nsamples = 29\\nvalue = [29, 0]'),\n",
       " Text(220.66363636363639, 63.41999999999999, 'X[0] <= 26.5\\ngini = 0.239\\nsamples = 65\\nvalue = [56, 9]'),\n",
       " Text(213.05454545454546, 45.29999999999998, 'X[0] <= 20.5\\ngini = 0.176\\nsamples = 41\\nvalue = [37, 4]'),\n",
       " Text(209.25, 27.17999999999998, 'X[3] <= 8.175\\ngini = 0.32\\nsamples = 20\\nvalue = [16, 4]'),\n",
       " Text(205.44545454545454, 9.059999999999974, 'gini = 0.5\\nsamples = 6\\nvalue = [3, 3]'),\n",
       " Text(213.05454545454546, 9.059999999999974, 'gini = 0.133\\nsamples = 14\\nvalue = [13, 1]'),\n",
       " Text(216.85909090909092, 27.17999999999998, 'gini = 0.0\\nsamples = 21\\nvalue = [21, 0]'),\n",
       " Text(228.27272727272728, 45.29999999999998, 'X[3] <= 8.081\\ngini = 0.33\\nsamples = 24\\nvalue = [19, 5]'),\n",
       " Text(224.46818181818182, 27.17999999999998, 'gini = 0.0\\nsamples = 12\\nvalue = [12, 0]'),\n",
       " Text(232.07727272727274, 27.17999999999998, 'X[3] <= 9.081\\ngini = 0.486\\nsamples = 12\\nvalue = [7, 5]'),\n",
       " Text(228.27272727272728, 9.059999999999974, 'gini = 0.0\\nsamples = 2\\nvalue = [0, 2]'),\n",
       " Text(235.88181818181818, 9.059999999999974, 'gini = 0.42\\nsamples = 10\\nvalue = [7, 3]'),\n",
       " Text(213.05454545454546, 81.53999999999999, 'gini = 0.0\\nsamples = 20\\nvalue = [20, 0]'),\n",
       " Text(251.10000000000002, 117.77999999999999, 'X[3] <= 7.85\\ngini = 0.48\\nsamples = 10\\nvalue = [6, 4]'),\n",
       " Text(247.29545454545456, 99.66, 'gini = 0.0\\nsamples = 2\\nvalue = [2, 0]'),\n",
       " Text(254.90454545454546, 99.66, 'X[2] <= 0.5\\ngini = 0.5\\nsamples = 8\\nvalue = [4, 4]'),\n",
       " Text(251.10000000000002, 81.53999999999999, 'X[3] <= 11.75\\ngini = 0.49\\nsamples = 7\\nvalue = [3, 4]'),\n",
       " Text(247.29545454545456, 63.41999999999999, 'X[3] <= 8.144\\ngini = 0.48\\nsamples = 5\\nvalue = [3, 2]'),\n",
       " Text(243.4909090909091, 45.29999999999998, 'X[0] <= 31.5\\ngini = 0.444\\nsamples = 3\\nvalue = [1, 2]'),\n",
       " Text(239.68636363636364, 27.17999999999998, 'gini = 0.0\\nsamples = 1\\nvalue = [0, 1]'),\n",
       " Text(247.29545454545456, 27.17999999999998, 'gini = 0.5\\nsamples = 2\\nvalue = [1, 1]'),\n",
       " Text(251.10000000000002, 45.29999999999998, 'gini = 0.0\\nsamples = 2\\nvalue = [2, 0]'),\n",
       " Text(254.90454545454546, 63.41999999999999, 'gini = 0.0\\nsamples = 2\\nvalue = [0, 2]'),\n",
       " Text(258.70909090909095, 81.53999999999999, 'gini = 0.0\\nsamples = 1\\nvalue = [1, 0]'),\n",
       " Text(270.1227272727273, 135.89999999999998, 'X[0] <= 42.5\\ngini = 0.056\\nsamples = 70\\nvalue = [68, 2]'),\n",
       " Text(266.3181818181818, 117.77999999999999, 'X[0] <= 38.5\\ngini = 0.093\\nsamples = 41\\nvalue = [39, 2]'),\n",
       " Text(262.51363636363635, 99.66, 'gini = 0.0\\nsamples = 28\\nvalue = [28, 0]'),\n",
       " Text(270.1227272727273, 99.66, 'X[3] <= 13.75\\ngini = 0.26\\nsamples = 13\\nvalue = [11, 2]'),\n",
       " Text(266.3181818181818, 81.53999999999999, 'X[3] <= 7.788\\ngini = 0.346\\nsamples = 9\\nvalue = [7, 2]'),\n",
       " Text(262.51363636363635, 63.41999999999999, 'gini = 0.0\\nsamples = 3\\nvalue = [3, 0]'),\n",
       " Text(270.1227272727273, 63.41999999999999, 'X[3] <= 8.294\\ngini = 0.444\\nsamples = 6\\nvalue = [4, 2]'),\n",
       " Text(266.3181818181818, 45.29999999999998, 'gini = 0.5\\nsamples = 2\\nvalue = [1, 1]'),\n",
       " Text(273.92727272727274, 45.29999999999998, 'X[3] <= 10.831\\ngini = 0.375\\nsamples = 4\\nvalue = [3, 1]'),\n",
       " Text(270.1227272727273, 27.17999999999998, 'gini = 0.0\\nsamples = 1\\nvalue = [1, 0]'),\n",
       " Text(277.7318181818182, 27.17999999999998, 'X[0] <= 40.5\\ngini = 0.444\\nsamples = 3\\nvalue = [2, 1]'),\n",
       " Text(273.92727272727274, 9.059999999999974, 'gini = 0.0\\nsamples = 1\\nvalue = [1, 0]'),\n",
       " Text(281.53636363636366, 9.059999999999974, 'gini = 0.5\\nsamples = 2\\nvalue = [1, 1]'),\n",
       " Text(273.92727272727274, 81.53999999999999, 'gini = 0.0\\nsamples = 4\\nvalue = [4, 0]'),\n",
       " Text(273.92727272727274, 117.77999999999999, 'gini = 0.0\\nsamples = 29\\nvalue = [29, 0]'),\n",
       " Text(306.2659090909091, 172.14, 'X[1] <= 1.5\\ngini = 0.456\\nsamples = 114\\nvalue = [74, 40]'),\n",
       " Text(302.46136363636367, 154.01999999999998, 'X[3] <= 26.469\\ngini = 0.489\\nsamples = 94\\nvalue = [54, 40]'),\n",
       " Text(298.6568181818182, 135.89999999999998, 'gini = 0.0\\nsamples = 4\\nvalue = [0, 4]'),\n",
       " Text(306.2659090909091, 135.89999999999998, 'X[0] <= 12.0\\ngini = 0.48\\nsamples = 90\\nvalue = [54, 36]'),\n",
       " Text(302.46136363636367, 117.77999999999999, 'gini = 0.0\\nsamples = 3\\nvalue = [0, 3]'),\n",
       " Text(310.07045454545454, 117.77999999999999, 'X[3] <= 52.277\\ngini = 0.471\\nsamples = 87\\nvalue = [54, 33]'),\n",
       " Text(300.5590909090909, 99.66, 'X[2] <= 0.5\\ngini = 0.403\\nsamples = 50\\nvalue = [36, 14]'),\n",
       " Text(296.75454545454545, 81.53999999999999, 'X[0] <= 27.5\\ngini = 0.439\\nsamples = 43\\nvalue = [29, 14]'),\n",
       " Text(292.95, 63.41999999999999, 'gini = 0.0\\nsamples = 2\\nvalue = [0, 2]'),\n",
       " Text(300.5590909090909, 63.41999999999999, 'X[0] <= 75.5\\ngini = 0.414\\nsamples = 41\\nvalue = [29, 12]'),\n",
       " Text(296.75454545454545, 45.29999999999998, 'X[0] <= 57.0\\ngini = 0.399\\nsamples = 40\\nvalue = [29, 11]'),\n",
       " Text(292.95, 27.17999999999998, 'X[3] <= 26.775\\ngini = 0.438\\nsamples = 34\\nvalue = [23, 11]'),\n",
       " Text(289.1454545454545, 9.059999999999974, 'gini = 0.444\\nsamples = 6\\nvalue = [2, 4]'),\n",
       " Text(296.75454545454545, 9.059999999999974, 'gini = 0.375\\nsamples = 28\\nvalue = [21, 7]'),\n",
       " Text(300.5590909090909, 27.17999999999998, 'gini = 0.0\\nsamples = 6\\nvalue = [6, 0]'),\n",
       " Text(304.3636363636364, 45.29999999999998, 'gini = 0.0\\nsamples = 1\\nvalue = [0, 1]'),\n",
       " Text(304.3636363636364, 81.53999999999999, 'gini = 0.0\\nsamples = 7\\nvalue = [7, 0]'),\n",
       " Text(319.5818181818182, 99.66, 'X[3] <= 59.19\\ngini = 0.5\\nsamples = 37\\nvalue = [18, 19]'),\n",
       " Text(311.9727272727273, 81.53999999999999, 'X[0] <= 22.0\\ngini = 0.18\\nsamples = 10\\nvalue = [1, 9]'),\n",
       " Text(308.16818181818184, 63.41999999999999, 'gini = 0.0\\nsamples = 1\\nvalue = [1, 0]'),\n",
       " Text(315.77727272727276, 63.41999999999999, 'gini = 0.0\\nsamples = 9\\nvalue = [0, 9]'),\n",
       " Text(327.1909090909091, 81.53999999999999, 'X[3] <= 387.665\\ngini = 0.466\\nsamples = 27\\nvalue = [17, 10]'),\n",
       " Text(323.3863636363636, 63.41999999999999, 'X[3] <= 136.731\\ngini = 0.435\\nsamples = 25\\nvalue = [17, 8]'),\n",
       " Text(319.5818181818182, 45.29999999999998, 'X[0] <= 22.0\\ngini = 0.472\\nsamples = 21\\nvalue = [13, 8]'),\n",
       " Text(315.77727272727276, 27.17999999999998, 'gini = 0.0\\nsamples = 3\\nvalue = [3, 0]'),\n",
       " Text(323.3863636363636, 27.17999999999998, 'X[0] <= 27.5\\ngini = 0.494\\nsamples = 18\\nvalue = [10, 8]'),\n",
       " Text(319.5818181818182, 9.059999999999974, 'gini = 0.0\\nsamples = 3\\nvalue = [0, 3]'),\n",
       " Text(327.1909090909091, 9.059999999999974, 'gini = 0.444\\nsamples = 15\\nvalue = [10, 5]'),\n",
       " Text(327.1909090909091, 45.29999999999998, 'gini = 0.0\\nsamples = 4\\nvalue = [4, 0]'),\n",
       " Text(330.99545454545455, 63.41999999999999, 'gini = 0.0\\nsamples = 2\\nvalue = [0, 2]'),\n",
       " Text(310.07045454545454, 154.01999999999998, 'gini = 0.0\\nsamples = 20\\nvalue = [20, 0]')]"
      ]
     },
     "execution_count": 41,
     "metadata": {},
     "output_type": "execute_result"
    },
    {
     "data": {
      "image/png": "[encoded data removed]",
      "text/plain": [
       "<Figure size 432x288 with 1 Axes>"
      ]
     },
     "metadata": {
      "needs_background": "light"
     },
     "output_type": "display_data"
    }
   ],
   "source": [
    "from sklearn.tree import DecisionTreeClassifier\n",
    "from sklearn import tree\n",
    "clf_2=DecisionTreeClassifier(max_depth=11)\n",
    "clf_2.fit(X_train,y_train)\n",
    "tree.plot_tree(clf_2)  "
   ]
  },
  {
   "cell_type": "code",
   "execution_count": 42,
   "metadata": {},
   "outputs": [
    {
     "name": "stdout",
     "output_type": "stream",
     "text": [
      "0.8059701492537313\n"
     ]
    }
   ],
   "source": [
    "decisionTree_acc=accuracy_score(y_test, clf_2.predict(X_test))\n",
    "print(decisionTree_acc)"
   ]
  },
  {
   "cell_type": "code",
   "execution_count": 43,
   "metadata": {},
   "outputs": [
    {
     "name": "stdout",
     "output_type": "stream",
     "text": [
      "0.7254901960784313\n"
     ]
    }
   ],
   "source": [
    "decisionTree_recall = recall_score(y_test, clf_2.predict(X_test))\n",
    "print(decisionTree_recall)"
   ]
  },
  {
   "cell_type": "code",
   "execution_count": 44,
   "metadata": {},
   "outputs": [
    {
     "name": "stdout",
     "output_type": "stream",
     "text": [
      "0.7551020408163265\n"
     ]
    }
   ],
   "source": [
    "decisionTree_precision = precision_score(y_test, clf_2.predict(X_test))\n",
    "print(decisionTree_precision)"
   ]
  },
  {
   "cell_type": "markdown",
   "metadata": {},
   "source": [
    "\n",
    "###### using cross-validation "
   ]
  },
  {
   "cell_type": "code",
   "execution_count": 63,
   "metadata": {},
   "outputs": [
    {
     "name": "stdout",
     "output_type": "stream",
     "text": [
      "0.8087589376915219\n"
     ]
    }
   ],
   "source": [
    "#initial hyper-parameters\n",
    "decisionTree = DecisionTreeClassifier(max_depth=11,  random_state=10)\n",
    "dec_scores = cross_val_score(logistic, X_train_original, y_train_original, cv=10, scoring='accuracy')\n",
    "print (dec_scores.mean())"
   ]
  },
  {
   "cell_type": "code",
   "execution_count": 64,
   "metadata": {},
   "outputs": [],
   "source": [
    "#tuning the hyper-parameters\n",
    "depth_values = range(1, 25)\n",
    "best_scores = []\n",
    "different_parameters = []\n",
    "for j in depth_values:\n",
    "    decisionTree = DecisionTreeClassifier(max_depth=j,  random_state=10)\n",
    "    dec_scores = cross_val_score(decisionTree, X_train_original, y_train_original, cv=10, scoring='accuracy')\n",
    "    best_scores.append(dec_scores.mean())\n",
    "    different_parameters.append(str(j))\n",
    "# print(best_scores)"
   ]
  },
  {
   "cell_type": "code",
   "execution_count": 65,
   "metadata": {},
   "outputs": [
    {
     "data": {
      "text/plain": [
       "Text(0, 0.5, 'Cross-Validated Accuracy')"
      ]
     },
     "execution_count": 65,
     "metadata": {},
     "output_type": "execute_result"
    },
    {
     "data": {
      "image/png": "[encoded data removed]",
      "text/plain": [
       "<Figure size 720x360 with 1 Axes>"
      ]
     },
     "metadata": {
      "needs_background": "light"
     },
     "output_type": "display_data"
    }
   ],
   "source": [
    "plt.figure(figsize=(10,5))\n",
    "plt.plot(different_parameters, best_scores)\n",
    "plt.xlabel(\"Different parameters values (Max_Depth)\")\n",
    "plt.ylabel(\"Cross-Validated Accuracy\")"
   ]
  },
  {
   "cell_type": "markdown",
   "metadata": {},
   "source": [
    "from the plot above we pick the values (Max_Depth = 7)"
   ]
  },
  {
   "cell_type": "code",
   "execution_count": 66,
   "metadata": {},
   "outputs": [
    {
     "name": "stdout",
     "output_type": "stream",
     "text": [
      "[[506  43]\n",
      " [117 223]]\n",
      "              precision    recall  f1-score   support\n",
      "\n",
      "           0       0.81      0.92      0.86       549\n",
      "           1       0.84      0.66      0.74       340\n",
      "\n",
      "    accuracy                           0.82       889\n",
      "   macro avg       0.83      0.79      0.80       889\n",
      "weighted avg       0.82      0.82      0.81       889\n",
      "\n",
      "Accuracy (train): 0.8200224971878515\n",
      "[[66 17]\n",
      " [17 34]]\n",
      "              precision    recall  f1-score   support\n",
      "\n",
      "           0       0.80      0.80      0.80        83\n",
      "           1       0.67      0.67      0.67        51\n",
      "\n",
      "    accuracy                           0.75       134\n",
      "   macro avg       0.73      0.73      0.73       134\n",
      "weighted avg       0.75      0.75      0.75       134\n",
      "\n",
      "Accuracy (test): 0.746268656716418\n"
     ]
    }
   ],
   "source": [
    "decisionTree = DecisionTreeClassifier(max_depth=7, random_state=10)\n",
    "\n",
    "y_pred = cross_val_predict(decisionTree, X_train_original, y_train_original, cv=10)\n",
    "conf_mat = confusion_matrix(y_train_original, y_pred)\n",
    "print(conf_mat)\n",
    "print(classification_report(y_train_original, y_pred))\n",
    "print(\"Accuracy (train):\", accuracy_score(y_train_original, y_pred))\n",
    "\n",
    "y_pred = cross_val_predict(decisionTree, X_test, y_test, cv=10)\n",
    "conf_mat = confusion_matrix(y_test, y_pred)\n",
    "\n",
    "cv_decisionTree_acc = accuracy_score(y_test, y_pred)\n",
    "cv_decisionTree_recall = recall_score(y_test, y_pred)\n",
    "cv_decisionTree_precision = precision_score(y_test, y_pred)\n",
    "\n",
    "print(conf_mat)\n",
    "print(classification_report(y_test, y_pred))\n",
    "print(\"Accuracy (test):\", cv_decisionTree_acc)"
   ]
  },
  {
   "cell_type": "markdown",
   "metadata": {},
   "source": [
    "### 3) Random Forest model"
   ]
  },
  {
   "cell_type": "code",
   "execution_count": 67,
   "metadata": {},
   "outputs": [
    {
     "data": {
      "text/plain": [
       "RandomForestClassifier(n_jobs=-1, oob_score=True, random_state=10)"
      ]
     },
     "execution_count": 67,
     "metadata": {},
     "output_type": "execute_result"
    }
   ],
   "source": [
    "from sklearn.ensemble import RandomForestClassifier \n",
    "clf_3 = RandomForestClassifier(n_estimators = 100, oob_score=True, n_jobs = -1, random_state= 10)\n",
    "clf_3.fit(X_train, y_train)"
   ]
  },
  {
   "cell_type": "code",
   "execution_count": 68,
   "metadata": {},
   "outputs": [],
   "source": [
    "randomForest_acc=accuracy_score(y_test, clf_3.predict(X_test))"
   ]
  },
  {
   "cell_type": "code",
   "execution_count": 69,
   "metadata": {},
   "outputs": [
    {
     "name": "stdout",
     "output_type": "stream",
     "text": [
      "0.7450980392156863\n"
     ]
    }
   ],
   "source": [
    "randomForest_recall = recall_score(y_test, clf_3.predict(X_test))\n",
    "print(randomForest_recall)"
   ]
  },
  {
   "cell_type": "code",
   "execution_count": 70,
   "metadata": {},
   "outputs": [],
   "source": [
    "randomForest_precision = precision_score(y_test, clf_3.predict(X_test))"
   ]
  },
  {
   "cell_type": "markdown",
   "metadata": {},
   "source": [
    "\n",
    "###### using cross-validation "
   ]
  },
  {
   "cell_type": "code",
   "execution_count": 71,
   "metadata": {},
   "outputs": [
    {
     "name": "stdout",
     "output_type": "stream",
     "text": [
      "0.8020684371807969\n"
     ]
    }
   ],
   "source": [
    "#initial hyper-parameters\n",
    "randomForest = RandomForestClassifier(n_estimators = 100, oob_score=True, n_jobs = -1, random_state= 10)\n",
    "rf_scores = cross_val_score(randomForest, X_train_original, y_train_original, cv=10, scoring='accuracy')\n",
    "print (rf_scores.mean())"
   ]
  },
  {
   "cell_type": "code",
   "execution_count": 72,
   "metadata": {},
   "outputs": [],
   "source": [
    "#tuning the hyper-parameters\n",
    "n_estimators_values = range(50, 150)\n",
    "best_scores = []\n",
    "different_parameters = []\n",
    "for j in n_estimators_values:\n",
    "    randomForest = RandomForestClassifier(n_estimators = j, oob_score=True, n_jobs = -1, random_state=10)\n",
    "    rf_scores = cross_val_score(randomForest, X_train_original, y_train_original, cv=10, scoring='accuracy')\n",
    "    best_scores.append(rf_scores.mean())\n",
    "    different_parameters.append(str(j))"
   ]
  },
  {
   "cell_type": "code",
   "execution_count": 73,
   "metadata": {},
   "outputs": [
    {
     "data": {
      "text/plain": [
       "Text(0, 0.5, 'Cross-Validated Accuracy')"
      ]
     },
     "execution_count": 73,
     "metadata": {},
     "output_type": "execute_result"
    },
    {
     "data": {
      "image/png": "[encoded data removed]",
      "text/plain": [
       "<Figure size 2880x360 with 1 Axes>"
      ]
     },
     "metadata": {
      "needs_background": "light"
     },
     "output_type": "display_data"
    }
   ],
   "source": [
    "plt.figure(figsize=(40,5))\n",
    "plt.plot(different_parameters, best_scores)\n",
    "plt.xlabel(\"Different parameters values (number of trees)\")\n",
    "plt.ylabel(\"Cross-Validated Accuracy\")"
   ]
  },
  {
   "cell_type": "markdown",
   "metadata": {},
   "source": [
    "from the plot above we pick the values (n_estimators = 84)"
   ]
  },
  {
   "cell_type": "code",
   "execution_count": 74,
   "metadata": {},
   "outputs": [
    {
     "name": "stdout",
     "output_type": "stream",
     "text": [
      "[[473  76]\n",
      " [ 90 250]]\n",
      "              precision    recall  f1-score   support\n",
      "\n",
      "           0       0.84      0.86      0.85       549\n",
      "           1       0.77      0.74      0.75       340\n",
      "\n",
      "    accuracy                           0.81       889\n",
      "   macro avg       0.80      0.80      0.80       889\n",
      "weighted avg       0.81      0.81      0.81       889\n",
      "\n",
      "Accuracy (train): 0.813273340832396\n",
      "[[71 12]\n",
      " [14 37]]\n",
      "              precision    recall  f1-score   support\n",
      "\n",
      "           0       0.84      0.86      0.85        83\n",
      "           1       0.76      0.73      0.74        51\n",
      "\n",
      "    accuracy                           0.81       134\n",
      "   macro avg       0.80      0.79      0.79       134\n",
      "weighted avg       0.80      0.81      0.81       134\n",
      "\n",
      "Accuracy (test): 0.8059701492537313\n"
     ]
    }
   ],
   "source": [
    "randomForest = RandomForestClassifier(n_estimators = 84, oob_score=True, n_jobs = -1, random_state = 0)\n",
    "\n",
    "y_pred = cross_val_predict(randomForest, X_train_original, y_train_original, cv=10)\n",
    "conf_mat = confusion_matrix(y_train_original, y_pred)\n",
    "print(conf_mat)\n",
    "print(classification_report(y_train_original, y_pred))\n",
    "print(\"Accuracy (train):\", accuracy_score(y_train_original, y_pred))\n",
    "\n",
    "y_pred = cross_val_predict(randomForest, X_test, y_test, cv=10)\n",
    "conf_mat = confusion_matrix(y_test, y_pred)\n",
    "\n",
    "cv_randomForest_acc = accuracy_score(y_test, y_pred)\n",
    "cv_randomForest_recall = recall_score(y_test, y_pred)\n",
    "cv_randomForest_precision = precision_score(y_test, y_pred)\n",
    "\n",
    "print(conf_mat)\n",
    "print(classification_report(y_test, y_pred))\n",
    "print(\"Accuracy (test):\", cv_randomForest_acc)"
   ]
  },
  {
   "cell_type": "code",
   "execution_count": 75,
   "metadata": {},
   "outputs": [
    {
     "name": "stdout",
     "output_type": "stream",
     "text": [
      "Accuracy scores for the training data (without cross validation):-\n"
     ]
    },
    {
     "data": {
      "text/html": [
       "<div>\n",
       "<style scoped>\n",
       "    .dataframe tbody tr th:only-of-type {\n",
       "        vertical-align: middle;\n",
       "    }\n",
       "\n",
       "    .dataframe tbody tr th {\n",
       "        vertical-align: top;\n",
       "    }\n",
       "\n",
       "    .dataframe thead th {\n",
       "        text-align: right;\n",
       "    }\n",
       "</style>\n",
       "<table border=\"1\" class=\"dataframe\">\n",
       "  <thead>\n",
       "    <tr style=\"text-align: right;\">\n",
       "      <th></th>\n",
       "      <th>Model</th>\n",
       "      <th>Accuracy</th>\n",
       "      <th>Recall</th>\n",
       "      <th>Precision</th>\n",
       "    </tr>\n",
       "  </thead>\n",
       "  <tbody>\n",
       "    <tr>\n",
       "      <th>2</th>\n",
       "      <td>Random Forest</td>\n",
       "      <td>0.835821</td>\n",
       "      <td>0.745098</td>\n",
       "      <td>0.808511</td>\n",
       "    </tr>\n",
       "    <tr>\n",
       "      <th>1</th>\n",
       "      <td>Decision Tree</td>\n",
       "      <td>0.805970</td>\n",
       "      <td>0.725490</td>\n",
       "      <td>0.755102</td>\n",
       "    </tr>\n",
       "    <tr>\n",
       "      <th>0</th>\n",
       "      <td>Logistic Regression</td>\n",
       "      <td>0.798507</td>\n",
       "      <td>0.647059</td>\n",
       "      <td>0.785714</td>\n",
       "    </tr>\n",
       "  </tbody>\n",
       "</table>\n",
       "</div>"
      ],
      "text/plain": [
       "                 Model  Accuracy    Recall  Precision\n",
       "2        Random Forest  0.835821  0.745098   0.808511\n",
       "1        Decision Tree  0.805970  0.725490   0.755102\n",
       "0  Logistic Regression  0.798507  0.647059   0.785714"
      ]
     },
     "execution_count": 75,
     "metadata": {},
     "output_type": "execute_result"
    }
   ],
   "source": [
    "models = pd.DataFrame({\n",
    "    'Model': ['Logistic Regression',\n",
    "              'Decision Tree',\n",
    "             'Random Forest'],\n",
    "    'Accuracy': [\n",
    "        logisticRegression_acc, \n",
    "        decisionTree_acc,\n",
    "        randomForest_acc],\n",
    "    'Recall': [\n",
    "        logisticRegression_recall, \n",
    "        decisionTree_recall,\n",
    "        randomForest_recall],\n",
    "    'Precision': [\n",
    "        logisticRegression_precision, \n",
    "        decisionTree_precision,\n",
    "        randomForest_precision]\n",
    "    })\n",
    "print(\"Accuracy scores for the training data (without cross validation):-\")\n",
    "models.sort_values(by='Accuracy', ascending=False)"
   ]
  },
  {
   "cell_type": "code",
   "execution_count": 76,
   "metadata": {},
   "outputs": [
    {
     "name": "stdout",
     "output_type": "stream",
     "text": [
      "Accuracy scores for test data (with cross validation):-\n"
     ]
    },
    {
     "data": {
      "text/html": [
       "<div>\n",
       "<style scoped>\n",
       "    .dataframe tbody tr th:only-of-type {\n",
       "        vertical-align: middle;\n",
       "    }\n",
       "\n",
       "    .dataframe tbody tr th {\n",
       "        vertical-align: top;\n",
       "    }\n",
       "\n",
       "    .dataframe thead th {\n",
       "        text-align: right;\n",
       "    }\n",
       "</style>\n",
       "<table border=\"1\" class=\"dataframe\">\n",
       "  <thead>\n",
       "    <tr style=\"text-align: right;\">\n",
       "      <th></th>\n",
       "      <th>Model</th>\n",
       "      <th>Accuracy</th>\n",
       "      <th>Recall</th>\n",
       "      <th>Precision</th>\n",
       "    </tr>\n",
       "  </thead>\n",
       "  <tbody>\n",
       "    <tr>\n",
       "      <th>2</th>\n",
       "      <td>Random Forest</td>\n",
       "      <td>0.805970</td>\n",
       "      <td>0.725490</td>\n",
       "      <td>0.755102</td>\n",
       "    </tr>\n",
       "    <tr>\n",
       "      <th>0</th>\n",
       "      <td>Logistic Regression</td>\n",
       "      <td>0.783582</td>\n",
       "      <td>0.568627</td>\n",
       "      <td>0.805556</td>\n",
       "    </tr>\n",
       "    <tr>\n",
       "      <th>1</th>\n",
       "      <td>Decision Tree</td>\n",
       "      <td>0.746269</td>\n",
       "      <td>0.666667</td>\n",
       "      <td>0.666667</td>\n",
       "    </tr>\n",
       "  </tbody>\n",
       "</table>\n",
       "</div>"
      ],
      "text/plain": [
       "                 Model  Accuracy    Recall  Precision\n",
       "2        Random Forest  0.805970  0.725490   0.755102\n",
       "0  Logistic Regression  0.783582  0.568627   0.805556\n",
       "1        Decision Tree  0.746269  0.666667   0.666667"
      ]
     },
     "execution_count": 76,
     "metadata": {},
     "output_type": "execute_result"
    }
   ],
   "source": [
    "models = pd.DataFrame({\n",
    "    'Model': ['Logistic Regression',\n",
    "              'Decision Tree',\n",
    "             'Random Forest'],\n",
    "    'Accuracy': [\n",
    "        cv_logisticRegression_acc, \n",
    "        cv_decisionTree_acc,\n",
    "        cv_randomForest_acc],\n",
    "    'Recall': [\n",
    "        cv_logisticRegression_recall, \n",
    "        cv_decisionTree_recall,\n",
    "        cv_randomForest_recall],\n",
    "    'Precision': [\n",
    "        cv_logisticRegression_precision, \n",
    "        cv_decisionTree_precision,\n",
    "        cv_randomForest_precision]\n",
    "    })\n",
    "print(\"Accuracy scores for test data (with cross validation):-\")\n",
    "models.sort_values(by='Accuracy', ascending=False)"
   ]
  },
  {
   "cell_type": "code",
   "execution_count": 77,
   "metadata": {},
   "outputs": [
    {
     "data": {
      "text/plain": [
       "<matplotlib.axes._subplots.AxesSubplot at 0x15fe408ac70>"
      ]
     },
     "execution_count": 77,
     "metadata": {},
     "output_type": "execute_result"
    },
    {
     "data": {
      "image/png": "[encoded data removed]",
      "text/plain": [
       "<Figure size 720x432 with 1 Axes>"
      ]
     },
     "metadata": {
      "needs_background": "light"
     },
     "output_type": "display_data"
    }
   ],
   "source": [
    "#feature importance for decision tree algo\n",
    "feature_importance = pd.Series(clf_2.feature_importances_, index=X_train.columns)\n",
    "feature_importance.plot(kind = 'barh', figsize=(10,6))"
   ]
  },
  {
   "cell_type": "code",
   "execution_count": 78,
   "metadata": {},
   "outputs": [
    {
     "data": {
      "text/plain": [
       "<matplotlib.axes._subplots.AxesSubplot at 0x15fe4201af0>"
      ]
     },
     "execution_count": 78,
     "metadata": {},
     "output_type": "execute_result"
    },
    {
     "data": {
      "image/png": "[encoded data removed]",
      "text/plain": [
       "<Figure size 720x432 with 1 Axes>"
      ]
     },
     "metadata": {
      "needs_background": "light"
     },
     "output_type": "display_data"
    }
   ],
   "source": [
    "#feature importance for random forest algo\n",
    "feature_importance = pd.Series(clf_3.feature_importances_, index=X_train.columns)\n",
    "feature_importance.plot(kind = 'barh', figsize=(10,6))"
   ]
  },
  {
   "cell_type": "code",
   "execution_count": null,
   "metadata": {},
   "outputs": [],
   "source": []
  }
 ],
 "metadata": {
  "kernelspec": {
   "display_name": "Python 3",
   "language": "python",
   "name": "python3"
  },
  "language_info": {
   "codemirror_mode": {
    "name": "ipython",
    "version": 3
   },
   "file_extension": ".py",
   "mimetype": "text/x-python",
   "name": "python",
   "nbconvert_exporter": "python",
   "pygments_lexer": "ipython3",
   "version": "3.8.3"
  }
 },
 "nbformat": 4,
 "nbformat_minor": 4
}
